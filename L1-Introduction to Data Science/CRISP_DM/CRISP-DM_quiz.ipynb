{
 "cells": [
  {
   "cell_type": "markdown",
   "metadata": {},
   "source": [
    "# CRISP-DM Quiz"
   ]
  },
  {
   "cell_type": "markdown",
   "metadata": {},
   "source": [
    "## Quiz 1 - A Look at the Data\n",
    "\n",
    "In order to get a better understanding of the data we will be looking at throughout this lesson, let's take a look at some of the characteristics of the dataset.\n",
    "\n",
    "First, let's read in the data and necessary libraries."
   ]
  },
  {
   "cell_type": "code",
   "execution_count": 1,
   "metadata": {},
   "outputs": [
    {
     "data": {
      "text/html": [
       "<div>\n",
       "<style scoped>\n",
       "    .dataframe tbody tr th:only-of-type {\n",
       "        vertical-align: middle;\n",
       "    }\n",
       "\n",
       "    .dataframe tbody tr th {\n",
       "        vertical-align: top;\n",
       "    }\n",
       "\n",
       "    .dataframe thead th {\n",
       "        text-align: right;\n",
       "    }\n",
       "</style>\n",
       "<table border=\"1\" class=\"dataframe\">\n",
       "  <thead>\n",
       "    <tr style=\"text-align: right;\">\n",
       "      <th></th>\n",
       "      <th>Respondent</th>\n",
       "      <th>Professional</th>\n",
       "      <th>ProgramHobby</th>\n",
       "      <th>Country</th>\n",
       "      <th>University</th>\n",
       "      <th>EmploymentStatus</th>\n",
       "      <th>FormalEducation</th>\n",
       "      <th>MajorUndergrad</th>\n",
       "      <th>HomeRemote</th>\n",
       "      <th>CompanySize</th>\n",
       "      <th>...</th>\n",
       "      <th>StackOverflowMakeMoney</th>\n",
       "      <th>Gender</th>\n",
       "      <th>HighestEducationParents</th>\n",
       "      <th>Race</th>\n",
       "      <th>SurveyLong</th>\n",
       "      <th>QuestionsInteresting</th>\n",
       "      <th>QuestionsConfusing</th>\n",
       "      <th>InterestedAnswers</th>\n",
       "      <th>Salary</th>\n",
       "      <th>ExpectedSalary</th>\n",
       "    </tr>\n",
       "  </thead>\n",
       "  <tbody>\n",
       "    <tr>\n",
       "      <th>0</th>\n",
       "      <td>1</td>\n",
       "      <td>Student</td>\n",
       "      <td>Yes, both</td>\n",
       "      <td>United States</td>\n",
       "      <td>No</td>\n",
       "      <td>Not employed, and not looking for work</td>\n",
       "      <td>Secondary school</td>\n",
       "      <td>NaN</td>\n",
       "      <td>NaN</td>\n",
       "      <td>NaN</td>\n",
       "      <td>...</td>\n",
       "      <td>Strongly disagree</td>\n",
       "      <td>Male</td>\n",
       "      <td>High school</td>\n",
       "      <td>White or of European descent</td>\n",
       "      <td>Strongly disagree</td>\n",
       "      <td>Strongly agree</td>\n",
       "      <td>Disagree</td>\n",
       "      <td>Strongly agree</td>\n",
       "      <td>NaN</td>\n",
       "      <td>NaN</td>\n",
       "    </tr>\n",
       "    <tr>\n",
       "      <th>1</th>\n",
       "      <td>2</td>\n",
       "      <td>Student</td>\n",
       "      <td>Yes, both</td>\n",
       "      <td>United Kingdom</td>\n",
       "      <td>Yes, full-time</td>\n",
       "      <td>Employed part-time</td>\n",
       "      <td>Some college/university study without earning ...</td>\n",
       "      <td>Computer science or software engineering</td>\n",
       "      <td>More than half, but not all, the time</td>\n",
       "      <td>20 to 99 employees</td>\n",
       "      <td>...</td>\n",
       "      <td>Strongly disagree</td>\n",
       "      <td>Male</td>\n",
       "      <td>A master's degree</td>\n",
       "      <td>White or of European descent</td>\n",
       "      <td>Somewhat agree</td>\n",
       "      <td>Somewhat agree</td>\n",
       "      <td>Disagree</td>\n",
       "      <td>Strongly agree</td>\n",
       "      <td>NaN</td>\n",
       "      <td>37500.0</td>\n",
       "    </tr>\n",
       "    <tr>\n",
       "      <th>2</th>\n",
       "      <td>3</td>\n",
       "      <td>Professional developer</td>\n",
       "      <td>Yes, both</td>\n",
       "      <td>United Kingdom</td>\n",
       "      <td>No</td>\n",
       "      <td>Employed full-time</td>\n",
       "      <td>Bachelor's degree</td>\n",
       "      <td>Computer science or software engineering</td>\n",
       "      <td>Less than half the time, but at least one day ...</td>\n",
       "      <td>10,000 or more employees</td>\n",
       "      <td>...</td>\n",
       "      <td>Disagree</td>\n",
       "      <td>Male</td>\n",
       "      <td>A professional degree</td>\n",
       "      <td>White or of European descent</td>\n",
       "      <td>Somewhat agree</td>\n",
       "      <td>Agree</td>\n",
       "      <td>Disagree</td>\n",
       "      <td>Agree</td>\n",
       "      <td>113750.0</td>\n",
       "      <td>NaN</td>\n",
       "    </tr>\n",
       "    <tr>\n",
       "      <th>3</th>\n",
       "      <td>4</td>\n",
       "      <td>Professional non-developer who sometimes write...</td>\n",
       "      <td>Yes, both</td>\n",
       "      <td>United States</td>\n",
       "      <td>No</td>\n",
       "      <td>Employed full-time</td>\n",
       "      <td>Doctoral degree</td>\n",
       "      <td>A non-computer-focused engineering discipline</td>\n",
       "      <td>Less than half the time, but at least one day ...</td>\n",
       "      <td>10,000 or more employees</td>\n",
       "      <td>...</td>\n",
       "      <td>Disagree</td>\n",
       "      <td>Male</td>\n",
       "      <td>A doctoral degree</td>\n",
       "      <td>White or of European descent</td>\n",
       "      <td>Agree</td>\n",
       "      <td>Agree</td>\n",
       "      <td>Somewhat agree</td>\n",
       "      <td>Strongly agree</td>\n",
       "      <td>NaN</td>\n",
       "      <td>NaN</td>\n",
       "    </tr>\n",
       "    <tr>\n",
       "      <th>4</th>\n",
       "      <td>5</td>\n",
       "      <td>Professional developer</td>\n",
       "      <td>Yes, I program as a hobby</td>\n",
       "      <td>Switzerland</td>\n",
       "      <td>No</td>\n",
       "      <td>Employed full-time</td>\n",
       "      <td>Master's degree</td>\n",
       "      <td>Computer science or software engineering</td>\n",
       "      <td>Never</td>\n",
       "      <td>10 to 19 employees</td>\n",
       "      <td>...</td>\n",
       "      <td>NaN</td>\n",
       "      <td>NaN</td>\n",
       "      <td>NaN</td>\n",
       "      <td>NaN</td>\n",
       "      <td>NaN</td>\n",
       "      <td>NaN</td>\n",
       "      <td>NaN</td>\n",
       "      <td>NaN</td>\n",
       "      <td>NaN</td>\n",
       "      <td>NaN</td>\n",
       "    </tr>\n",
       "  </tbody>\n",
       "</table>\n",
       "<p>5 rows × 154 columns</p>\n",
       "</div>"
      ],
      "text/plain": [
       "   Respondent                                       Professional  \\\n",
       "0           1                                            Student   \n",
       "1           2                                            Student   \n",
       "2           3                             Professional developer   \n",
       "3           4  Professional non-developer who sometimes write...   \n",
       "4           5                             Professional developer   \n",
       "\n",
       "                ProgramHobby         Country      University  \\\n",
       "0                  Yes, both   United States              No   \n",
       "1                  Yes, both  United Kingdom  Yes, full-time   \n",
       "2                  Yes, both  United Kingdom              No   \n",
       "3                  Yes, both   United States              No   \n",
       "4  Yes, I program as a hobby     Switzerland              No   \n",
       "\n",
       "                         EmploymentStatus  \\\n",
       "0  Not employed, and not looking for work   \n",
       "1                      Employed part-time   \n",
       "2                      Employed full-time   \n",
       "3                      Employed full-time   \n",
       "4                      Employed full-time   \n",
       "\n",
       "                                     FormalEducation  \\\n",
       "0                                   Secondary school   \n",
       "1  Some college/university study without earning ...   \n",
       "2                                  Bachelor's degree   \n",
       "3                                    Doctoral degree   \n",
       "4                                    Master's degree   \n",
       "\n",
       "                                  MajorUndergrad  \\\n",
       "0                                            NaN   \n",
       "1       Computer science or software engineering   \n",
       "2       Computer science or software engineering   \n",
       "3  A non-computer-focused engineering discipline   \n",
       "4       Computer science or software engineering   \n",
       "\n",
       "                                          HomeRemote  \\\n",
       "0                                                NaN   \n",
       "1              More than half, but not all, the time   \n",
       "2  Less than half the time, but at least one day ...   \n",
       "3  Less than half the time, but at least one day ...   \n",
       "4                                              Never   \n",
       "\n",
       "                CompanySize  ... StackOverflowMakeMoney Gender  \\\n",
       "0                       NaN  ...      Strongly disagree   Male   \n",
       "1        20 to 99 employees  ...      Strongly disagree   Male   \n",
       "2  10,000 or more employees  ...               Disagree   Male   \n",
       "3  10,000 or more employees  ...               Disagree   Male   \n",
       "4        10 to 19 employees  ...                    NaN    NaN   \n",
       "\n",
       "  HighestEducationParents                          Race         SurveyLong  \\\n",
       "0             High school  White or of European descent  Strongly disagree   \n",
       "1       A master's degree  White or of European descent     Somewhat agree   \n",
       "2   A professional degree  White or of European descent     Somewhat agree   \n",
       "3       A doctoral degree  White or of European descent              Agree   \n",
       "4                     NaN                           NaN                NaN   \n",
       "\n",
       "  QuestionsInteresting QuestionsConfusing InterestedAnswers    Salary  \\\n",
       "0       Strongly agree           Disagree    Strongly agree       NaN   \n",
       "1       Somewhat agree           Disagree    Strongly agree       NaN   \n",
       "2                Agree           Disagree             Agree  113750.0   \n",
       "3                Agree     Somewhat agree    Strongly agree       NaN   \n",
       "4                  NaN                NaN               NaN       NaN   \n",
       "\n",
       "   ExpectedSalary  \n",
       "0             NaN  \n",
       "1         37500.0  \n",
       "2             NaN  \n",
       "3             NaN  \n",
       "4             NaN  \n",
       "\n",
       "[5 rows x 154 columns]"
      ]
     },
     "execution_count": 1,
     "metadata": {},
     "output_type": "execute_result"
    }
   ],
   "source": [
    "import numpy as np\n",
    "import pandas as pd\n",
    "import matplotlib.pyplot as plt\n",
    "%matplotlib inline\n",
    "\n",
    "df = pd.read_csv('./data/survey-results-public.csv')\n",
    "df.head()"
   ]
  },
  {
   "cell_type": "markdown",
   "metadata": {},
   "source": [
    "### Question 1\n",
    "\n",
    "**1.** Provide the number of rows and columns in this dataset."
   ]
  },
  {
   "cell_type": "code",
   "execution_count": 2,
   "metadata": {},
   "outputs": [
    {
     "name": "stdout",
     "output_type": "stream",
     "text": [
      "There're 51392 rows, 154 columns.\n"
     ]
    }
   ],
   "source": [
    "num_rows = df.shape[0]\n",
    "num_cols = df.shape[1]\n",
    "print(f\"There're {num_rows} rows, {num_cols} columns.\")"
   ]
  },
  {
   "cell_type": "markdown",
   "metadata": {},
   "source": [
    "### Question 2\n",
    "\n",
    "**2.** Which columns had no missing values? Provide a set of column names that have no missing values."
   ]
  },
  {
   "cell_type": "code",
   "execution_count": 3,
   "metadata": {},
   "outputs": [
    {
     "data": {
      "text/plain": [
       "{'Country',\n",
       " 'EmploymentStatus',\n",
       " 'FormalEducation',\n",
       " 'Professional',\n",
       " 'ProgramHobby',\n",
       " 'Respondent',\n",
       " 'University'}"
      ]
     },
     "execution_count": 3,
     "metadata": {},
     "output_type": "execute_result"
    }
   ],
   "source": [
    "#Provide a set of columns with 0 missing values.\n",
    "no_nulls = set(df.columns[df.notnull().all()])\n",
    "no_nulls"
   ]
  },
  {
   "cell_type": "markdown",
   "metadata": {},
   "source": [
    "### Question 3\n",
    "\n",
    "**3.** Which columns have the most missing values?  Provide a set of column names that have more than 75% if their values missing."
   ]
  },
  {
   "cell_type": "code",
   "execution_count": 4,
   "metadata": {},
   "outputs": [
    {
     "data": {
      "text/plain": [
       "{'ExCoder10Years',\n",
       " 'ExCoderActive',\n",
       " 'ExCoderBalance',\n",
       " 'ExCoderBelonged',\n",
       " 'ExCoderNotForMe',\n",
       " 'ExCoderReturn',\n",
       " 'ExCoderSkills',\n",
       " 'ExCoderWillNotCode',\n",
       " 'ExpectedSalary',\n",
       " 'MobileDeveloperType',\n",
       " 'NonDeveloperType',\n",
       " 'TimeAfterBootcamp',\n",
       " 'WebDeveloperType',\n",
       " 'YearsCodedJobPast'}"
      ]
     },
     "execution_count": 4,
     "metadata": {},
     "output_type": "execute_result"
    }
   ],
   "source": [
    "#Provide a set of columns with more than 75% of the values missing\n",
    "most_missing_cols = set(df.columns[df.isnull().mean() >= 0.75])\n",
    "most_missing_cols"
   ]
  },
  {
   "cell_type": "markdown",
   "metadata": {},
   "source": [
    "### Question 4\n",
    "\n",
    "**4.** Provide a pandas series of the different **Professional** status values in the dataset along with the count of the number of individuals with each status.  Store this pandas series in **status_vals**.  If you are correct, you should see a bar chart of the proportion of individuals in each status."
   ]
  },
  {
   "cell_type": "code",
   "execution_count": 5,
   "metadata": {},
   "outputs": [
    {
     "data": {
      "image/png": "[encoded data removed]",
      "text/plain": [
       "<Figure size 432x288 with 1 Axes>"
      ]
     },
     "metadata": {
      "needs_background": "light"
     },
     "output_type": "display_data"
    }
   ],
   "source": [
    "#Provide a pandas series of the counts for each Professional status\n",
    "status_vals = df['Professional'].value_counts()\n",
    "\n",
    "# The below should be a bar chart of the proportion of individuals in each professional category if your status_vals\n",
    "# is set up correctly.\n",
    "(status_vals/num_rows).plot(kind=\"bar\");\n",
    "plt.title(\"What kind of developer are you?\");"
   ]
  },
  {
   "cell_type": "markdown",
   "metadata": {},
   "source": [
    "### Question 5\n",
    "\n",
    "**5.** Provide a pandas series of the different **FormalEducation** status values in the dataset along with the count of how many individuals received that formal education.  Store this pandas series in **ed_vals**.  If you are correct, you should see a bar chart of the proportion of individuals in each status."
   ]
  },
  {
   "cell_type": "code",
   "execution_count": 6,
   "metadata": {},
   "outputs": [
    {
     "data": {
      "image/png": "[encoded data removed]",
      "text/plain": [
       "<Figure size 432x288 with 1 Axes>"
      ]
     },
     "metadata": {
      "needs_background": "light"
     },
     "output_type": "display_data"
    }
   ],
   "source": [
    "#Provide a pandas series of the counts for each FormalEducation status\n",
    "ed_vals = df.FormalEducation.value_counts()\n",
    "\n",
    "# The below should be a bar chart of the proportion of individuals in your ed_vals\n",
    "# if it is set up correctly.\n",
    "\n",
    "(ed_vals/df.shape[0]).plot(kind=\"bar\");\n",
    "plt.title(\"Formal Education\");"
   ]
  },
  {
   "cell_type": "markdown",
   "metadata": {},
   "source": [
    "### Question 6\n",
    "\n",
    "**6.** Provide a pandas series of the different **Country** values in the dataset along with the count of how many individuals are from each country.  Store this pandas series in **count_vals**.  If you are correct, you should see a bar chart of the proportion of individuals in each country."
   ]
  },
  {
   "cell_type": "code",
   "execution_count": 7,
   "metadata": {
    "scrolled": false
   },
   "outputs": [
    {
     "data": {
      "image/png": "[encoded data removed]",
      "text/plain": [
       "<Figure size 432x288 with 1 Axes>"
      ]
     },
     "metadata": {
      "needs_background": "light"
     },
     "output_type": "display_data"
    }
   ],
   "source": [
    "count_vals = df.Country.value_counts()#Provide a pandas series of the counts for each Country\n",
    "\n",
    "# The below should be a bar chart of the proportion of the top 10 countries for the\n",
    "# individuals in your count_vals if it is set up correctly.\n",
    "\n",
    "(count_vals[:10]/df.shape[0]).plot(kind=\"bar\");\n",
    "plt.title(\"Country\");"
   ]
  },
  {
   "cell_type": "markdown",
   "metadata": {},
   "source": [
    "Feel free to explore the dataset further to gain additional familiarity with the columns and rows in the dataset.  You will be working pretty closely with this dataset throughout this lesson."
   ]
  },
  {
   "cell_type": "code",
   "execution_count": 8,
   "metadata": {},
   "outputs": [
    {
     "data": {
      "text/html": [
       "<div>\n",
       "<style scoped>\n",
       "    .dataframe tbody tr th:only-of-type {\n",
       "        vertical-align: middle;\n",
       "    }\n",
       "\n",
       "    .dataframe tbody tr th {\n",
       "        vertical-align: top;\n",
       "    }\n",
       "\n",
       "    .dataframe thead th {\n",
       "        text-align: right;\n",
       "    }\n",
       "</style>\n",
       "<table border=\"1\" class=\"dataframe\">\n",
       "  <thead>\n",
       "    <tr style=\"text-align: right;\">\n",
       "      <th></th>\n",
       "      <th></th>\n",
       "      <th>Salary</th>\n",
       "    </tr>\n",
       "    <tr>\n",
       "      <th>Gender</th>\n",
       "      <th>FormalEducation</th>\n",
       "      <th></th>\n",
       "    </tr>\n",
       "  </thead>\n",
       "  <tbody>\n",
       "    <tr>\n",
       "      <th rowspan=\"9\" valign=\"top\">Female</th>\n",
       "      <th>Bachelor's degree</th>\n",
       "      <td>60040.908291</td>\n",
       "    </tr>\n",
       "    <tr>\n",
       "      <th>Doctoral degree</th>\n",
       "      <td>90623.768006</td>\n",
       "    </tr>\n",
       "    <tr>\n",
       "      <th>I never completed any formal education</th>\n",
       "      <td>NaN</td>\n",
       "    </tr>\n",
       "    <tr>\n",
       "      <th>I prefer not to answer</th>\n",
       "      <td>13255.786387</td>\n",
       "    </tr>\n",
       "    <tr>\n",
       "      <th>Master's degree</th>\n",
       "      <td>56210.867588</td>\n",
       "    </tr>\n",
       "    <tr>\n",
       "      <th>Primary/elementary school</th>\n",
       "      <td>32258.064516</td>\n",
       "    </tr>\n",
       "    <tr>\n",
       "      <th>Professional degree</th>\n",
       "      <td>45458.307618</td>\n",
       "    </tr>\n",
       "    <tr>\n",
       "      <th>Secondary school</th>\n",
       "      <td>41110.162320</td>\n",
       "    </tr>\n",
       "    <tr>\n",
       "      <th>Some college/university study without earning a bachelor's degree</th>\n",
       "      <td>48116.699754</td>\n",
       "    </tr>\n",
       "    <tr>\n",
       "      <th rowspan=\"9\" valign=\"top\">Male</th>\n",
       "      <th>Bachelor's degree</th>\n",
       "      <td>57413.518034</td>\n",
       "    </tr>\n",
       "    <tr>\n",
       "      <th>Doctoral degree</th>\n",
       "      <td>76872.602904</td>\n",
       "    </tr>\n",
       "    <tr>\n",
       "      <th>I never completed any formal education</th>\n",
       "      <td>43090.588914</td>\n",
       "    </tr>\n",
       "    <tr>\n",
       "      <th>I prefer not to answer</th>\n",
       "      <td>37629.362623</td>\n",
       "    </tr>\n",
       "    <tr>\n",
       "      <th>Master's degree</th>\n",
       "      <td>59156.503938</td>\n",
       "    </tr>\n",
       "    <tr>\n",
       "      <th>Primary/elementary school</th>\n",
       "      <td>63777.121965</td>\n",
       "    </tr>\n",
       "    <tr>\n",
       "      <th>Professional degree</th>\n",
       "      <td>40901.083005</td>\n",
       "    </tr>\n",
       "    <tr>\n",
       "      <th>Secondary school</th>\n",
       "      <td>41353.206724</td>\n",
       "    </tr>\n",
       "    <tr>\n",
       "      <th>Some college/university study without earning a bachelor's degree</th>\n",
       "      <td>57262.911063</td>\n",
       "    </tr>\n",
       "  </tbody>\n",
       "</table>\n",
       "</div>"
      ],
      "text/plain": [
       "                                                                 Salary\n",
       "Gender FormalEducation                                                 \n",
       "Female Bachelor's degree                                   60040.908291\n",
       "       Doctoral degree                                     90623.768006\n",
       "       I never completed any formal education                       NaN\n",
       "       I prefer not to answer                              13255.786387\n",
       "       Master's degree                                     56210.867588\n",
       "       Primary/elementary school                           32258.064516\n",
       "       Professional degree                                 45458.307618\n",
       "       Secondary school                                    41110.162320\n",
       "       Some college/university study without earning a...  48116.699754\n",
       "Male   Bachelor's degree                                   57413.518034\n",
       "       Doctoral degree                                     76872.602904\n",
       "       I never completed any formal education              43090.588914\n",
       "       I prefer not to answer                              37629.362623\n",
       "       Master's degree                                     59156.503938\n",
       "       Primary/elementary school                           63777.121965\n",
       "       Professional degree                                 40901.083005\n",
       "       Secondary school                                    41353.206724\n",
       "       Some college/university study without earning a...  57262.911063"
      ]
     },
     "execution_count": 8,
     "metadata": {},
     "output_type": "execute_result"
    }
   ],
   "source": [
    "pd.DataFrame(df.query(\"Professional == 'Professional developer' and (Gender == 'Male' or Gender == 'Female')\")\n",
    "             .groupby(['Gender', 'FormalEducation'])\n",
    "             .mean()['Salary'])"
   ]
  },
  {
   "cell_type": "markdown",
   "metadata": {},
   "source": [
    "## Quiz 2 - How To Break Into the Field\n",
    "\n",
    "Now you have had a closer look at the data, and you saw how I approached looking at how the survey respondents think you should break into the field.  Let's recreate those results, as well as take a look at another question."
   ]
  },
  {
   "cell_type": "code",
   "execution_count": 9,
   "metadata": {},
   "outputs": [
    {
     "data": {
      "text/html": [
       "<div>\n",
       "<style scoped>\n",
       "    .dataframe tbody tr th:only-of-type {\n",
       "        vertical-align: middle;\n",
       "    }\n",
       "\n",
       "    .dataframe tbody tr th {\n",
       "        vertical-align: top;\n",
       "    }\n",
       "\n",
       "    .dataframe thead th {\n",
       "        text-align: right;\n",
       "    }\n",
       "</style>\n",
       "<table border=\"1\" class=\"dataframe\">\n",
       "  <thead>\n",
       "    <tr style=\"text-align: right;\">\n",
       "      <th></th>\n",
       "      <th>Column</th>\n",
       "      <th>Question</th>\n",
       "    </tr>\n",
       "  </thead>\n",
       "  <tbody>\n",
       "    <tr>\n",
       "      <th>0</th>\n",
       "      <td>Respondent</td>\n",
       "      <td>Respondent ID number</td>\n",
       "    </tr>\n",
       "    <tr>\n",
       "      <th>1</th>\n",
       "      <td>Professional</td>\n",
       "      <td>Which of the following best describes you?</td>\n",
       "    </tr>\n",
       "    <tr>\n",
       "      <th>2</th>\n",
       "      <td>ProgramHobby</td>\n",
       "      <td>Do you program as a hobby or contribute to ope...</td>\n",
       "    </tr>\n",
       "    <tr>\n",
       "      <th>3</th>\n",
       "      <td>Country</td>\n",
       "      <td>In which country do you currently live?</td>\n",
       "    </tr>\n",
       "    <tr>\n",
       "      <th>4</th>\n",
       "      <td>University</td>\n",
       "      <td>Are you currently enrolled in a formal, degree...</td>\n",
       "    </tr>\n",
       "  </tbody>\n",
       "</table>\n",
       "</div>"
      ],
      "text/plain": [
       "         Column                                           Question\n",
       "0    Respondent                               Respondent ID number\n",
       "1  Professional         Which of the following best describes you?\n",
       "2  ProgramHobby  Do you program as a hobby or contribute to ope...\n",
       "3       Country            In which country do you currently live?\n",
       "4    University  Are you currently enrolled in a formal, degree..."
      ]
     },
     "execution_count": 9,
     "metadata": {},
     "output_type": "execute_result"
    }
   ],
   "source": [
    "schema = pd.read_csv('./data/survey-results-schema.csv')\n",
    "schema.head()"
   ]
  },
  {
   "cell_type": "markdown",
   "metadata": {},
   "source": [
    "#### Question 1\n",
    "\n",
    "**1.** In order to understand how to break into the field, we will look at the **CousinEducation** field.  Use the **schema** dataset to answer this question.  Write a function called **get_description** that takes the **schema dataframe** and the **column** as a string, and returns a string of the description for that column."
   ]
  },
  {
   "cell_type": "code",
   "execution_count": 10,
   "metadata": {},
   "outputs": [],
   "source": [
    "def get_description(column_name, schema=schema):\n",
    "    '''\n",
    "    INPUT - schema - pandas dataframe with the schema of the developers survey\n",
    "            column_name - string - the name of the column you would like to know about\n",
    "    OUTPUT - \n",
    "            desc - string - the description of the column\n",
    "    '''\n",
    "    desc = list(schema[schema.Column == column_name]['Question'])[0]\n",
    "    return desc"
   ]
  },
  {
   "cell_type": "code",
   "execution_count": 11,
   "metadata": {},
   "outputs": [
    {
     "data": {
      "text/plain": [
       "'Respondent ID number'"
      ]
     },
     "execution_count": 11,
     "metadata": {},
     "output_type": "execute_result"
    }
   ],
   "source": [
    "get_description(df.columns[0]) # This should return a string of the first column description"
   ]
  },
  {
   "cell_type": "code",
   "execution_count": 12,
   "metadata": {},
   "outputs": [],
   "source": [
    "descrips = set(get_description(col) for col in df.columns)"
   ]
  },
  {
   "cell_type": "markdown",
   "metadata": {},
   "source": [
    "The question we have been focused on has been around how to break into the field.  Use your **get_description** function below to take a closer look at the **CousinEducation** column."
   ]
  },
  {
   "cell_type": "code",
   "execution_count": 13,
   "metadata": {},
   "outputs": [
    {
     "data": {
      "text/plain": [
       "\"Let's pretend you have a distant cousin. They are 24 years old, have a college degree in a field not related to computer programming, and have been working a non-coding job for the last two years. They want your advice on how to switch to a career as a software developer. Which of the following options would you most strongly recommend to your cousin?\\r\\nLet's pretend you have a distant cousin named Robert. He is 24 years old, has a college degree in a field not related to computer programming, and has been working a non-coding job for the last two years. He wants your advice on how to switch to a career as a software developer. Which of the following options would you most strongly recommend to Robert?\\r\\nLet's pretend you have a distant cousin named Alice. She is 24 years old, has a college degree in a field not related to computer programming, and has been working a non-coding job for the last two years. She wants your advice on how to switch to a career as a software developer. Which of the following options would you most strongly recommend to Alice?\""
      ]
     },
     "execution_count": 13,
     "metadata": {},
     "output_type": "execute_result"
    }
   ],
   "source": [
    "get_description('CousinEducation')"
   ]
  },
  {
   "cell_type": "markdown",
   "metadata": {},
   "source": [
    "#### Question 2\n",
    "\n",
    "**2.** Provide a pandas series of the different **CousinEducation** status values in the dataset.  Store this pandas series in **cous_ed_vals**.  If you are correct, you should see a bar chart of the proportion of individuals in each status.  If it looks terrible, and you get no information from it, then you followed directions.  However, we should clean this up!"
   ]
  },
  {
   "cell_type": "code",
   "execution_count": 14,
   "metadata": {
    "scrolled": true
   },
   "outputs": [
    {
     "data": {
      "text/plain": [
       "Take online courses; Buy books and work through the exercises                                                                          711\n",
       "Take online courses                                                                                                                    551\n",
       "None of these                                                                                                                          523\n",
       "Take online courses; Part-time/evening courses; Buy books and work through the exercises                                               479\n",
       "Take online courses; Bootcamp; Part-time/evening courses; Buy books and work through the exercises                                     465\n",
       "Other                                                                                                                                  403\n",
       "Return to college; Take online courses; Part-time/evening courses; Buy books and work through the exercises                            384\n",
       "Take online courses; Contribute to open source; Buy books and work through the exercises; Conferences/meet-ups                         379\n",
       "Take online courses; Contribute to open source; Buy books and work through the exercises                                               364\n",
       "Take online courses; Contribute to open source; Part-time/evening courses; Buy books and work through the exercises                    324\n",
       "Take online courses; Part-time/evening courses; Buy books and work through the exercises; Conferences/meet-ups                         309\n",
       "Buy books and work through the exercises                                                                                               305\n",
       "Take online courses; Part-time/evening courses                                                                                         265\n",
       "Return to college                                                                                                                      258\n",
       "Get a job as a QA tester; Take online courses; Part-time/evening courses; Buy books and work through the exercises                     254\n",
       "Take online courses; Contribute to open source; Participate in online coding competitions; Buy books and work through the exercises    252\n",
       "Return to college; Take online courses; Buy books and work through the exercises                                                       242\n",
       "Take online courses; Buy books and work through the exercises; Conferences/meet-ups                                                    233\n",
       "Take online courses; Bootcamp; Buy books and work through the exercises                                                                215\n",
       "Take online courses; Bootcamp; Part-time/evening courses                                                                               208\n",
       "Take online courses; Part-time/evening courses; Participate in online coding competitions; Buy books and work through the exercises    204\n",
       "Contribute to open source; Buy books and work through the exercises                                                                    178\n",
       "Take online courses; Contribute to open source                                                                                         177\n",
       "Take online courses; Bootcamp; Buy books and work through the exercises; Conferences/meet-ups                                          177\n",
       "Return to college; Take online courses; Bootcamp; Part-time/evening courses                                                            171\n",
       "Take online courses; Bootcamp                                                                                                          168\n",
       "Return to college; Take online courses                                                                                                 168\n",
       "Return to college; Take online courses; Contribute to open source; Buy books and work through the exercises                            165\n",
       "Bootcamp                                                                                                                               157\n",
       "Take online courses; Contribute to open source; Bootcamp; Buy books and work through the exercises                                     153\n",
       "                                                                                                                                      ... \n",
       "Return to college; Master's degree; Get a job as a QA tester; Participate in hackathons                                                  1\n",
       "Master's degree; Get a job as a QA tester; Contribute to open source; Other                                                              1\n",
       "Get a job as a QA tester; Conferences/meet-ups; Other                                                                                    1\n",
       "Return to college; Contribute to open source; Participate in online coding competitions; Other                                           1\n",
       "Master's degree; Bootcamp; Participate in online coding competitions; Conferences/meet-ups                                               1\n",
       "Get a job as a QA tester; Bootcamp; Other                                                                                                1\n",
       "Master's degree; Contribute to open source; Part-time/evening courses; Participate in hackathons                                         1\n",
       "Master's degree; Get a job as a QA tester; Participate in hackathons; Participate in online coding competitions                          1\n",
       "Return to college; Take online courses; Participate in online coding competitions; Other                                                 1\n",
       "Return to college; Participate in hackathons; Participate in online coding competitions; Other                                           1\n",
       "Master's degree; Participate in hackathons; Participate in online coding competitions; Other                                             1\n",
       "Return to college; Get a job as a QA tester; Contribute to open source; Participate in online coding competitions                        1\n",
       "Master's degree; Participate in hackathons; Participate in online coding competitions                                                    1\n",
       "Return to college; Part-time/evening courses; Conferences/meet-ups; Other                                                                1\n",
       "Master's degree; Bootcamp; Participate in hackathons; Participate in online coding competitions                                          1\n",
       "Get a job as a QA tester; Participate in hackathons; Conferences/meet-ups; Other                                                         1\n",
       "Return to college; Participate in hackathons; Conferences/meet-ups; Other                                                                1\n",
       "Part-time/evening courses; Conferences/meet-ups; Other                                                                                   1\n",
       "Get a job as a QA tester; Participate in online coding competitions; Conferences/meet-ups; Other                                         1\n",
       "Participate in hackathons; Participate in online coding competitions; Conferences/meet-ups; Other                                        1\n",
       "Get a job as a QA tester; Contribute to open source; Participate in online coding competitions; Other                                    1\n",
       "Master's degree; Contribute to open source; Participate in hackathons; Other                                                             1\n",
       "Master's degree; Bootcamp; Conferences/meet-ups                                                                                          1\n",
       "Get a job as a QA tester; Participate in hackathons; Participate in online coding competitions                                           1\n",
       "Part-time/evening courses; Participate in online coding competitions; Conferences/meet-ups; Other                                        1\n",
       "Return to college; Part-time/evening courses; Participate in online coding competitions; Conferences/meet-ups                            1\n",
       "Return to college; Master's degree; Part-time/evening courses; Participate in hackathons                                                 1\n",
       "Master's degree; Take online courses; Other                                                                                              1\n",
       "Get a job as a QA tester; Participate in online coding competitions; Buy books and work through the exercises; Other                     1\n",
       "Master's degree; Part-time/evening courses; Conferences/meet-ups                                                                         1\n",
       "Name: CousinEducation, Length: 735, dtype: int64"
      ]
     },
     "execution_count": 14,
     "metadata": {},
     "output_type": "execute_result"
    }
   ],
   "source": [
    "#Provide a pandas series of the counts for each CousinEducation status\n",
    "cous_ed_vals = df.CousinEducation.value_counts()\n",
    "\n",
    "cous_ed_vals # assure this looks right"
   ]
  },
  {
   "cell_type": "code",
   "execution_count": 15,
   "metadata": {},
   "outputs": [
    {
     "data": {
      "image/png": "[encoded data removed]",
      "text/plain": [
       "<Figure size 432x288 with 1 Axes>"
      ]
     },
     "metadata": {
      "needs_background": "light"
     },
     "output_type": "display_data"
    }
   ],
   "source": [
    "# The below should be a bar chart of the proportion of individuals in your ed_vals\n",
    "# if it is set up correctly.\n",
    "\n",
    "(cous_ed_vals/df.shape[0]).plot(kind=\"bar\");\n",
    "plt.title(\"Formal Education\");"
   ]
  },
  {
   "cell_type": "markdown",
   "metadata": {},
   "source": [
    "We definitely need to clean this.  Above is an example of what happens when you do not clean your data. Below is what the data look like after cleaning."
   ]
  },
  {
   "cell_type": "code",
   "execution_count": 16,
   "metadata": {},
   "outputs": [],
   "source": [
    "def total_count(df, col1, col2, look_for):\n",
    "    '''\n",
    "    INPUT:\n",
    "    df - the pandas dataframe you want to search\n",
    "    col1 - the column name you want to look through\n",
    "    col2 - the column you want to count values from\n",
    "    look_for - a list of strings you want to search for in each row of df[col]\n",
    "    \n",
    "    OUTPUT:\n",
    "    new_df - a dataframe of each look_for with the count of how often it shows up\n",
    "    '''\n",
    "    from collections import defaultdict\n",
    "    new_df = defaultdict(int)\n",
    "    \n",
    "    #loop through list of ed types\n",
    "    for val in look_for:\n",
    "        #loop through rows\n",
    "        for idx in range(df.shape[0]):\n",
    "            #if the ed type is in the row add 1\n",
    "            if val in df[col1][idx]:\n",
    "                new_df[val] += int(df[col2][idx])\n",
    "    new_df = pd.DataFrame(pd.Series(new_df)).reset_index()\n",
    "    new_df.columns = [col1, col2]\n",
    "    new_df.sort_values('count', ascending=False, inplace=True)\n",
    "    return new_df"
   ]
  },
  {
   "cell_type": "code",
   "execution_count": 17,
   "metadata": {},
   "outputs": [
    {
     "data": {
      "image/png": "[encoded data removed]",
      "text/plain": [
       "<Figure size 432x288 with 1 Axes>"
      ]
     },
     "metadata": {
      "needs_background": "light"
     },
     "output_type": "display_data"
    }
   ],
   "source": [
    "possible_vals = [\"Take online courses\", \"Buy books and work through the exercises\", \n",
    "                 \"None of these\", \"Part-time/evening courses\", \"Return to college\",\n",
    "                 \"Contribute to open source\", \"Conferences/meet-ups\", \"Bootcamp\",\n",
    "                 \"Get a job as a QA tester\", \"Participate in online coding competitions\",\n",
    "                 \"Master's degree\", \"Participate in hackathons\", \"Other\"]\n",
    "\n",
    "def clean_and_plot(df, title='Method of Educating Suggested', plot=True):\n",
    "    '''\n",
    "    INPUT \n",
    "        df - a dataframe holding the CousinEducation column\n",
    "        title - string the title of your plot\n",
    "        axis - axis object\n",
    "        plot - bool providing whether or not you want a plot back\n",
    "        \n",
    "    OUTPUT\n",
    "        study_df - a dataframe with the count of how many individuals\n",
    "        Displays a plot of pretty things related to the CousinEducation column.\n",
    "    '''\n",
    "    study = df['CousinEducation'].value_counts().reset_index()\n",
    "    study.rename(columns={'index': 'method', 'CousinEducation': 'count'}, inplace=True)\n",
    "    study_df = total_count(study, 'method', 'count', possible_vals)\n",
    "\n",
    "    study_df.set_index('method', inplace=True)\n",
    "    if plot:\n",
    "        (study_df/study_df.sum()).plot(kind='bar', legend=None);\n",
    "        plt.title(title);\n",
    "        plt.show()\n",
    "    props_study_df = study_df/study_df.sum()\n",
    "    return props_study_df\n",
    "    \n",
    "props_df = clean_and_plot(df)"
   ]
  },
  {
   "cell_type": "markdown",
   "metadata": {},
   "source": [
    "#### Question 3\n",
    "\n",
    "**3.** I wonder if some of the individuals might have bias towards their own degrees.  Complete the function below that will apply to the elements of the **FormalEducation** column in **df**. "
   ]
  },
  {
   "cell_type": "code",
   "execution_count": 18,
   "metadata": {},
   "outputs": [
    {
     "data": {
      "text/plain": [
       "0    0\n",
       "1    0\n",
       "2    0\n",
       "3    0\n",
       "4    1\n",
       "Name: FormalEducation, dtype: int64"
      ]
     },
     "execution_count": 18,
     "metadata": {},
     "output_type": "execute_result"
    }
   ],
   "source": [
    "def higher_ed(formal_ed_str):\n",
    "    '''\n",
    "    INPUT\n",
    "        formal_ed_str - a string of one of the values from the Formal Education column\n",
    "    \n",
    "    OUTPUT\n",
    "        return 1 if the string is  in (\"Master's degree\", \"Doctoral\", \"Professional degree\")\n",
    "        return 0 otherwise\n",
    "    \n",
    "    '''\n",
    "    formal_ed = [\"Master's degree\", \"Doctoral\", \"Professional degree\"]\n",
    "    if formal_ed_str in formal_ed:\n",
    "        return 1\n",
    "    else:\n",
    "        return 0\n",
    "\n",
    "df[\"FormalEducation\"].apply(higher_ed)[:5] #Test your function to assure it provides 1 and 0 values for the df"
   ]
  },
  {
   "cell_type": "code",
   "execution_count": 19,
   "metadata": {},
   "outputs": [
    {
     "data": {
      "text/plain": [
       "0.23069738480697385"
      ]
     },
     "execution_count": 19,
     "metadata": {},
     "output_type": "execute_result"
    }
   ],
   "source": [
    "df['HigherEd'] = df[\"FormalEducation\"].apply(higher_ed)\n",
    "higher_ed_perc = df['HigherEd'].mean()\n",
    "higher_ed_perc"
   ]
  },
  {
   "cell_type": "markdown",
   "metadata": {},
   "source": [
    "#### Question 4\n",
    "\n",
    "**4.** Now we would like to find out if the proportion of individuals who completed one of these three programs feel differently than those that did not. Store a dataframe of only the individual's who had **HigherEd** equal to 1 in **ed_1**.  Similarly, store a dataframe of only the **HigherEd** equal to 0 values in **ed_0**.\n",
    "\n",
    "Notice, you have already created the **HigherEd** column using the check code portion above, so here you only need to subset the dataframe using this newly created column."
   ]
  },
  {
   "cell_type": "code",
   "execution_count": 20,
   "metadata": {},
   "outputs": [
    {
     "name": "stdout",
     "output_type": "stream",
     "text": [
      "4     1\n",
      "6     1\n",
      "7     1\n",
      "9     1\n",
      "14    1\n",
      "Name: HigherEd, dtype: int64\n",
      "0    0\n",
      "1    0\n",
      "2    0\n",
      "3    0\n",
      "5    0\n",
      "Name: HigherEd, dtype: int64\n"
     ]
    }
   ],
   "source": [
    "ed_1 = df[df.HigherEd == 1]# Subset df to only those with HigherEd of 1\n",
    "ed_0 = df[df.HigherEd == 0]# Subset df to only those with HigherEd of 0\n",
    "\n",
    "print(ed_1['HigherEd'][:5]) #Assure it looks like what you would expect\n",
    "print(ed_0['HigherEd'][:5]) #Assure it looks like what you would expect"
   ]
  },
  {
   "cell_type": "code",
   "execution_count": 21,
   "metadata": {},
   "outputs": [
    {
     "data": {
      "text/html": [
       "<style  type=\"text/css\" >\n",
       "    #T_e3f14bdc_8d14_11e9_b7d7_982cbcc38f2erow0_col2 {\n",
       "            width:  10em;\n",
       "             height:  80%;\n",
       "            background:  linear-gradient(90deg, transparent 16.1%, #d65f5f 16.1%, #d65f5f 21.4%, transparent 21.4%);\n",
       "        }    #T_e3f14bdc_8d14_11e9_b7d7_982cbcc38f2erow1_col2 {\n",
       "            width:  10em;\n",
       "             height:  80%;\n",
       "            background:  linear-gradient(90deg, transparent 21.4%, #5fba7d 21.4%, #5fba7d 23.7%, transparent 23.7%);\n",
       "        }    #T_e3f14bdc_8d14_11e9_b7d7_982cbcc38f2erow2_col2 {\n",
       "            width:  10em;\n",
       "             height:  80%;\n",
       "            background:  linear-gradient(90deg, transparent 21.4%, #5fba7d 21.4%, #5fba7d 21.6%, transparent 21.6%);\n",
       "        }    #T_e3f14bdc_8d14_11e9_b7d7_982cbcc38f2erow3_col2 {\n",
       "            width:  10em;\n",
       "             height:  80%;\n",
       "            background:  linear-gradient(90deg, transparent 7.1%, #d65f5f 7.1%, #d65f5f 21.4%, transparent 21.4%);\n",
       "        }    #T_e3f14bdc_8d14_11e9_b7d7_982cbcc38f2erow4_col2 {\n",
       "            width:  10em;\n",
       "             height:  80%;\n",
       "            background:  linear-gradient(90deg, transparent 21.4%, #5fba7d 21.4%, #5fba7d 28.8%, transparent 28.8%);\n",
       "        }    #T_e3f14bdc_8d14_11e9_b7d7_982cbcc38f2erow5_col2 {\n",
       "            width:  10em;\n",
       "             height:  80%;\n",
       "            background:  linear-gradient(90deg, transparent 20.8%, #d65f5f 20.8%, #d65f5f 21.4%, transparent 21.4%);\n",
       "        }    #T_e3f14bdc_8d14_11e9_b7d7_982cbcc38f2erow6_col2 {\n",
       "            width:  10em;\n",
       "             height:  80%;\n",
       "            background:  linear-gradient(90deg,#d65f5f 21.4%, transparent 21.4%);\n",
       "        }    #T_e3f14bdc_8d14_11e9_b7d7_982cbcc38f2erow7_col2 {\n",
       "            width:  10em;\n",
       "             height:  80%;\n",
       "            background:  linear-gradient(90deg, transparent 21.4%, #5fba7d 21.4%, #5fba7d 100.0%, transparent 100.0%);\n",
       "        }    #T_e3f14bdc_8d14_11e9_b7d7_982cbcc38f2erow8_col2 {\n",
       "            width:  10em;\n",
       "             height:  80%;\n",
       "            background:  linear-gradient(90deg, transparent 21.4%, #5fba7d 21.4%, #5fba7d 28.7%, transparent 28.7%);\n",
       "        }    #T_e3f14bdc_8d14_11e9_b7d7_982cbcc38f2erow9_col2 {\n",
       "            width:  10em;\n",
       "             height:  80%;\n",
       "            background:  linear-gradient(90deg, transparent 6.8%, #d65f5f 6.8%, #d65f5f 21.4%, transparent 21.4%);\n",
       "        }    #T_e3f14bdc_8d14_11e9_b7d7_982cbcc38f2erow10_col2 {\n",
       "            width:  10em;\n",
       "             height:  80%;\n",
       "            background:  linear-gradient(90deg, transparent 0.3%, #d65f5f 0.3%, #d65f5f 21.4%, transparent 21.4%);\n",
       "        }    #T_e3f14bdc_8d14_11e9_b7d7_982cbcc38f2erow11_col2 {\n",
       "            width:  10em;\n",
       "             height:  80%;\n",
       "            background:  linear-gradient(90deg, transparent 3.2%, #d65f5f 3.2%, #d65f5f 21.4%, transparent 21.4%);\n",
       "        }    #T_e3f14bdc_8d14_11e9_b7d7_982cbcc38f2erow12_col2 {\n",
       "            width:  10em;\n",
       "             height:  80%;\n",
       "            background:  linear-gradient(90deg, transparent 21.4%, #5fba7d 21.4%, #5fba7d 21.7%, transparent 21.7%);\n",
       "        }</style><table id=\"T_e3f14bdc_8d14_11e9_b7d7_982cbcc38f2e\" ><thead>    <tr>        <th class=\"blank level0\" ></th>        <th class=\"col_heading level0 col0\" >ed_1_perc</th>        <th class=\"col_heading level0 col1\" >ed_0_perc</th>        <th class=\"col_heading level0 col2\" >Diff_HigherEd_Vals</th>    </tr>    <tr>        <th class=\"index_name level0\" >method</th>        <th class=\"blank\" ></th>        <th class=\"blank\" ></th>        <th class=\"blank\" ></th>    </tr></thead><tbody>\n",
       "                <tr>\n",
       "                        <th id=\"T_e3f14bdc_8d14_11e9_b7d7_982cbcc38f2elevel0_row0\" class=\"row_heading level0 row0\" >Take online courses</th>\n",
       "                        <td id=\"T_e3f14bdc_8d14_11e9_b7d7_982cbcc38f2erow0_col0\" class=\"data row0 col0\" >0.207892</td>\n",
       "                        <td id=\"T_e3f14bdc_8d14_11e9_b7d7_982cbcc38f2erow0_col1\" class=\"data row0 col1\" >0.2099</td>\n",
       "                        <td id=\"T_e3f14bdc_8d14_11e9_b7d7_982cbcc38f2erow0_col2\" class=\"data row0 col2\" >-0.00200857</td>\n",
       "            </tr>\n",
       "            <tr>\n",
       "                        <th id=\"T_e3f14bdc_8d14_11e9_b7d7_982cbcc38f2elevel0_row1\" class=\"row_heading level0 row1\" >Buy books and work through the exercises</th>\n",
       "                        <td id=\"T_e3f14bdc_8d14_11e9_b7d7_982cbcc38f2erow1_col0\" class=\"data row1 col0\" >0.162073</td>\n",
       "                        <td id=\"T_e3f14bdc_8d14_11e9_b7d7_982cbcc38f2erow1_col1\" class=\"data row1 col1\" >0.161205</td>\n",
       "                        <td id=\"T_e3f14bdc_8d14_11e9_b7d7_982cbcc38f2erow1_col2\" class=\"data row1 col2\" >0.00086766</td>\n",
       "            </tr>\n",
       "            <tr>\n",
       "                        <th id=\"T_e3f14bdc_8d14_11e9_b7d7_982cbcc38f2elevel0_row2\" class=\"row_heading level0 row2\" >Part-time/evening courses</th>\n",
       "                        <td id=\"T_e3f14bdc_8d14_11e9_b7d7_982cbcc38f2erow2_col0\" class=\"data row2 col0\" >0.103298</td>\n",
       "                        <td id=\"T_e3f14bdc_8d14_11e9_b7d7_982cbcc38f2erow2_col1\" class=\"data row2 col1\" >0.103248</td>\n",
       "                        <td id=\"T_e3f14bdc_8d14_11e9_b7d7_982cbcc38f2erow2_col2\" class=\"data row2 col2\" >4.98833e-05</td>\n",
       "            </tr>\n",
       "            <tr>\n",
       "                        <th id=\"T_e3f14bdc_8d14_11e9_b7d7_982cbcc38f2elevel0_row3\" class=\"row_heading level0 row3\" >Contribute to open source</th>\n",
       "                        <td id=\"T_e3f14bdc_8d14_11e9_b7d7_982cbcc38f2erow3_col0\" class=\"data row3 col0\" >0.097821</td>\n",
       "                        <td id=\"T_e3f14bdc_8d14_11e9_b7d7_982cbcc38f2erow3_col1\" class=\"data row3 col1\" >0.10323</td>\n",
       "                        <td id=\"T_e3f14bdc_8d14_11e9_b7d7_982cbcc38f2erow3_col2\" class=\"data row3 col2\" >-0.00540923</td>\n",
       "            </tr>\n",
       "            <tr>\n",
       "                        <th id=\"T_e3f14bdc_8d14_11e9_b7d7_982cbcc38f2elevel0_row4\" class=\"row_heading level0 row4\" >Bootcamp</th>\n",
       "                        <td id=\"T_e3f14bdc_8d14_11e9_b7d7_982cbcc38f2erow4_col0\" class=\"data row4 col0\" >0.0746172</td>\n",
       "                        <td id=\"T_e3f14bdc_8d14_11e9_b7d7_982cbcc38f2erow4_col1\" class=\"data row4 col1\" >0.071824</td>\n",
       "                        <td id=\"T_e3f14bdc_8d14_11e9_b7d7_982cbcc38f2erow4_col2\" class=\"data row4 col2\" >0.0027932</td>\n",
       "            </tr>\n",
       "            <tr>\n",
       "                        <th id=\"T_e3f14bdc_8d14_11e9_b7d7_982cbcc38f2elevel0_row5\" class=\"row_heading level0 row5\" >Return to college</th>\n",
       "                        <td id=\"T_e3f14bdc_8d14_11e9_b7d7_982cbcc38f2erow5_col0\" class=\"data row5 col0\" >0.0687279</td>\n",
       "                        <td id=\"T_e3f14bdc_8d14_11e9_b7d7_982cbcc38f2erow5_col1\" class=\"data row5 col1\" >0.0689754</td>\n",
       "                        <td id=\"T_e3f14bdc_8d14_11e9_b7d7_982cbcc38f2erow5_col2\" class=\"data row5 col2\" >-0.000247487</td>\n",
       "            </tr>\n",
       "            <tr>\n",
       "                        <th id=\"T_e3f14bdc_8d14_11e9_b7d7_982cbcc38f2elevel0_row6\" class=\"row_heading level0 row6\" >Conferences/meet-ups</th>\n",
       "                        <td id=\"T_e3f14bdc_8d14_11e9_b7d7_982cbcc38f2erow6_col0\" class=\"data row6 col0\" >0.0658422</td>\n",
       "                        <td id=\"T_e3f14bdc_8d14_11e9_b7d7_982cbcc38f2erow6_col1\" class=\"data row6 col1\" >0.0739201</td>\n",
       "                        <td id=\"T_e3f14bdc_8d14_11e9_b7d7_982cbcc38f2erow6_col2\" class=\"data row6 col2\" >-0.00807796</td>\n",
       "            </tr>\n",
       "            <tr>\n",
       "                        <th id=\"T_e3f14bdc_8d14_11e9_b7d7_982cbcc38f2elevel0_row7\" class=\"row_heading level0 row7\" >Master's degree</th>\n",
       "                        <td id=\"T_e3f14bdc_8d14_11e9_b7d7_982cbcc38f2erow7_col0\" class=\"data row7 col0\" >0.0589517</td>\n",
       "                        <td id=\"T_e3f14bdc_8d14_11e9_b7d7_982cbcc38f2erow7_col1\" class=\"data row7 col1\" >0.0293459</td>\n",
       "                        <td id=\"T_e3f14bdc_8d14_11e9_b7d7_982cbcc38f2erow7_col2\" class=\"data row7 col2\" >0.0296058</td>\n",
       "            </tr>\n",
       "            <tr>\n",
       "                        <th id=\"T_e3f14bdc_8d14_11e9_b7d7_982cbcc38f2elevel0_row8\" class=\"row_heading level0 row8\" >Get a job as a QA tester</th>\n",
       "                        <td id=\"T_e3f14bdc_8d14_11e9_b7d7_982cbcc38f2erow8_col0\" class=\"data row8 col0\" >0.0484688</td>\n",
       "                        <td id=\"T_e3f14bdc_8d14_11e9_b7d7_982cbcc38f2erow8_col1\" class=\"data row8 col1\" >0.0457388</td>\n",
       "                        <td id=\"T_e3f14bdc_8d14_11e9_b7d7_982cbcc38f2erow8_col2\" class=\"data row8 col2\" >0.00273003</td>\n",
       "            </tr>\n",
       "            <tr>\n",
       "                        <th id=\"T_e3f14bdc_8d14_11e9_b7d7_982cbcc38f2elevel0_row9\" class=\"row_heading level0 row9\" >Participate in online coding competitions</th>\n",
       "                        <td id=\"T_e3f14bdc_8d14_11e9_b7d7_982cbcc38f2erow9_col0\" class=\"data row9 col0\" >0.0453475</td>\n",
       "                        <td id=\"T_e3f14bdc_8d14_11e9_b7d7_982cbcc38f2erow9_col1\" class=\"data row9 col1\" >0.0508806</td>\n",
       "                        <td id=\"T_e3f14bdc_8d14_11e9_b7d7_982cbcc38f2erow9_col2\" class=\"data row9 col2\" >-0.00553309</td>\n",
       "            </tr>\n",
       "            <tr>\n",
       "                        <th id=\"T_e3f14bdc_8d14_11e9_b7d7_982cbcc38f2elevel0_row10\" class=\"row_heading level0 row10\" >Participate in hackathons</th>\n",
       "                        <td id=\"T_e3f14bdc_8d14_11e9_b7d7_982cbcc38f2erow10_col0\" class=\"data row10 col0\" >0.0316254</td>\n",
       "                        <td id=\"T_e3f14bdc_8d14_11e9_b7d7_982cbcc38f2erow10_col1\" class=\"data row10 col1\" >0.0395937</td>\n",
       "                        <td id=\"T_e3f14bdc_8d14_11e9_b7d7_982cbcc38f2erow10_col2\" class=\"data row10 col2\" >-0.00796823</td>\n",
       "            </tr>\n",
       "            <tr>\n",
       "                        <th id=\"T_e3f14bdc_8d14_11e9_b7d7_982cbcc38f2elevel0_row11\" class=\"row_heading level0 row11\" >Other</th>\n",
       "                        <td id=\"T_e3f14bdc_8d14_11e9_b7d7_982cbcc38f2erow11_col0\" class=\"data row11 col0\" >0.0269729</td>\n",
       "                        <td id=\"T_e3f14bdc_8d14_11e9_b7d7_982cbcc38f2erow11_col1\" class=\"data row11 col1\" >0.0338607</td>\n",
       "                        <td id=\"T_e3f14bdc_8d14_11e9_b7d7_982cbcc38f2erow11_col2\" class=\"data row11 col2\" >-0.00688774</td>\n",
       "            </tr>\n",
       "            <tr>\n",
       "                        <th id=\"T_e3f14bdc_8d14_11e9_b7d7_982cbcc38f2elevel0_row12\" class=\"row_heading level0 row12\" >None of these</th>\n",
       "                        <td id=\"T_e3f14bdc_8d14_11e9_b7d7_982cbcc38f2erow12_col0\" class=\"data row12 col0\" >0.00836278</td>\n",
       "                        <td id=\"T_e3f14bdc_8d14_11e9_b7d7_982cbcc38f2erow12_col1\" class=\"data row12 col1\" >0.00827705</td>\n",
       "                        <td id=\"T_e3f14bdc_8d14_11e9_b7d7_982cbcc38f2erow12_col2\" class=\"data row12 col2\" >8.57315e-05</td>\n",
       "            </tr>\n",
       "    </tbody></table>"
      ],
      "text/plain": [
       "<pandas.io.formats.style.Styler at 0x24815b57ba8>"
      ]
     },
     "execution_count": 21,
     "metadata": {},
     "output_type": "execute_result"
    }
   ],
   "source": [
    "#Check your subset is correct - you should get a plot that was created using pandas styling\n",
    "#which you can learn more about here: https://pandas.pydata.org/pandas-docs/stable/style.html\n",
    "\n",
    "ed_1_perc = clean_and_plot(ed_1, 'Higher Formal Education', plot=False)\n",
    "ed_0_perc = clean_and_plot(ed_0, 'Max of Bachelors Higher Ed', plot=False)\n",
    "\n",
    "comp_df = pd.merge(ed_1_perc, ed_0_perc, left_index=True, right_index=True)\n",
    "comp_df.columns = ['ed_1_perc', 'ed_0_perc']\n",
    "comp_df['Diff_HigherEd_Vals'] = comp_df['ed_1_perc'] - comp_df['ed_0_perc']\n",
    "comp_df.style.bar(subset=['Diff_HigherEd_Vals'], align='mid', color=['#d65f5f', '#5fba7d'])"
   ]
  },
  {
   "cell_type": "markdown",
   "metadata": {},
   "source": [
    "#### Question 5\n",
    "\n",
    "**5.** What can you conclude from the above plot?"
   ]
  },
  {
   "cell_type": "markdown",
   "metadata": {},
   "source": [
    "> 1. Everyone should get a higher level of formal education? **False**\n",
    "2. Regardless of formal education, online courses are the top suggested form of education? **True**\n",
    "3. There is less than a 1% difference between suggestions of the two groups for all forms of education? **False**\n",
    "4. Those with higher formal education suggest it more than those who do not have it? **True**\n",
    "\n",
    "This concludes another look at the way we could compare education methods by those currently writing code in industry."
   ]
  },
  {
   "cell_type": "markdown",
   "metadata": {},
   "source": [
    "## Quiz 3 - Job Satisfaction\n",
    "\n",
    "You will be exploring job satisfaction according to the survey results. Use the cells at the top of the notebook to explore as necessary, and use your findings to solve the questions at the bottom of the notebook."
   ]
  },
  {
   "cell_type": "markdown",
   "metadata": {},
   "source": [
    "### Question 1\n",
    "\n",
    "**1.** Matching each variable (**a, b, c, d, e, f, g, or h**) as the appropriate key that describes the value in the **job_sol_1** dictionary."
   ]
  },
  {
   "cell_type": "code",
   "execution_count": 22,
   "metadata": {},
   "outputs": [
    {
     "data": {
      "text/plain": [
       "0.21435242839352428"
      ]
     },
     "execution_count": 22,
     "metadata": {},
     "output_type": "execute_result"
    }
   ],
   "source": [
    "# The proportion of missing values in the Job Satisfaction column\n",
    "df.JobSatisfaction.isnull().mean()"
   ]
  },
  {
   "cell_type": "code",
   "execution_count": 23,
   "metadata": {},
   "outputs": [
    {
     "data": {
      "text/plain": [
       "EmploymentStatus\n",
       "Independent contractor, freelancer, or self-employed    7.252823\n",
       "Not employed, and not looking for work                  7.000000\n",
       "Employed full-time                                      6.926805\n",
       "Employed part-time                                      6.821468\n",
       "I prefer not to say                                          NaN\n",
       "Not employed, but looking for work                           NaN\n",
       "Retired                                                      NaN\n",
       "Name: JobSatisfaction, dtype: float64"
      ]
     },
     "execution_count": 23,
     "metadata": {},
     "output_type": "execute_result"
    }
   ],
   "source": [
    "# According to EmploymentStatus, average job satisfaction of each group\n",
    "df.groupby('EmploymentStatus').JobSatisfaction.mean().sort_values(ascending=False)"
   ]
  },
  {
   "cell_type": "code",
   "execution_count": 24,
   "metadata": {},
   "outputs": [
    {
     "data": {
      "text/plain": [
       "CompanySize\n",
       "I prefer not to answer      7.280835\n",
       "Fewer than 10 employees     7.008749\n",
       "10 to 19 employees          7.000799\n",
       "20 to 99 employees          6.949092\n",
       "100 to 499 employees        6.937089\n",
       "1,000 to 4,999 employees    6.884509\n",
       "500 to 999 employees        6.883661\n",
       "I don't know                6.842679\n",
       "10,000 or more employees    6.810345\n",
       "5,000 to 9,999 employees    6.748153\n",
       "Name: JobSatisfaction, dtype: float64"
      ]
     },
     "execution_count": 24,
     "metadata": {},
     "output_type": "execute_result"
    }
   ],
   "source": [
    "# In general, do smaller companies appear to have employees with higher job satisfaction?\n",
    "df.groupby('CompanySize').JobSatisfaction.mean().sort_values(ascending=False)"
   ]
  },
  {
   "cell_type": "code",
   "execution_count": 25,
   "metadata": {},
   "outputs": [],
   "source": [
    "a = 0.734\n",
    "b = 0.2014\n",
    "c = 'full-time'\n",
    "d = 'contractors'\n",
    "e = 'retired'\n",
    "f = 'yes'\n",
    "g = 'no'\n",
    "h = 'hard to tell'\n",
    "\n",
    "job_sol_1 = {'The proportion of missing values in the Job Satisfaction column': b,\n",
    "             'According to EmploymentStatus, which group has the highest average job satisfaction?': d, \n",
    "             'In general, do smaller companies appear to have employees with higher job satisfaction?': f}"
   ]
  },
  {
   "cell_type": "markdown",
   "metadata": {},
   "source": [
    "### Question 2\n",
    "\n",
    "**2.** Matching each variable (**a, b, c** ) as the appropriate key that describes the value in the **job_sol_2** dictionary. Notice you can have the same letter appear more than once.`"
   ]
  },
  {
   "cell_type": "code",
   "execution_count": 26,
   "metadata": {},
   "outputs": [
    {
     "data": {
      "text/plain": [
       "ProgramHobby\n",
       "Yes, both                                    7.108041\n",
       "Yes, I contribute to open source projects    7.041535\n",
       "Yes, I program as a hobby                    6.913072\n",
       "No                                           6.833825\n",
       "Name: JobSatisfaction, dtype: float64"
      ]
     },
     "execution_count": 26,
     "metadata": {},
     "output_type": "execute_result"
    }
   ],
   "source": [
    "# Do individuals who program outside of work appear to have higher JobSatisfaction?\n",
    "df.groupby(['ProgramHobby']).mean().JobSatisfaction.sort_values(ascending=False)"
   ]
  },
  {
   "cell_type": "code",
   "execution_count": 27,
   "metadata": {},
   "outputs": [
    {
     "data": {
      "text/plain": [
       "HomeRemote\n",
       "All or almost all the time (I'm full-time remote)          7.388430\n",
       "Less than half the time, but at least one day each week    7.120125\n",
       "A few days each month                                      7.077509\n",
       "About half the time                                        6.973702\n",
       "More than half, but not all, the time                      6.953184\n",
       "It's complicated                                           6.840830\n",
       "Never                                                      6.632502\n",
       "Name: JobSatisfaction, dtype: float64"
      ]
     },
     "execution_count": 27,
     "metadata": {},
     "output_type": "execute_result"
    }
   ],
   "source": [
    "# Does flexibility to work outside of the office appear to have an influence on JobSatisfaction?\n",
    "df.groupby(['HomeRemote']).mean().JobSatisfaction.sort_values(ascending=False)"
   ]
  },
  {
   "cell_type": "code",
   "execution_count": 28,
   "metadata": {},
   "outputs": [
    {
     "data": {
      "text/plain": [
       "FormalEducation\n",
       "Doctoral degree                                                      7.348857\n",
       "Secondary school                                                     7.143082\n",
       "Professional degree                                                  7.087459\n",
       "Some college/university study without earning a bachelor's degree    7.081334\n",
       "I prefer not to answer                                               7.005682\n",
       "Primary/elementary school                                            6.956897\n",
       "Master's degree                                                      6.953151\n",
       "Bachelor's degree                                                    6.866363\n",
       "I never completed any formal education                               6.833333\n",
       "Name: JobSatisfaction, dtype: float64"
      ]
     },
     "execution_count": 28,
     "metadata": {},
     "output_type": "execute_result"
    }
   ],
   "source": [
    "# A friend says a Doctoral degree increases the chance of having job you like, does this seem true?\n",
    "df.groupby(['FormalEducation']).mean().JobSatisfaction.sort_values(ascending=False)"
   ]
  },
  {
   "cell_type": "code",
   "execution_count": 29,
   "metadata": {},
   "outputs": [],
   "source": [
    "a = 'yes'\n",
    "b = 'no'\n",
    "c = 'hard to tell'\n",
    "\n",
    "job_sol_2 = {'Do individuals who program outside of work appear to have higher JobSatisfaction?': a,\n",
    "             'Does flexibility to work outside of the office appear to have an influence on JobSatisfaction?': a, \n",
    "             'A friend says a Doctoral degree increases the chance of having job you like, does this seem true?': a}"
   ]
  },
  {
   "cell_type": "markdown",
   "metadata": {},
   "source": [
    "## Quiz 4 - First Try of Predicting Salary\n",
    "\n",
    "For the last two questions regarding what are related to relationships of variables with salary and job satisfaction - Each of these questions will involve not only building some sort of predictive model, but also finding and interpretting the influential components of whatever model we build.\n",
    "\n",
    "To get started let's read in the necessary libraries and take a look at some of our columns of interest."
   ]
  },
  {
   "cell_type": "code",
   "execution_count": 30,
   "metadata": {},
   "outputs": [],
   "source": [
    "from sklearn.linear_model import LinearRegression\n",
    "from sklearn.model_selection import train_test_split\n",
    "from sklearn.metrics import r2_score, mean_squared_error\n",
    "import seaborn as sns"
   ]
  },
  {
   "cell_type": "markdown",
   "metadata": {},
   "source": [
    "Now take a look at the summary statistics associated with the quantitative variables in your dataset. "
   ]
  },
  {
   "cell_type": "code",
   "execution_count": 31,
   "metadata": {},
   "outputs": [
    {
     "data": {
      "text/html": [
       "<div>\n",
       "<style scoped>\n",
       "    .dataframe tbody tr th:only-of-type {\n",
       "        vertical-align: middle;\n",
       "    }\n",
       "\n",
       "    .dataframe tbody tr th {\n",
       "        vertical-align: top;\n",
       "    }\n",
       "\n",
       "    .dataframe thead th {\n",
       "        text-align: right;\n",
       "    }\n",
       "</style>\n",
       "<table border=\"1\" class=\"dataframe\">\n",
       "  <thead>\n",
       "    <tr style=\"text-align: right;\">\n",
       "      <th></th>\n",
       "      <th>Respondent</th>\n",
       "      <th>CareerSatisfaction</th>\n",
       "      <th>JobSatisfaction</th>\n",
       "      <th>HoursPerWeek</th>\n",
       "      <th>StackOverflowSatisfaction</th>\n",
       "      <th>Salary</th>\n",
       "      <th>ExpectedSalary</th>\n",
       "      <th>HigherEd</th>\n",
       "    </tr>\n",
       "  </thead>\n",
       "  <tbody>\n",
       "    <tr>\n",
       "      <th>count</th>\n",
       "      <td>51392.000000</td>\n",
       "      <td>42695.000000</td>\n",
       "      <td>40376.000000</td>\n",
       "      <td>20600.000000</td>\n",
       "      <td>36592.000000</td>\n",
       "      <td>12891.000000</td>\n",
       "      <td>2566.000000</td>\n",
       "      <td>51392.000000</td>\n",
       "    </tr>\n",
       "    <tr>\n",
       "      <th>mean</th>\n",
       "      <td>25696.500000</td>\n",
       "      <td>7.300574</td>\n",
       "      <td>6.957078</td>\n",
       "      <td>3.952282</td>\n",
       "      <td>8.429875</td>\n",
       "      <td>56298.480641</td>\n",
       "      <td>33142.220468</td>\n",
       "      <td>0.230697</td>\n",
       "    </tr>\n",
       "    <tr>\n",
       "      <th>std</th>\n",
       "      <td>14835.736854</td>\n",
       "      <td>1.955444</td>\n",
       "      <td>2.167652</td>\n",
       "      <td>7.564722</td>\n",
       "      <td>1.390635</td>\n",
       "      <td>39880.905277</td>\n",
       "      <td>30162.988829</td>\n",
       "      <td>0.421283</td>\n",
       "    </tr>\n",
       "    <tr>\n",
       "      <th>min</th>\n",
       "      <td>1.000000</td>\n",
       "      <td>0.000000</td>\n",
       "      <td>0.000000</td>\n",
       "      <td>0.000000</td>\n",
       "      <td>0.000000</td>\n",
       "      <td>0.000000</td>\n",
       "      <td>0.000000</td>\n",
       "      <td>0.000000</td>\n",
       "    </tr>\n",
       "    <tr>\n",
       "      <th>25%</th>\n",
       "      <td>12848.750000</td>\n",
       "      <td>6.000000</td>\n",
       "      <td>6.000000</td>\n",
       "      <td>1.000000</td>\n",
       "      <td>8.000000</td>\n",
       "      <td>26440.371839</td>\n",
       "      <td>4490.492484</td>\n",
       "      <td>0.000000</td>\n",
       "    </tr>\n",
       "    <tr>\n",
       "      <th>50%</th>\n",
       "      <td>25696.500000</td>\n",
       "      <td>8.000000</td>\n",
       "      <td>7.000000</td>\n",
       "      <td>1.000000</td>\n",
       "      <td>9.000000</td>\n",
       "      <td>50000.000000</td>\n",
       "      <td>29364.263691</td>\n",
       "      <td>0.000000</td>\n",
       "    </tr>\n",
       "    <tr>\n",
       "      <th>75%</th>\n",
       "      <td>38544.250000</td>\n",
       "      <td>9.000000</td>\n",
       "      <td>8.000000</td>\n",
       "      <td>4.000000</td>\n",
       "      <td>10.000000</td>\n",
       "      <td>80000.000000</td>\n",
       "      <td>50403.225806</td>\n",
       "      <td>0.000000</td>\n",
       "    </tr>\n",
       "    <tr>\n",
       "      <th>max</th>\n",
       "      <td>51392.000000</td>\n",
       "      <td>10.000000</td>\n",
       "      <td>10.000000</td>\n",
       "      <td>40.000000</td>\n",
       "      <td>10.000000</td>\n",
       "      <td>197000.000000</td>\n",
       "      <td>187500.000000</td>\n",
       "      <td>1.000000</td>\n",
       "    </tr>\n",
       "  </tbody>\n",
       "</table>\n",
       "</div>"
      ],
      "text/plain": [
       "         Respondent  CareerSatisfaction  JobSatisfaction  HoursPerWeek  \\\n",
       "count  51392.000000        42695.000000     40376.000000  20600.000000   \n",
       "mean   25696.500000            7.300574         6.957078      3.952282   \n",
       "std    14835.736854            1.955444         2.167652      7.564722   \n",
       "min        1.000000            0.000000         0.000000      0.000000   \n",
       "25%    12848.750000            6.000000         6.000000      1.000000   \n",
       "50%    25696.500000            8.000000         7.000000      1.000000   \n",
       "75%    38544.250000            9.000000         8.000000      4.000000   \n",
       "max    51392.000000           10.000000        10.000000     40.000000   \n",
       "\n",
       "       StackOverflowSatisfaction         Salary  ExpectedSalary      HigherEd  \n",
       "count               36592.000000   12891.000000     2566.000000  51392.000000  \n",
       "mean                    8.429875   56298.480641    33142.220468      0.230697  \n",
       "std                     1.390635   39880.905277    30162.988829      0.421283  \n",
       "min                     0.000000       0.000000        0.000000      0.000000  \n",
       "25%                     8.000000   26440.371839     4490.492484      0.000000  \n",
       "50%                     9.000000   50000.000000    29364.263691      0.000000  \n",
       "75%                    10.000000   80000.000000    50403.225806      0.000000  \n",
       "max                    10.000000  197000.000000   187500.000000      1.000000  "
      ]
     },
     "execution_count": 31,
     "metadata": {},
     "output_type": "execute_result"
    }
   ],
   "source": [
    "df.describe()"
   ]
  },
  {
   "cell_type": "markdown",
   "metadata": {},
   "source": [
    "### Question 1\n",
    "\n",
    "**1.** Use the above to match each variable (**a, b, c, d, e, or f**) as the appropriate key that describes the value in the **desc_sol** dictionary."
   ]
  },
  {
   "cell_type": "code",
   "execution_count": 32,
   "metadata": {},
   "outputs": [],
   "source": [
    "a = 40\n",
    "b = 'HoursPerWeek'\n",
    "c = 'Salary'\n",
    "d = 'Respondent'\n",
    "e = 10\n",
    "f = 'ExpectedSalary'\n",
    "\n",
    "desc_sol = {'A column just listing an index for each row': d,\n",
    "       'The maximum Satisfaction on the scales for the survey': e,\n",
    "       'The column with the most missing values': f,\n",
    "       'The variable with the highest spread of values': c}"
   ]
  },
  {
   "cell_type": "markdown",
   "metadata": {},
   "source": [
    "A picture can often tell us more than numbers."
   ]
  },
  {
   "cell_type": "code",
   "execution_count": 33,
   "metadata": {},
   "outputs": [
    {
     "data": {
      "image/png": "[encoded data removed]",
      "text/plain": [
       "<Figure size 432x288 with 9 Axes>"
      ]
     },
     "metadata": {
      "needs_background": "light"
     },
     "output_type": "display_data"
    }
   ],
   "source": [
    "df.hist();"
   ]
  },
  {
   "cell_type": "markdown",
   "metadata": {},
   "source": [
    "Often a useful plot is a correlation matrix - this can tell you which variables are related to one another."
   ]
  },
  {
   "cell_type": "code",
   "execution_count": 34,
   "metadata": {},
   "outputs": [
    {
     "data": {
      "image/png": "[encoded data removed]",
      "text/plain": [
       "<Figure size 432x288 with 2 Axes>"
      ]
     },
     "metadata": {
      "needs_background": "light"
     },
     "output_type": "display_data"
    }
   ],
   "source": [
    "sns.heatmap(df.corr(), annot=True, fmt=\".2f\");"
   ]
  },
  {
   "cell_type": "markdown",
   "metadata": {},
   "source": [
    "### Question 2\n",
    "\n",
    "**2.** Use the scatterplot matrix above to match each variable (**a, b, c, d, e, f, or g**) as the appropriate key that describes the value in the **scatter_sol** dictionary."
   ]
  },
  {
   "cell_type": "code",
   "execution_count": 35,
   "metadata": {},
   "outputs": [],
   "source": [
    "a = 0.65\n",
    "b = -0.01\n",
    "c = 'ExpectedSalary'\n",
    "d = 'No'\n",
    "e = 'Yes'\n",
    "f = 'CareerSatisfaction'\n",
    "g = -0.15\n",
    "\n",
    "scatter_sol = {'The column with the strongest correlation with Salary': f,\n",
    "       'The data suggests more hours worked relates to higher salary': d,\n",
    "       'Data in the ______ column meant missing data in three other columns': c,\n",
    "       'The strongest negative relationship had what correlation?': g}"
   ]
  },
  {
   "cell_type": "markdown",
   "metadata": {},
   "source": [
    "Here we move our quantitative variables to an X matrix, which we will use to predict our response.  We also create our response.  We then split our data into training and testing data.  Then when starting our four step process, our fit step breaks.  \n",
    "\n",
    "### Remember from the Video, this code will break!"
   ]
  },
  {
   "cell_type": "code",
   "execution_count": 36,
   "metadata": {
    "scrolled": true
   },
   "outputs": [
    {
     "name": "stdout",
     "output_type": "stream",
     "text": [
      "Input contains NaN, infinity or a value too large for dtype('float64').\n"
     ]
    }
   ],
   "source": [
    "# Consider only numerical variables\n",
    "X = df[['CareerSatisfaction', 'HoursPerWeek', 'JobSatisfaction', 'StackOverflowSatisfaction']]\n",
    "y = df['Salary']\n",
    "\n",
    "# Split the data\n",
    "X_train, X_test, y_train, y_test = train_test_split(X, y, test_size=.3, random_state=42)\n",
    "\n",
    "# Four steps:\n",
    "# Instantiate\n",
    "lm_model = LinearRegression(normalize=True)\n",
    "\n",
    "# Fit - why does this break?\n",
    "try:\n",
    "    lm_model.fit(X_train, y_train)\n",
    "except Exception as e:\n",
    "    print(e)\n",
    "#Predict\n",
    "#Score"
   ]
  },
  {
   "cell_type": "markdown",
   "metadata": {},
   "source": [
    "### Question 3\n",
    "\n",
    "**3.** Use the results above to match each variable (**a, b, c, d, e, or f** ) as the appropriate key that describes the value in the **lm_fit_sol** dictionary."
   ]
  },
  {
   "cell_type": "code",
   "execution_count": 37,
   "metadata": {},
   "outputs": [],
   "source": [
    "a = 'it is a way to assure your model extends well to new data'\n",
    "b = 'it assures the same train and test split will occur for different users'\n",
    "c = 'there is no correct match of this question'\n",
    "d = 'sklearn fit methods cannot accept NAN values'\n",
    "e = 'it is just a convention people do that will likely go away soon'\n",
    "f = 'python just breaks for no reason sometimes'\n",
    "\n",
    "lm_fit_sol = {'What is the reason that the fit method broke?': d,\n",
    "       'What does the random_state parameter do for the train_test_split function?': b,\n",
    "       'What is the purpose of creating a train test split?': a}"
   ]
  },
  {
   "cell_type": "markdown",
   "metadata": {},
   "source": [
    "## Quiz 5 - Removing Values\n",
    "\n",
    "You have seen:\n",
    "\n",
    "1. sklearn break when introducing missing values\n",
    "2. reasons for dropping missing values\n",
    "\n",
    "It is time to make sure you are comfortable with the methods for dropping missing values in pandas.  You can drop values by row or by column, and you can drop based on whether **any** value is missing in a particular row or column or **all** are values in a row or column are missing.\n",
    "\n",
    "A useful set of many resources in pandas is available [here](https://chrisalbon.com/).  Specifically, Chris takes a close look at missing values [here](https://chrisalbon.com/python/data_wrangling/pandas_dropping_column_and_rows/).  Another resource can be found [here](https://stackoverflow.com/questions/13413590/how-to-drop-rows-of-pandas-dataframe-whose-value-in-certain-columns-is-nan)."
   ]
  },
  {
   "cell_type": "code",
   "execution_count": 38,
   "metadata": {},
   "outputs": [
    {
     "data": {
      "text/html": [
       "<div>\n",
       "<style scoped>\n",
       "    .dataframe tbody tr th:only-of-type {\n",
       "        vertical-align: middle;\n",
       "    }\n",
       "\n",
       "    .dataframe tbody tr th {\n",
       "        vertical-align: top;\n",
       "    }\n",
       "\n",
       "    .dataframe thead th {\n",
       "        text-align: right;\n",
       "    }\n",
       "</style>\n",
       "<table border=\"1\" class=\"dataframe\">\n",
       "  <thead>\n",
       "    <tr style=\"text-align: right;\">\n",
       "      <th></th>\n",
       "      <th>col1</th>\n",
       "      <th>col2</th>\n",
       "      <th>col3</th>\n",
       "    </tr>\n",
       "  </thead>\n",
       "  <tbody>\n",
       "    <tr>\n",
       "      <th>0</th>\n",
       "      <td>1.0</td>\n",
       "      <td>7.0</td>\n",
       "      <td>NaN</td>\n",
       "    </tr>\n",
       "    <tr>\n",
       "      <th>1</th>\n",
       "      <td>2.0</td>\n",
       "      <td>8.0</td>\n",
       "      <td>14.0</td>\n",
       "    </tr>\n",
       "    <tr>\n",
       "      <th>2</th>\n",
       "      <td>NaN</td>\n",
       "      <td>NaN</td>\n",
       "      <td>NaN</td>\n",
       "    </tr>\n",
       "    <tr>\n",
       "      <th>3</th>\n",
       "      <td>NaN</td>\n",
       "      <td>10.0</td>\n",
       "      <td>16.0</td>\n",
       "    </tr>\n",
       "    <tr>\n",
       "      <th>4</th>\n",
       "      <td>5.0</td>\n",
       "      <td>11.0</td>\n",
       "      <td>17.0</td>\n",
       "    </tr>\n",
       "    <tr>\n",
       "      <th>5</th>\n",
       "      <td>6.0</td>\n",
       "      <td>12.0</td>\n",
       "      <td>18.0</td>\n",
       "    </tr>\n",
       "  </tbody>\n",
       "</table>\n",
       "</div>"
      ],
      "text/plain": [
       "   col1  col2  col3\n",
       "0   1.0   7.0   NaN\n",
       "1   2.0   8.0  14.0\n",
       "2   NaN   NaN   NaN\n",
       "3   NaN  10.0  16.0\n",
       "4   5.0  11.0  17.0\n",
       "5   6.0  12.0  18.0"
      ]
     },
     "execution_count": 38,
     "metadata": {},
     "output_type": "execute_result"
    }
   ],
   "source": [
    "small_dataset = pd.DataFrame({'col1': [1, 2, np.nan, np.nan, 5, 6], \n",
    "                              'col2': [7, 8, np.nan, 10, 11, 12],\n",
    "                              'col3': [np.nan, 14, np.nan, 16, 17, 18]})\n",
    "\n",
    "small_dataset"
   ]
  },
  {
   "cell_type": "markdown",
   "metadata": {},
   "source": [
    "### Question 1\n",
    "\n",
    "**1.** Drop any row with a missing value."
   ]
  },
  {
   "cell_type": "code",
   "execution_count": 39,
   "metadata": {},
   "outputs": [
    {
     "data": {
      "text/html": [
       "<div>\n",
       "<style scoped>\n",
       "    .dataframe tbody tr th:only-of-type {\n",
       "        vertical-align: middle;\n",
       "    }\n",
       "\n",
       "    .dataframe tbody tr th {\n",
       "        vertical-align: top;\n",
       "    }\n",
       "\n",
       "    .dataframe thead th {\n",
       "        text-align: right;\n",
       "    }\n",
       "</style>\n",
       "<table border=\"1\" class=\"dataframe\">\n",
       "  <thead>\n",
       "    <tr style=\"text-align: right;\">\n",
       "      <th></th>\n",
       "      <th>col1</th>\n",
       "      <th>col2</th>\n",
       "      <th>col3</th>\n",
       "    </tr>\n",
       "  </thead>\n",
       "  <tbody>\n",
       "    <tr>\n",
       "      <th>1</th>\n",
       "      <td>2.0</td>\n",
       "      <td>8.0</td>\n",
       "      <td>14.0</td>\n",
       "    </tr>\n",
       "    <tr>\n",
       "      <th>4</th>\n",
       "      <td>5.0</td>\n",
       "      <td>11.0</td>\n",
       "      <td>17.0</td>\n",
       "    </tr>\n",
       "    <tr>\n",
       "      <th>5</th>\n",
       "      <td>6.0</td>\n",
       "      <td>12.0</td>\n",
       "      <td>18.0</td>\n",
       "    </tr>\n",
       "  </tbody>\n",
       "</table>\n",
       "</div>"
      ],
      "text/plain": [
       "   col1  col2  col3\n",
       "1   2.0   8.0  14.0\n",
       "4   5.0  11.0  17.0\n",
       "5   6.0  12.0  18.0"
      ]
     },
     "execution_count": 39,
     "metadata": {},
     "output_type": "execute_result"
    }
   ],
   "source": [
    "all_drop  = small_dataset.dropna()\n",
    "\n",
    "#print result\n",
    "all_drop"
   ]
  },
  {
   "cell_type": "markdown",
   "metadata": {},
   "source": [
    "### Question 2\n",
    "\n",
    "**2.** Drop only the row with all missing values."
   ]
  },
  {
   "cell_type": "code",
   "execution_count": 40,
   "metadata": {},
   "outputs": [
    {
     "data": {
      "text/html": [
       "<div>\n",
       "<style scoped>\n",
       "    .dataframe tbody tr th:only-of-type {\n",
       "        vertical-align: middle;\n",
       "    }\n",
       "\n",
       "    .dataframe tbody tr th {\n",
       "        vertical-align: top;\n",
       "    }\n",
       "\n",
       "    .dataframe thead th {\n",
       "        text-align: right;\n",
       "    }\n",
       "</style>\n",
       "<table border=\"1\" class=\"dataframe\">\n",
       "  <thead>\n",
       "    <tr style=\"text-align: right;\">\n",
       "      <th></th>\n",
       "      <th>col1</th>\n",
       "      <th>col2</th>\n",
       "      <th>col3</th>\n",
       "    </tr>\n",
       "  </thead>\n",
       "  <tbody>\n",
       "    <tr>\n",
       "      <th>0</th>\n",
       "      <td>1.0</td>\n",
       "      <td>7.0</td>\n",
       "      <td>NaN</td>\n",
       "    </tr>\n",
       "    <tr>\n",
       "      <th>1</th>\n",
       "      <td>2.0</td>\n",
       "      <td>8.0</td>\n",
       "      <td>14.0</td>\n",
       "    </tr>\n",
       "    <tr>\n",
       "      <th>3</th>\n",
       "      <td>NaN</td>\n",
       "      <td>10.0</td>\n",
       "      <td>16.0</td>\n",
       "    </tr>\n",
       "    <tr>\n",
       "      <th>4</th>\n",
       "      <td>5.0</td>\n",
       "      <td>11.0</td>\n",
       "      <td>17.0</td>\n",
       "    </tr>\n",
       "    <tr>\n",
       "      <th>5</th>\n",
       "      <td>6.0</td>\n",
       "      <td>12.0</td>\n",
       "      <td>18.0</td>\n",
       "    </tr>\n",
       "  </tbody>\n",
       "</table>\n",
       "</div>"
      ],
      "text/plain": [
       "   col1  col2  col3\n",
       "0   1.0   7.0   NaN\n",
       "1   2.0   8.0  14.0\n",
       "3   NaN  10.0  16.0\n",
       "4   5.0  11.0  17.0\n",
       "5   6.0  12.0  18.0"
      ]
     },
     "execution_count": 40,
     "metadata": {},
     "output_type": "execute_result"
    }
   ],
   "source": [
    "all_row = small_dataset.dropna(how='all')\n",
    "\n",
    "#print result\n",
    "all_row"
   ]
  },
  {
   "cell_type": "markdown",
   "metadata": {},
   "source": [
    "### Question 3\n",
    "\n",
    "**3.** Drop only the rows with missing values in column 3."
   ]
  },
  {
   "cell_type": "code",
   "execution_count": 41,
   "metadata": {},
   "outputs": [
    {
     "data": {
      "text/html": [
       "<div>\n",
       "<style scoped>\n",
       "    .dataframe tbody tr th:only-of-type {\n",
       "        vertical-align: middle;\n",
       "    }\n",
       "\n",
       "    .dataframe tbody tr th {\n",
       "        vertical-align: top;\n",
       "    }\n",
       "\n",
       "    .dataframe thead th {\n",
       "        text-align: right;\n",
       "    }\n",
       "</style>\n",
       "<table border=\"1\" class=\"dataframe\">\n",
       "  <thead>\n",
       "    <tr style=\"text-align: right;\">\n",
       "      <th></th>\n",
       "      <th>col1</th>\n",
       "      <th>col2</th>\n",
       "      <th>col3</th>\n",
       "    </tr>\n",
       "  </thead>\n",
       "  <tbody>\n",
       "    <tr>\n",
       "      <th>1</th>\n",
       "      <td>2.0</td>\n",
       "      <td>8.0</td>\n",
       "      <td>14.0</td>\n",
       "    </tr>\n",
       "    <tr>\n",
       "      <th>3</th>\n",
       "      <td>NaN</td>\n",
       "      <td>10.0</td>\n",
       "      <td>16.0</td>\n",
       "    </tr>\n",
       "    <tr>\n",
       "      <th>4</th>\n",
       "      <td>5.0</td>\n",
       "      <td>11.0</td>\n",
       "      <td>17.0</td>\n",
       "    </tr>\n",
       "    <tr>\n",
       "      <th>5</th>\n",
       "      <td>6.0</td>\n",
       "      <td>12.0</td>\n",
       "      <td>18.0</td>\n",
       "    </tr>\n",
       "  </tbody>\n",
       "</table>\n",
       "</div>"
      ],
      "text/plain": [
       "   col1  col2  col3\n",
       "1   2.0   8.0  14.0\n",
       "3   NaN  10.0  16.0\n",
       "4   5.0  11.0  17.0\n",
       "5   6.0  12.0  18.0"
      ]
     },
     "execution_count": 41,
     "metadata": {},
     "output_type": "execute_result"
    }
   ],
   "source": [
    "only3_drop = small_dataset[small_dataset.col3.notnull()]\n",
    "only3_drop = small_dataset.dropna(subset=['col3'], how='any')\n",
    "\n",
    "#print result\n",
    "only3_drop"
   ]
  },
  {
   "cell_type": "markdown",
   "metadata": {},
   "source": [
    "### Question 4\n",
    "\n",
    "**4.** Drop only the rows with missing values in column 3 or column 1."
   ]
  },
  {
   "cell_type": "code",
   "execution_count": 42,
   "metadata": {},
   "outputs": [
    {
     "data": {
      "text/html": [
       "<div>\n",
       "<style scoped>\n",
       "    .dataframe tbody tr th:only-of-type {\n",
       "        vertical-align: middle;\n",
       "    }\n",
       "\n",
       "    .dataframe tbody tr th {\n",
       "        vertical-align: top;\n",
       "    }\n",
       "\n",
       "    .dataframe thead th {\n",
       "        text-align: right;\n",
       "    }\n",
       "</style>\n",
       "<table border=\"1\" class=\"dataframe\">\n",
       "  <thead>\n",
       "    <tr style=\"text-align: right;\">\n",
       "      <th></th>\n",
       "      <th>col1</th>\n",
       "      <th>col2</th>\n",
       "      <th>col3</th>\n",
       "    </tr>\n",
       "  </thead>\n",
       "  <tbody>\n",
       "    <tr>\n",
       "      <th>1</th>\n",
       "      <td>2.0</td>\n",
       "      <td>8.0</td>\n",
       "      <td>14.0</td>\n",
       "    </tr>\n",
       "    <tr>\n",
       "      <th>4</th>\n",
       "      <td>5.0</td>\n",
       "      <td>11.0</td>\n",
       "      <td>17.0</td>\n",
       "    </tr>\n",
       "    <tr>\n",
       "      <th>5</th>\n",
       "      <td>6.0</td>\n",
       "      <td>12.0</td>\n",
       "      <td>18.0</td>\n",
       "    </tr>\n",
       "  </tbody>\n",
       "</table>\n",
       "</div>"
      ],
      "text/plain": [
       "   col1  col2  col3\n",
       "1   2.0   8.0  14.0\n",
       "4   5.0  11.0  17.0\n",
       "5   6.0  12.0  18.0"
      ]
     },
     "execution_count": 42,
     "metadata": {},
     "output_type": "execute_result"
    }
   ],
   "source": [
    "only3or1_drop = small_dataset.dropna(subset=['col1', 'col3'])\n",
    "\n",
    "#print result\n",
    "only3or1_drop"
   ]
  },
  {
   "cell_type": "markdown",
   "metadata": {},
   "source": [
    "## Quiz 6 - Removing Data Part II\n",
    "\n",
    "So, you now have seen how we can fit a model by dropping rows with missing values.  This is great in that sklearn doesn't break! However, this means future observations will not obtain a prediction if they have missing values in any of the columns.\n",
    "\n",
    "In this notebook, you will answer a few questions about what happened in the last screencast, and take a few additional steps."
   ]
  },
  {
   "cell_type": "markdown",
   "metadata": {},
   "source": [
    "### Question 1\n",
    "\n",
    "**1.** What proportion of individuals in the dataset reported a salary?"
   ]
  },
  {
   "cell_type": "code",
   "execution_count": 43,
   "metadata": {},
   "outputs": [],
   "source": [
    "#Subset to only quantitative vars\n",
    "num_vars = df[['Salary', 'CareerSatisfaction', 'HoursPerWeek', 'JobSatisfaction', 'StackOverflowSatisfaction']]"
   ]
  },
  {
   "cell_type": "code",
   "execution_count": 44,
   "metadata": {},
   "outputs": [
    {
     "data": {
      "text/plain": [
       "0.25083670610211706"
      ]
     },
     "execution_count": 44,
     "metadata": {},
     "output_type": "execute_result"
    }
   ],
   "source": [
    "prop_sals = df.Salary.notnull().mean()\n",
    "prop_sals"
   ]
  },
  {
   "cell_type": "markdown",
   "metadata": {},
   "source": [
    "### Question 2\n",
    "\n",
    "**2.** Remove the rows associated with nan values in Salary (only Salary) from the dataframe **num_vars**.  Store the dataframe with these rows removed in **sal_rem**."
   ]
  },
  {
   "cell_type": "code",
   "execution_count": 45,
   "metadata": {},
   "outputs": [
    {
     "data": {
      "text/html": [
       "<div>\n",
       "<style scoped>\n",
       "    .dataframe tbody tr th:only-of-type {\n",
       "        vertical-align: middle;\n",
       "    }\n",
       "\n",
       "    .dataframe tbody tr th {\n",
       "        vertical-align: top;\n",
       "    }\n",
       "\n",
       "    .dataframe thead th {\n",
       "        text-align: right;\n",
       "    }\n",
       "</style>\n",
       "<table border=\"1\" class=\"dataframe\">\n",
       "  <thead>\n",
       "    <tr style=\"text-align: right;\">\n",
       "      <th></th>\n",
       "      <th>Salary</th>\n",
       "      <th>CareerSatisfaction</th>\n",
       "      <th>HoursPerWeek</th>\n",
       "      <th>JobSatisfaction</th>\n",
       "      <th>StackOverflowSatisfaction</th>\n",
       "    </tr>\n",
       "  </thead>\n",
       "  <tbody>\n",
       "    <tr>\n",
       "      <th>2</th>\n",
       "      <td>113750.0</td>\n",
       "      <td>8.0</td>\n",
       "      <td>NaN</td>\n",
       "      <td>9.0</td>\n",
       "      <td>8.0</td>\n",
       "    </tr>\n",
       "    <tr>\n",
       "      <th>14</th>\n",
       "      <td>100000.0</td>\n",
       "      <td>8.0</td>\n",
       "      <td>NaN</td>\n",
       "      <td>8.0</td>\n",
       "      <td>8.0</td>\n",
       "    </tr>\n",
       "    <tr>\n",
       "      <th>17</th>\n",
       "      <td>130000.0</td>\n",
       "      <td>9.0</td>\n",
       "      <td>NaN</td>\n",
       "      <td>8.0</td>\n",
       "      <td>8.0</td>\n",
       "    </tr>\n",
       "    <tr>\n",
       "      <th>18</th>\n",
       "      <td>82500.0</td>\n",
       "      <td>5.0</td>\n",
       "      <td>NaN</td>\n",
       "      <td>3.0</td>\n",
       "      <td>NaN</td>\n",
       "    </tr>\n",
       "    <tr>\n",
       "      <th>22</th>\n",
       "      <td>100764.0</td>\n",
       "      <td>8.0</td>\n",
       "      <td>NaN</td>\n",
       "      <td>9.0</td>\n",
       "      <td>8.0</td>\n",
       "    </tr>\n",
       "  </tbody>\n",
       "</table>\n",
       "</div>"
      ],
      "text/plain": [
       "      Salary  CareerSatisfaction  HoursPerWeek  JobSatisfaction  \\\n",
       "2   113750.0                 8.0           NaN              9.0   \n",
       "14  100000.0                 8.0           NaN              8.0   \n",
       "17  130000.0                 9.0           NaN              8.0   \n",
       "18   82500.0                 5.0           NaN              3.0   \n",
       "22  100764.0                 8.0           NaN              9.0   \n",
       "\n",
       "    StackOverflowSatisfaction  \n",
       "2                         8.0  \n",
       "14                        8.0  \n",
       "17                        8.0  \n",
       "18                        NaN  \n",
       "22                        8.0  "
      ]
     },
     "execution_count": 45,
     "metadata": {},
     "output_type": "execute_result"
    }
   ],
   "source": [
    "sal_rm = num_vars.dropna(subset=['Salary'])\n",
    "sal_rm.head()"
   ]
  },
  {
   "cell_type": "markdown",
   "metadata": {},
   "source": [
    "### Question 3\n",
    "\n",
    "**3.** Using **sal_rm**, create **X** be a dataframe (matrix) of all of the numeric feature variables.  Then, let **y** be the response vector you would like to predict (Salary).  Run the cell below once you have split the data, and use the result of the code to assign the correct letter to **question3_solution**."
   ]
  },
  {
   "cell_type": "code",
   "execution_count": 46,
   "metadata": {},
   "outputs": [
    {
     "name": "stdout",
     "output_type": "stream",
     "text": [
      "Oh no! It doesn't work!!!\n"
     ]
    }
   ],
   "source": [
    "X = sal_rm[['CareerSatisfaction', 'HoursPerWeek', 'JobSatisfaction', 'StackOverflowSatisfaction']]\n",
    "y = sal_rm['Salary']\n",
    "\n",
    "# Split data into training and test data, and fit a linear model\n",
    "X_train, X_test, y_train, y_test = train_test_split(X, y , test_size=.30, random_state=42)\n",
    "lm_model = LinearRegression(normalize=True)\n",
    "\n",
    "# If our model works, it should just fit our model to the data. Otherwise, it will let us know.\n",
    "try:\n",
    "    lm_model.fit(X_train, y_train)\n",
    "except:\n",
    "    print(\"Oh no! It doesn't work!!!\")\n",
    "\n",
    "a = 'Python just likes to break sometimes for no reason at all.' \n",
    "b = 'It worked, because Python is magic.'\n",
    "c = 'It broke because we still have missing values in X'\n",
    "\n",
    "question3_solution = c"
   ]
  },
  {
   "cell_type": "markdown",
   "metadata": {},
   "source": [
    "### Question 4\n",
    "\n",
    "**4.** Remove the rows associated with nan values in any column from **num_vars** (this was the removal process used in the screencast).  Store the dataframe with these rows removed in **all_rem**."
   ]
  },
  {
   "cell_type": "code",
   "execution_count": 47,
   "metadata": {},
   "outputs": [
    {
     "data": {
      "text/html": [
       "<div>\n",
       "<style scoped>\n",
       "    .dataframe tbody tr th:only-of-type {\n",
       "        vertical-align: middle;\n",
       "    }\n",
       "\n",
       "    .dataframe tbody tr th {\n",
       "        vertical-align: top;\n",
       "    }\n",
       "\n",
       "    .dataframe thead th {\n",
       "        text-align: right;\n",
       "    }\n",
       "</style>\n",
       "<table border=\"1\" class=\"dataframe\">\n",
       "  <thead>\n",
       "    <tr style=\"text-align: right;\">\n",
       "      <th></th>\n",
       "      <th>Salary</th>\n",
       "      <th>CareerSatisfaction</th>\n",
       "      <th>HoursPerWeek</th>\n",
       "      <th>JobSatisfaction</th>\n",
       "      <th>StackOverflowSatisfaction</th>\n",
       "    </tr>\n",
       "  </thead>\n",
       "  <tbody>\n",
       "    <tr>\n",
       "      <th>25</th>\n",
       "      <td>175000.000000</td>\n",
       "      <td>7.0</td>\n",
       "      <td>0.0</td>\n",
       "      <td>7.0</td>\n",
       "      <td>9.0</td>\n",
       "    </tr>\n",
       "    <tr>\n",
       "      <th>34</th>\n",
       "      <td>14838.709677</td>\n",
       "      <td>10.0</td>\n",
       "      <td>1.0</td>\n",
       "      <td>8.0</td>\n",
       "      <td>10.0</td>\n",
       "    </tr>\n",
       "    <tr>\n",
       "      <th>52</th>\n",
       "      <td>15674.203822</td>\n",
       "      <td>6.0</td>\n",
       "      <td>4.0</td>\n",
       "      <td>5.0</td>\n",
       "      <td>8.0</td>\n",
       "    </tr>\n",
       "    <tr>\n",
       "      <th>57</th>\n",
       "      <td>43010.752688</td>\n",
       "      <td>10.0</td>\n",
       "      <td>2.0</td>\n",
       "      <td>6.0</td>\n",
       "      <td>10.0</td>\n",
       "    </tr>\n",
       "    <tr>\n",
       "      <th>70</th>\n",
       "      <td>65000.000000</td>\n",
       "      <td>8.0</td>\n",
       "      <td>2.0</td>\n",
       "      <td>5.0</td>\n",
       "      <td>7.0</td>\n",
       "    </tr>\n",
       "  </tbody>\n",
       "</table>\n",
       "</div>"
      ],
      "text/plain": [
       "           Salary  CareerSatisfaction  HoursPerWeek  JobSatisfaction  \\\n",
       "25  175000.000000                 7.0           0.0              7.0   \n",
       "34   14838.709677                10.0           1.0              8.0   \n",
       "52   15674.203822                 6.0           4.0              5.0   \n",
       "57   43010.752688                10.0           2.0              6.0   \n",
       "70   65000.000000                 8.0           2.0              5.0   \n",
       "\n",
       "    StackOverflowSatisfaction  \n",
       "25                        9.0  \n",
       "34                       10.0  \n",
       "52                        8.0  \n",
       "57                       10.0  \n",
       "70                        7.0  "
      ]
     },
     "execution_count": 47,
     "metadata": {},
     "output_type": "execute_result"
    }
   ],
   "source": [
    "all_rm = num_vars.dropna()\n",
    "all_rm.head()"
   ]
  },
  {
   "cell_type": "markdown",
   "metadata": {},
   "source": [
    "### Question 5\n",
    "\n",
    "**5.** Using **all_rm**, create **X_2** be a dataframe (matrix) of all of the numeric feature variables.  Then, let **y_2** be the response vector you would like to predict (Salary).  Run the cell below once you have split the data, and use the result of the code to assign the correct letter to **question5_solution**."
   ]
  },
  {
   "cell_type": "code",
   "execution_count": 48,
   "metadata": {},
   "outputs": [],
   "source": [
    "X_2 = all_rm[['CareerSatisfaction', 'HoursPerWeek', 'JobSatisfaction', 'StackOverflowSatisfaction']]\n",
    "y_2 = all_rm['Salary']\n",
    "\n",
    "# Split data into training and test data, and fit a linear model\n",
    "X_2_train, X_2_test, y_2_train, y_2_test = train_test_split(X_2, y_2 , test_size=.30, random_state=42)\n",
    "lm_2_model = LinearRegression(normalize=True)\n",
    "\n",
    "# If our model works, it should just fit our model to the data. Otherwise, it will let us know.\n",
    "try:\n",
    "    lm_2_model.fit(X_2_train, y_2_train)\n",
    "except:\n",
    "    print(\"Oh no! It doesn't work!!!\")\n",
    "    \n",
    "a = 'Python just likes to break sometimes for no reason at all.' \n",
    "b = 'It worked, because Python is magic.'\n",
    "c = 'It broke because we still have missing values in X'\n",
    "\n",
    "question5_solution = b"
   ]
  },
  {
   "cell_type": "markdown",
   "metadata": {},
   "source": [
    "### Question 6\n",
    "\n",
    "**6.** Now, use **lm_2_model** to predict the **y_2_test** response values, and obtain an r-squared value for how well the predicted values compare to the actual test values.  "
   ]
  },
  {
   "cell_type": "code",
   "execution_count": 49,
   "metadata": {},
   "outputs": [
    {
     "data": {
      "text/plain": [
       "0.030994664959115625"
      ]
     },
     "execution_count": 49,
     "metadata": {},
     "output_type": "execute_result"
    }
   ],
   "source": [
    "y_test_preds = lm_2_model.predict(X_2_test)# Predictions here using X_2 and lm_2_model\n",
    "r2_test = r2_score(y_2_test, y_test_preds) # Rsquared here for comparing test and preds from lm_2_model\n",
    "\n",
    "# Print r2 to see result\n",
    "r2_test"
   ]
  },
  {
   "cell_type": "markdown",
   "metadata": {},
   "source": [
    "### Question 7\n",
    "\n",
    "**7.** Use what you have learned **from the second model you fit** (and as many cells as you need to find the answers) to complete the dictionary with the variables that link to the corresponding descriptions."
   ]
  },
  {
   "cell_type": "code",
   "execution_count": 50,
   "metadata": {},
   "outputs": [],
   "source": [
    "a = 5009\n",
    "b = 'Other'\n",
    "c = 645\n",
    "d = 'We still want to predict their salary'\n",
    "e = 'We do not care to predict their salary'\n",
    "f = False\n",
    "g = True\n",
    "\n",
    "question7_solution = {'The number of reported salaries in the original dataset': a,\n",
    "                       'The number of test salaries predicted using our model': c,\n",
    "                       'If an individual does not rate stackoverflow, but has a salary': d,\n",
    "                       'If an individual does not have a a job satisfaction, but has a salary': d,\n",
    "                       'Our model predicts salaries for the two individuals described above.': f}"
   ]
  },
  {
   "cell_type": "markdown",
   "metadata": {},
   "source": [
    "## Quiz 7 - Imputation Methods & Resources\n",
    "One of the most common methods for working with missing values is by imputing the missing values.  Imputation means that you input a value for values that were originally missing. \n",
    "\n",
    "It is very common to impute in the following ways:\n",
    "1. Impute the **mean** of a column.<br><br>\n",
    "\n",
    "2. If you are working with categorical data or a variable with outliers, then use the **mode** of the column.<br><br>\n",
    "\n",
    "3. Impute 0, a very small number, or a very large number to differentiate missing values from other values.<br><br>\n",
    "\n",
    "4. Use knn to impute values based on features that are most similar.<br><br>\n",
    "\n",
    "In general, you should try to be more careful with missing data in understanding the real world implications and reasons for why the missing values exist.  At the same time, these solutions are very quick, and they enable you to get models off the ground.  You can then iterate on your feature engineering to be more careful as time permits.\n",
    "\n",
    "Let's take a look at how some of them work. Chris' content is again very helpful for many of these items - and you can access it [here](https://chrisalbon.com/).  He uses the [sklearn.preprocessing library](http://scikit-learn.org/stable/modules/preprocessing.html).  There are also a ton of ways to fill in missing values directly using pandas, which can be found [here](https://pandas.pydata.org/pandas-docs/stable/generated/pandas.DataFrame.fillna.html)\n",
    "\n",
    "Create the dataset you will be using for this notebook using the code below."
   ]
  },
  {
   "cell_type": "code",
   "execution_count": 51,
   "metadata": {},
   "outputs": [
    {
     "data": {
      "text/html": [
       "<div>\n",
       "<style scoped>\n",
       "    .dataframe tbody tr th:only-of-type {\n",
       "        vertical-align: middle;\n",
       "    }\n",
       "\n",
       "    .dataframe tbody tr th {\n",
       "        vertical-align: top;\n",
       "    }\n",
       "\n",
       "    .dataframe thead th {\n",
       "        text-align: right;\n",
       "    }\n",
       "</style>\n",
       "<table border=\"1\" class=\"dataframe\">\n",
       "  <thead>\n",
       "    <tr style=\"text-align: right;\">\n",
       "      <th></th>\n",
       "      <th>A</th>\n",
       "      <th>B</th>\n",
       "      <th>C</th>\n",
       "      <th>D</th>\n",
       "      <th>E</th>\n",
       "    </tr>\n",
       "  </thead>\n",
       "  <tbody>\n",
       "    <tr>\n",
       "      <th>0</th>\n",
       "      <td>NaN</td>\n",
       "      <td>3</td>\n",
       "      <td>NaN</td>\n",
       "      <td>NaN</td>\n",
       "      <td>Yes</td>\n",
       "    </tr>\n",
       "    <tr>\n",
       "      <th>1</th>\n",
       "      <td>2.0</td>\n",
       "      <td>4</td>\n",
       "      <td>NaN</td>\n",
       "      <td>True</td>\n",
       "      <td>No</td>\n",
       "    </tr>\n",
       "    <tr>\n",
       "      <th>2</th>\n",
       "      <td>NaN</td>\n",
       "      <td>5</td>\n",
       "      <td>NaN</td>\n",
       "      <td>NaN</td>\n",
       "      <td>Maybe</td>\n",
       "    </tr>\n",
       "    <tr>\n",
       "      <th>3</th>\n",
       "      <td>0.0</td>\n",
       "      <td>1</td>\n",
       "      <td>NaN</td>\n",
       "      <td>False</td>\n",
       "      <td>NaN</td>\n",
       "    </tr>\n",
       "    <tr>\n",
       "      <th>4</th>\n",
       "      <td>7.0</td>\n",
       "      <td>2</td>\n",
       "      <td>NaN</td>\n",
       "      <td>True</td>\n",
       "      <td>NaN</td>\n",
       "    </tr>\n",
       "    <tr>\n",
       "      <th>5</th>\n",
       "      <td>10.0</td>\n",
       "      <td>3</td>\n",
       "      <td>NaN</td>\n",
       "      <td>False</td>\n",
       "      <td>Yes</td>\n",
       "    </tr>\n",
       "    <tr>\n",
       "      <th>6</th>\n",
       "      <td>15.0</td>\n",
       "      <td>5</td>\n",
       "      <td>NaN</td>\n",
       "      <td>NaN</td>\n",
       "      <td>NaN</td>\n",
       "    </tr>\n",
       "  </tbody>\n",
       "</table>\n",
       "</div>"
      ],
      "text/plain": [
       "      A  B   C      D      E\n",
       "0   NaN  3 NaN    NaN    Yes\n",
       "1   2.0  4 NaN   True     No\n",
       "2   NaN  5 NaN    NaN  Maybe\n",
       "3   0.0  1 NaN  False    NaN\n",
       "4   7.0  2 NaN   True    NaN\n",
       "5  10.0  3 NaN  False    Yes\n",
       "6  15.0  5 NaN    NaN    NaN"
      ]
     },
     "execution_count": 51,
     "metadata": {},
     "output_type": "execute_result"
    }
   ],
   "source": [
    "missing_dataset = pd.DataFrame({'A':[np.nan, 2, np.nan, 0, 7, 10, 15],\n",
    "                   'B':[3, 4, 5, 1, 2, 3, 5],\n",
    "                   'C':[np.nan, np.nan, np.nan, np.nan, np.nan, np.nan, np.nan],\n",
    "                   'D':[np.nan, True, np.nan, False, True, False, np.nan],\n",
    "                   'E':['Yes', 'No', 'Maybe', np.nan, np.nan, 'Yes', np.nan]})\n",
    "missing_dataset"
   ]
  },
  {
   "cell_type": "markdown",
   "metadata": {},
   "source": [
    "### Question 1\n",
    "\n",
    "**1.** Use the dictionary below to label the columns as the appropriate data type."
   ]
  },
  {
   "cell_type": "code",
   "execution_count": 52,
   "metadata": {},
   "outputs": [],
   "source": [
    "a = 'categorical'\n",
    "b = 'quantitative'\n",
    "c = 'we cannot tell'\n",
    "d = 'boolean - can treat either way'\n",
    "\n",
    "question1_solution = {'Column A is': b,\n",
    "                      'Column B is': b,\n",
    "                      'Column C is': c,\n",
    "                      'Column D is': d,\n",
    "                      'Column E is': a\n",
    "                     }"
   ]
  },
  {
   "cell_type": "markdown",
   "metadata": {},
   "source": [
    "### Question 2\n",
    "\n",
    "**2.** Are there any columns or rows that you feel comfortable dropping in this dataframe?"
   ]
  },
  {
   "cell_type": "code",
   "execution_count": 53,
   "metadata": {},
   "outputs": [],
   "source": [
    "a = \"Yes\"\n",
    "b = \"No\"\n",
    "\n",
    "should_we_drop = a"
   ]
  },
  {
   "cell_type": "markdown",
   "metadata": {},
   "source": [
    "> You should feel comfortable dropping any rows or columns that are completely missing values (or if they are all the exact same value).  However, dropping other columns or rows, even if only containing a few values, should go through further consideration."
   ]
  },
  {
   "cell_type": "code",
   "execution_count": 54,
   "metadata": {},
   "outputs": [
    {
     "data": {
      "text/html": [
       "<div>\n",
       "<style scoped>\n",
       "    .dataframe tbody tr th:only-of-type {\n",
       "        vertical-align: middle;\n",
       "    }\n",
       "\n",
       "    .dataframe tbody tr th {\n",
       "        vertical-align: top;\n",
       "    }\n",
       "\n",
       "    .dataframe thead th {\n",
       "        text-align: right;\n",
       "    }\n",
       "</style>\n",
       "<table border=\"1\" class=\"dataframe\">\n",
       "  <thead>\n",
       "    <tr style=\"text-align: right;\">\n",
       "      <th></th>\n",
       "      <th>A</th>\n",
       "      <th>B</th>\n",
       "      <th>D</th>\n",
       "      <th>E</th>\n",
       "    </tr>\n",
       "  </thead>\n",
       "  <tbody>\n",
       "    <tr>\n",
       "      <th>0</th>\n",
       "      <td>NaN</td>\n",
       "      <td>3</td>\n",
       "      <td>NaN</td>\n",
       "      <td>Yes</td>\n",
       "    </tr>\n",
       "    <tr>\n",
       "      <th>1</th>\n",
       "      <td>2.0</td>\n",
       "      <td>4</td>\n",
       "      <td>True</td>\n",
       "      <td>No</td>\n",
       "    </tr>\n",
       "    <tr>\n",
       "      <th>2</th>\n",
       "      <td>NaN</td>\n",
       "      <td>5</td>\n",
       "      <td>NaN</td>\n",
       "      <td>Maybe</td>\n",
       "    </tr>\n",
       "    <tr>\n",
       "      <th>3</th>\n",
       "      <td>0.0</td>\n",
       "      <td>1</td>\n",
       "      <td>False</td>\n",
       "      <td>NaN</td>\n",
       "    </tr>\n",
       "    <tr>\n",
       "      <th>4</th>\n",
       "      <td>7.0</td>\n",
       "      <td>2</td>\n",
       "      <td>True</td>\n",
       "      <td>NaN</td>\n",
       "    </tr>\n",
       "    <tr>\n",
       "      <th>5</th>\n",
       "      <td>10.0</td>\n",
       "      <td>3</td>\n",
       "      <td>False</td>\n",
       "      <td>Yes</td>\n",
       "    </tr>\n",
       "    <tr>\n",
       "      <th>6</th>\n",
       "      <td>15.0</td>\n",
       "      <td>5</td>\n",
       "      <td>NaN</td>\n",
       "      <td>NaN</td>\n",
       "    </tr>\n",
       "  </tbody>\n",
       "</table>\n",
       "</div>"
      ],
      "text/plain": [
       "      A  B      D      E\n",
       "0   NaN  3    NaN    Yes\n",
       "1   2.0  4   True     No\n",
       "2   NaN  5    NaN  Maybe\n",
       "3   0.0  1  False    NaN\n",
       "4   7.0  2   True    NaN\n",
       "5  10.0  3  False    Yes\n",
       "6  15.0  5    NaN    NaN"
      ]
     },
     "execution_count": 54,
     "metadata": {},
     "output_type": "execute_result"
    }
   ],
   "source": [
    "# Use this cell to drop any columns or rows you feel comfortable dropping based on the above\n",
    "new_df = missing_dataset.dropna(axis=1, how='all')\n",
    "new_df"
   ]
  },
  {
   "cell_type": "markdown",
   "metadata": {},
   "source": [
    "### Question 3\n",
    "\n",
    "**3.** Using **new_df**, I wrote a lambda function that you can use to impute the mean for the columns of your dataframe using the **apply** method.  Use as many cells as you need to correctly fill in the dictionary **impute_q3** to answer a few questions about your findings."
   ]
  },
  {
   "cell_type": "code",
   "execution_count": 55,
   "metadata": {},
   "outputs": [
    {
     "name": "stdout",
     "output_type": "stream",
     "text": [
      "That broke...\n"
     ]
    }
   ],
   "source": [
    "fill_mean = lambda col: col.fillna(col.mean())\n",
    "\n",
    "try:\n",
    "    new_df.apply(fill_mean, axis=0)\n",
    "except:\n",
    "    print('That broke...')"
   ]
  },
  {
   "cell_type": "code",
   "execution_count": 56,
   "metadata": {},
   "outputs": [
    {
     "name": "stdout",
     "output_type": "stream",
     "text": [
      "This is column A\n",
      "0     6.8\n",
      "1     2.0\n",
      "2     6.8\n",
      "3     0.0\n",
      "4     7.0\n",
      "5    10.0\n",
      "6    15.0\n",
      "Name: A, dtype: float64\n",
      "This is column D\n",
      "0      0.5\n",
      "1     True\n",
      "2      0.5\n",
      "3    False\n",
      "4     True\n",
      "5    False\n",
      "6      0.5\n",
      "Name: D, dtype: object\n",
      "This is column E\n",
      "can only concatenate str (not \"int\") to str\n"
     ]
    }
   ],
   "source": [
    "# Check what you need to answer the questions below\n",
    "cols = ['A', 'D', 'E']\n",
    "for col in cols:\n",
    "    try:\n",
    "        print(f\"This is column {col}\")\n",
    "        print(fill_mean(new_df[col]))\n",
    "    except Exception as e:\n",
    "        print(e)"
   ]
  },
  {
   "cell_type": "code",
   "execution_count": 57,
   "metadata": {},
   "outputs": [],
   "source": [
    "a = \"fills with the mean, but that doesn't actually make sense in this case.\"\n",
    "b = \"gives an error.\"\n",
    "c = \"is no problem - it fills the NaN values with the mean as expected.\"\n",
    "\n",
    "\n",
    "impute_q3 = {'Filling column A': c,\n",
    "             'Filling column D': a,\n",
    "             'Filling column E': b\n",
    "}"
   ]
  },
  {
   "cell_type": "markdown",
   "metadata": {},
   "source": [
    "> Only the first column fills with the mean correctly. We can't fill the mean of a categorical variable, and the boolean treats the True as 1 and False as 0 to give values that are not 1 or 0."
   ]
  },
  {
   "cell_type": "markdown",
   "metadata": {},
   "source": [
    "### Question 4\n",
    "\n",
    "**4.** Given the results above, it might make more sense to fill some columns with the mode.  Write your own function to fill a column with the mode value, and use it on the two columns that might benefit from this type of imputation.  Use the dictionary **impute_q4** to answer some questions about your findings."
   ]
  },
  {
   "cell_type": "code",
   "execution_count": 58,
   "metadata": {},
   "outputs": [
    {
     "data": {
      "text/html": [
       "<div>\n",
       "<style scoped>\n",
       "    .dataframe tbody tr th:only-of-type {\n",
       "        vertical-align: middle;\n",
       "    }\n",
       "\n",
       "    .dataframe tbody tr th {\n",
       "        vertical-align: top;\n",
       "    }\n",
       "\n",
       "    .dataframe thead th {\n",
       "        text-align: right;\n",
       "    }\n",
       "</style>\n",
       "<table border=\"1\" class=\"dataframe\">\n",
       "  <thead>\n",
       "    <tr style=\"text-align: right;\">\n",
       "      <th></th>\n",
       "      <th>A</th>\n",
       "      <th>B</th>\n",
       "      <th>D</th>\n",
       "      <th>E</th>\n",
       "    </tr>\n",
       "  </thead>\n",
       "  <tbody>\n",
       "    <tr>\n",
       "      <th>0</th>\n",
       "      <td>0.0</td>\n",
       "      <td>3</td>\n",
       "      <td>False</td>\n",
       "      <td>Yes</td>\n",
       "    </tr>\n",
       "    <tr>\n",
       "      <th>1</th>\n",
       "      <td>2.0</td>\n",
       "      <td>4</td>\n",
       "      <td>True</td>\n",
       "      <td>No</td>\n",
       "    </tr>\n",
       "    <tr>\n",
       "      <th>2</th>\n",
       "      <td>0.0</td>\n",
       "      <td>5</td>\n",
       "      <td>False</td>\n",
       "      <td>Maybe</td>\n",
       "    </tr>\n",
       "    <tr>\n",
       "      <th>3</th>\n",
       "      <td>0.0</td>\n",
       "      <td>1</td>\n",
       "      <td>False</td>\n",
       "      <td>Yes</td>\n",
       "    </tr>\n",
       "    <tr>\n",
       "      <th>4</th>\n",
       "      <td>7.0</td>\n",
       "      <td>2</td>\n",
       "      <td>True</td>\n",
       "      <td>Yes</td>\n",
       "    </tr>\n",
       "    <tr>\n",
       "      <th>5</th>\n",
       "      <td>10.0</td>\n",
       "      <td>3</td>\n",
       "      <td>False</td>\n",
       "      <td>Yes</td>\n",
       "    </tr>\n",
       "    <tr>\n",
       "      <th>6</th>\n",
       "      <td>15.0</td>\n",
       "      <td>5</td>\n",
       "      <td>False</td>\n",
       "      <td>Yes</td>\n",
       "    </tr>\n",
       "  </tbody>\n",
       "</table>\n",
       "</div>"
      ],
      "text/plain": [
       "      A  B      D      E\n",
       "0   0.0  3  False    Yes\n",
       "1   2.0  4   True     No\n",
       "2   0.0  5  False  Maybe\n",
       "3   0.0  1  False    Yes\n",
       "4   7.0  2   True    Yes\n",
       "5  10.0  3  False    Yes\n",
       "6  15.0  5  False    Yes"
      ]
     },
     "execution_count": 58,
     "metadata": {},
     "output_type": "execute_result"
    }
   ],
   "source": [
    "fill_mode = lambda col: col.fillna(col.mode().iloc[0])\n",
    "new_df.apply(fill_mode, axis=0)"
   ]
  },
  {
   "cell_type": "code",
   "execution_count": 59,
   "metadata": {},
   "outputs": [
    {
     "data": {
      "text/html": [
       "<div>\n",
       "<style scoped>\n",
       "    .dataframe tbody tr th:only-of-type {\n",
       "        vertical-align: middle;\n",
       "    }\n",
       "\n",
       "    .dataframe tbody tr th {\n",
       "        vertical-align: top;\n",
       "    }\n",
       "\n",
       "    .dataframe thead th {\n",
       "        text-align: right;\n",
       "    }\n",
       "</style>\n",
       "<table border=\"1\" class=\"dataframe\">\n",
       "  <thead>\n",
       "    <tr style=\"text-align: right;\">\n",
       "      <th></th>\n",
       "      <th>A</th>\n",
       "      <th>B</th>\n",
       "      <th>D</th>\n",
       "      <th>E</th>\n",
       "    </tr>\n",
       "  </thead>\n",
       "  <tbody>\n",
       "    <tr>\n",
       "      <th>0</th>\n",
       "      <td>NaN</td>\n",
       "      <td>3</td>\n",
       "      <td>NaN</td>\n",
       "      <td>Yes</td>\n",
       "    </tr>\n",
       "    <tr>\n",
       "      <th>1</th>\n",
       "      <td>2.0</td>\n",
       "      <td>4</td>\n",
       "      <td>True</td>\n",
       "      <td>No</td>\n",
       "    </tr>\n",
       "    <tr>\n",
       "      <th>2</th>\n",
       "      <td>NaN</td>\n",
       "      <td>5</td>\n",
       "      <td>NaN</td>\n",
       "      <td>Maybe</td>\n",
       "    </tr>\n",
       "    <tr>\n",
       "      <th>3</th>\n",
       "      <td>0.0</td>\n",
       "      <td>1</td>\n",
       "      <td>False</td>\n",
       "      <td>NaN</td>\n",
       "    </tr>\n",
       "    <tr>\n",
       "      <th>4</th>\n",
       "      <td>7.0</td>\n",
       "      <td>2</td>\n",
       "      <td>True</td>\n",
       "      <td>NaN</td>\n",
       "    </tr>\n",
       "    <tr>\n",
       "      <th>5</th>\n",
       "      <td>10.0</td>\n",
       "      <td>3</td>\n",
       "      <td>False</td>\n",
       "      <td>Yes</td>\n",
       "    </tr>\n",
       "    <tr>\n",
       "      <th>6</th>\n",
       "      <td>15.0</td>\n",
       "      <td>5</td>\n",
       "      <td>NaN</td>\n",
       "      <td>NaN</td>\n",
       "    </tr>\n",
       "  </tbody>\n",
       "</table>\n",
       "</div>"
      ],
      "text/plain": [
       "      A  B      D      E\n",
       "0   NaN  3    NaN    Yes\n",
       "1   2.0  4   True     No\n",
       "2   NaN  5    NaN  Maybe\n",
       "3   0.0  1  False    NaN\n",
       "4   7.0  2   True    NaN\n",
       "5  10.0  3  False    Yes\n",
       "6  15.0  5    NaN    NaN"
      ]
     },
     "execution_count": 59,
     "metadata": {},
     "output_type": "execute_result"
    }
   ],
   "source": [
    "new_df"
   ]
  },
  {
   "cell_type": "code",
   "execution_count": 60,
   "metadata": {},
   "outputs": [],
   "source": [
    "a = \"Did not impute the mode.\"\n",
    "b = \"Imputes the mode.\"\n",
    "\n",
    "impute_q4 = {'Filling column A': a,\n",
    "             'Filling column D': a,\n",
    "             'Filling column E': b}"
   ]
  },
  {
   "cell_type": "markdown",
   "metadata": {},
   "source": [
    "> Only one of these columns actually imputed a mode.  None of the values in the first column appeared more than once, and 0 was imputed for all of the NaN values.  There were an even number of True and False values in col D, and False was imputed for all the NaN values."
   ]
  },
  {
   "cell_type": "markdown",
   "metadata": {},
   "source": [
    "You saw two of the most common ways to impute values in this notebook, and hopefully, you realized that even these methods have complications. Again, these methods can be a great first step to get your models off the ground, but there are potentially detrimental aspects to the bias introduced into your models using these methods."
   ]
  },
  {
   "cell_type": "markdown",
   "metadata": {},
   "source": [
    "## Quiz 8 - Imputing Values\n",
    "You now have some experience working with missing values, and imputing based on common methods.  Now, it is your turn to put your skills to work in being able to predict for rows even when they have NaN values.\n",
    "\n",
    "First, let's read in the necessary libraries, and get the results together from what you achieved in the previous attempt."
   ]
  },
  {
   "cell_type": "code",
   "execution_count": 61,
   "metadata": {},
   "outputs": [
    {
     "name": "stdout",
     "output_type": "stream",
     "text": [
      "The r-squared score for your model was 0.030994664959115625 on 1602 values.\n"
     ]
    }
   ],
   "source": [
    "#Only use quant variables and drop any rows with missing values\n",
    "num_vars = df[['Salary', 'CareerSatisfaction', 'HoursPerWeek', 'JobSatisfaction', 'StackOverflowSatisfaction']]\n",
    "df_dropna = num_vars.dropna(axis=0)\n",
    "\n",
    "#Split into explanatory and response variables\n",
    "X = df_dropna[['CareerSatisfaction', 'HoursPerWeek', 'JobSatisfaction', 'StackOverflowSatisfaction']]\n",
    "y = df_dropna['Salary']\n",
    "\n",
    "#Split into train and test\n",
    "X_train, X_test, y_train, y_test = train_test_split(X, y, test_size = .30, random_state=42) \n",
    "\n",
    "# Instantiate\n",
    "lm_model = LinearRegression(normalize=True)\n",
    "\n",
    "# Fit\n",
    "lm_model.fit(X_train, y_train)\n",
    "        \n",
    "#Predict and score the model\n",
    "y_test_preds = lm_model.predict(X_test)\n",
    "print(f\"The r-squared score for your model was {r2_score(y_test, y_test_preds)} on {len(y_test)} values.\")"
   ]
  },
  {
   "cell_type": "markdown",
   "metadata": {},
   "source": [
    "### Question 1\n",
    "\n",
    "**1.** As you may remember from an earlier analysis, there are many more salaries to predict than the values shown from the above code.  One of the ways we can start to make predictions on these values is by imputing items into the **X** matrix instead of dropping them.\n",
    "\n",
    "Using the **num_vars** dataframe drop the rows with missing values of the response (Salary) - store this new dataframe in **drop_sal_df**, then impute the values for all the other missing values with the mean of the column - store this in **fill_df**."
   ]
  },
  {
   "cell_type": "code",
   "execution_count": 62,
   "metadata": {},
   "outputs": [
    {
     "data": {
      "text/html": [
       "<div>\n",
       "<style scoped>\n",
       "    .dataframe tbody tr th:only-of-type {\n",
       "        vertical-align: middle;\n",
       "    }\n",
       "\n",
       "    .dataframe tbody tr th {\n",
       "        vertical-align: top;\n",
       "    }\n",
       "\n",
       "    .dataframe thead th {\n",
       "        text-align: right;\n",
       "    }\n",
       "</style>\n",
       "<table border=\"1\" class=\"dataframe\">\n",
       "  <thead>\n",
       "    <tr style=\"text-align: right;\">\n",
       "      <th></th>\n",
       "      <th>Salary</th>\n",
       "      <th>CareerSatisfaction</th>\n",
       "      <th>HoursPerWeek</th>\n",
       "      <th>JobSatisfaction</th>\n",
       "      <th>StackOverflowSatisfaction</th>\n",
       "    </tr>\n",
       "  </thead>\n",
       "  <tbody>\n",
       "    <tr>\n",
       "      <th>2</th>\n",
       "      <td>113750.0</td>\n",
       "      <td>8.0</td>\n",
       "      <td>NaN</td>\n",
       "      <td>9.0</td>\n",
       "      <td>8.0</td>\n",
       "    </tr>\n",
       "    <tr>\n",
       "      <th>14</th>\n",
       "      <td>100000.0</td>\n",
       "      <td>8.0</td>\n",
       "      <td>NaN</td>\n",
       "      <td>8.0</td>\n",
       "      <td>8.0</td>\n",
       "    </tr>\n",
       "    <tr>\n",
       "      <th>17</th>\n",
       "      <td>130000.0</td>\n",
       "      <td>9.0</td>\n",
       "      <td>NaN</td>\n",
       "      <td>8.0</td>\n",
       "      <td>8.0</td>\n",
       "    </tr>\n",
       "    <tr>\n",
       "      <th>18</th>\n",
       "      <td>82500.0</td>\n",
       "      <td>5.0</td>\n",
       "      <td>NaN</td>\n",
       "      <td>3.0</td>\n",
       "      <td>NaN</td>\n",
       "    </tr>\n",
       "    <tr>\n",
       "      <th>22</th>\n",
       "      <td>100764.0</td>\n",
       "      <td>8.0</td>\n",
       "      <td>NaN</td>\n",
       "      <td>9.0</td>\n",
       "      <td>8.0</td>\n",
       "    </tr>\n",
       "  </tbody>\n",
       "</table>\n",
       "</div>"
      ],
      "text/plain": [
       "      Salary  CareerSatisfaction  HoursPerWeek  JobSatisfaction  \\\n",
       "2   113750.0                 8.0           NaN              9.0   \n",
       "14  100000.0                 8.0           NaN              8.0   \n",
       "17  130000.0                 9.0           NaN              8.0   \n",
       "18   82500.0                 5.0           NaN              3.0   \n",
       "22  100764.0                 8.0           NaN              9.0   \n",
       "\n",
       "    StackOverflowSatisfaction  \n",
       "2                         8.0  \n",
       "14                        8.0  \n",
       "17                        8.0  \n",
       "18                        NaN  \n",
       "22                        8.0  "
      ]
     },
     "execution_count": 62,
     "metadata": {},
     "output_type": "execute_result"
    }
   ],
   "source": [
    "#Drop the rows with missing salaries\n",
    "drop_sal_df = num_vars.dropna(subset=['Salary'])\n",
    "\n",
    "# test look\n",
    "drop_sal_df.head()"
   ]
  },
  {
   "cell_type": "code",
   "execution_count": 63,
   "metadata": {},
   "outputs": [
    {
     "data": {
      "text/html": [
       "<div>\n",
       "<style scoped>\n",
       "    .dataframe tbody tr th:only-of-type {\n",
       "        vertical-align: middle;\n",
       "    }\n",
       "\n",
       "    .dataframe tbody tr th {\n",
       "        vertical-align: top;\n",
       "    }\n",
       "\n",
       "    .dataframe thead th {\n",
       "        text-align: right;\n",
       "    }\n",
       "</style>\n",
       "<table border=\"1\" class=\"dataframe\">\n",
       "  <thead>\n",
       "    <tr style=\"text-align: right;\">\n",
       "      <th></th>\n",
       "      <th>Salary</th>\n",
       "      <th>CareerSatisfaction</th>\n",
       "      <th>HoursPerWeek</th>\n",
       "      <th>JobSatisfaction</th>\n",
       "      <th>StackOverflowSatisfaction</th>\n",
       "    </tr>\n",
       "  </thead>\n",
       "  <tbody>\n",
       "    <tr>\n",
       "      <th>2</th>\n",
       "      <td>113750.0</td>\n",
       "      <td>8.0</td>\n",
       "      <td>2.64292</td>\n",
       "      <td>9.0</td>\n",
       "      <td>8.000000</td>\n",
       "    </tr>\n",
       "    <tr>\n",
       "      <th>14</th>\n",
       "      <td>100000.0</td>\n",
       "      <td>8.0</td>\n",
       "      <td>2.64292</td>\n",
       "      <td>8.0</td>\n",
       "      <td>8.000000</td>\n",
       "    </tr>\n",
       "    <tr>\n",
       "      <th>17</th>\n",
       "      <td>130000.0</td>\n",
       "      <td>9.0</td>\n",
       "      <td>2.64292</td>\n",
       "      <td>8.0</td>\n",
       "      <td>8.000000</td>\n",
       "    </tr>\n",
       "    <tr>\n",
       "      <th>18</th>\n",
       "      <td>82500.0</td>\n",
       "      <td>5.0</td>\n",
       "      <td>2.64292</td>\n",
       "      <td>3.0</td>\n",
       "      <td>8.511858</td>\n",
       "    </tr>\n",
       "    <tr>\n",
       "      <th>22</th>\n",
       "      <td>100764.0</td>\n",
       "      <td>8.0</td>\n",
       "      <td>2.64292</td>\n",
       "      <td>9.0</td>\n",
       "      <td>8.000000</td>\n",
       "    </tr>\n",
       "  </tbody>\n",
       "</table>\n",
       "</div>"
      ],
      "text/plain": [
       "      Salary  CareerSatisfaction  HoursPerWeek  JobSatisfaction  \\\n",
       "2   113750.0                 8.0       2.64292              9.0   \n",
       "14  100000.0                 8.0       2.64292              8.0   \n",
       "17  130000.0                 9.0       2.64292              8.0   \n",
       "18   82500.0                 5.0       2.64292              3.0   \n",
       "22  100764.0                 8.0       2.64292              9.0   \n",
       "\n",
       "    StackOverflowSatisfaction  \n",
       "2                    8.000000  \n",
       "14                   8.000000  \n",
       "17                   8.000000  \n",
       "18                   8.511858  \n",
       "22                   8.000000  "
      ]
     },
     "execution_count": 63,
     "metadata": {},
     "output_type": "execute_result"
    }
   ],
   "source": [
    "fill_mean = lambda col: col.fillna(col.mean())\n",
    "fill_df = drop_sal_df.apply(fill_mean)#Fill all missing values with the mean of the column.\n",
    "\n",
    "# test look\n",
    "fill_df.head()"
   ]
  },
  {
   "cell_type": "markdown",
   "metadata": {},
   "source": [
    "### Question 2\n",
    "\n",
    "**2.** Using **fill_df**, predict Salary based on all of the other quantitative variables in the dataset.  You can use the template above to assist in fitting your model:\n",
    "\n",
    "* Split the data into explanatory and response variables\n",
    "* Split the data into train and test (using seed of 42 and test_size of .30 as above)\n",
    "* Instantiate your linear model using normalized data\n",
    "* Fit your model on the training data\n",
    "* Predict using the test data\n",
    "* Compute a score for your model fit on all the data, and show how many rows you predicted for\n",
    "\n",
    "Use the tests to assure you completed the steps correctly."
   ]
  },
  {
   "cell_type": "code",
   "execution_count": 64,
   "metadata": {},
   "outputs": [
    {
     "name": "stdout",
     "output_type": "stream",
     "text": [
      "The r-squared score for your model was 0.04072431792894726 on 3868 values.\n"
     ]
    }
   ],
   "source": [
    "#Split into explanatory and response variables\n",
    "X = fill_df[['CareerSatisfaction', 'HoursPerWeek', 'JobSatisfaction', 'StackOverflowSatisfaction']]\n",
    "y = fill_df['Salary']\n",
    "\n",
    "#Split into train and test\n",
    "X_train, X_test, y_train, y_test = train_test_split(X, y, test_size=.3, random_state=42)\n",
    "\n",
    "#Predict and score the model\n",
    "lm_model.fit(X_train, y_train)\n",
    "y_test_preds = lm_model.predict(X_test)\n",
    "\n",
    "#Rsquared and y_test\n",
    "rsquared_score = r2_score(y_test, y_test_preds)#r2_score\n",
    "length_y_test = len(y_test)#num in y_test\n",
    "\n",
    "print(f\"The r-squared score for your model was {rsquared_score} on {length_y_test} values.\")"
   ]
  },
  {
   "cell_type": "markdown",
   "metadata": {},
   "source": [
    "This model still isn't great.  Let's see if we can't improve it by using some of the other columns in the dataset."
   ]
  },
  {
   "cell_type": "markdown",
   "metadata": {},
   "source": [
    "## Quiz 9 - Categorical Variables\n",
    "\n",
    "One of the main ways for working with categorical variables is using 0, 1 encodings (**One Hot Encoding**).  In this technique, you create a new column for every level of the categorical variable.  The **advantages** of this approach include:\n",
    "\n",
    "1. The ability to have differing influences of each level on the response.\n",
    "2. You do not impose a rank of the categories.\n",
    "3. The ability to interpret the results more easily than other encodings.\n",
    "\n",
    "The **disadvantages** of this approach are that you introduce a large number of effects into your model.  If you have a large number of categorical variables or categorical variables with a large number of levels, but not a large sample size, you might not be able to estimate the impact of each of these variables on your response variable.  There are some rules of thumb that suggest 10 data points for each variable you add to your model.  That is 10 rows for each column.  This is a reasonable lower bound, but the larger your sample (assuming it is representative), the better.\n",
    "\n",
    "Let's try out adding dummy variables for the categorical variables into the model.  We will compare to see the improvement over the original model only using quantitative variables."
   ]
  },
  {
   "cell_type": "markdown",
   "metadata": {},
   "source": [
    "### Question 1\n",
    "\n",
    "**1.** Use the **df** dataframe. Identify the columns that are categorical in nature.  How many of the columns are considered categorical?  Use the reference [here](http://pbpython.com/categorical-encoding.html) if you get stuck."
   ]
  },
  {
   "cell_type": "code",
   "execution_count": 65,
   "metadata": {},
   "outputs": [
    {
     "data": {
      "text/plain": [
       "147"
      ]
     },
     "execution_count": 65,
     "metadata": {},
     "output_type": "execute_result"
    }
   ],
   "source": [
    "# Subset to a dataframe only holding the categorical columns\n",
    "cat_df = df.select_dtypes(include=['object'])\n",
    "\n",
    "# Print how many categorical columns are in the dataframe - should be 147\n",
    "cat_df.shape[1]"
   ]
  },
  {
   "cell_type": "markdown",
   "metadata": {},
   "source": [
    "### Question 2\n",
    "\n",
    "**2.** Use **cat_df** and the cells below to fill in the dictionary below the correct value for each statement."
   ]
  },
  {
   "cell_type": "code",
   "execution_count": 66,
   "metadata": {},
   "outputs": [
    {
     "name": "stdout",
     "output_type": "stream",
     "text": [
      "6\n",
      "50\n",
      "13\n"
     ]
    }
   ],
   "source": [
    "# the number of columns with no missing values\n",
    "print(len(cat_df.columns) - cat_df.isnull().any().sum())\n",
    "\n",
    "# the number of columns with more than half of the column missing\n",
    "print(sum(cat_df.isnull().mean() > 0.5))\n",
    "\n",
    "# the number of columns with more than 75% of the column missing\n",
    "print(sum(cat_df.isnull().mean() > 0.75))"
   ]
  },
  {
   "cell_type": "code",
   "execution_count": 67,
   "metadata": {},
   "outputs": [],
   "source": [
    "# Provide the key as an `integer` that answers the question\n",
    "\n",
    "cat_df_dict = {'the number of columns with no missing values': 6, \n",
    "               'the number of columns with more than half of the column missing': 50,\n",
    "               'the number of columns with more than 75% of the column missing': 13\n",
    "}"
   ]
  },
  {
   "cell_type": "markdown",
   "metadata": {},
   "source": [
    "### Question 3\n",
    "\n",
    "**3.** For each of the categorical variables, we now need to create dummy columns.  However, as we saw above, there are a lot of missing values in the current set of categorical columns.  So, you might be wondering, what happens when you dummy a column that has missing values.\n",
    "\n",
    "The documentation for creating dummy variables in pandas is available [here](http://pandas.pydata.org/pandas-docs/version/0.17.0/generated/pandas.get_dummies.html), but we can also just put this to practice to see what happens.\n",
    "\n",
    "First, run the cell below to create a dataset that you will use before moving to the full stackoverflow data.\n",
    "\n",
    "After you have created **dummy_var_df**, use the additional cells to fill in the **sol_3_dict** with the correct variables that match each key."
   ]
  },
  {
   "cell_type": "code",
   "execution_count": 68,
   "metadata": {},
   "outputs": [
    {
     "data": {
      "text/html": [
       "<div>\n",
       "<style scoped>\n",
       "    .dataframe tbody tr th:only-of-type {\n",
       "        vertical-align: middle;\n",
       "    }\n",
       "\n",
       "    .dataframe tbody tr th {\n",
       "        vertical-align: top;\n",
       "    }\n",
       "\n",
       "    .dataframe thead th {\n",
       "        text-align: right;\n",
       "    }\n",
       "</style>\n",
       "<table border=\"1\" class=\"dataframe\">\n",
       "  <thead>\n",
       "    <tr style=\"text-align: right;\">\n",
       "      <th></th>\n",
       "      <th>col1</th>\n",
       "      <th>col2</th>\n",
       "    </tr>\n",
       "  </thead>\n",
       "  <tbody>\n",
       "    <tr>\n",
       "      <th>0</th>\n",
       "      <td>a</td>\n",
       "      <td>1.0</td>\n",
       "    </tr>\n",
       "    <tr>\n",
       "      <th>1</th>\n",
       "      <td>a</td>\n",
       "      <td>NaN</td>\n",
       "    </tr>\n",
       "    <tr>\n",
       "      <th>2</th>\n",
       "      <td>b</td>\n",
       "      <td>3.0</td>\n",
       "    </tr>\n",
       "    <tr>\n",
       "      <th>3</th>\n",
       "      <td>b</td>\n",
       "      <td>NaN</td>\n",
       "    </tr>\n",
       "    <tr>\n",
       "      <th>4</th>\n",
       "      <td>a</td>\n",
       "      <td>5.0</td>\n",
       "    </tr>\n",
       "    <tr>\n",
       "      <th>5</th>\n",
       "      <td>NaN</td>\n",
       "      <td>6.0</td>\n",
       "    </tr>\n",
       "    <tr>\n",
       "      <th>6</th>\n",
       "      <td>b</td>\n",
       "      <td>7.0</td>\n",
       "    </tr>\n",
       "    <tr>\n",
       "      <th>7</th>\n",
       "      <td>NaN</td>\n",
       "      <td>8.0</td>\n",
       "    </tr>\n",
       "  </tbody>\n",
       "</table>\n",
       "</div>"
      ],
      "text/plain": [
       "  col1  col2\n",
       "0    a   1.0\n",
       "1    a   NaN\n",
       "2    b   3.0\n",
       "3    b   NaN\n",
       "4    a   5.0\n",
       "5  NaN   6.0\n",
       "6    b   7.0\n",
       "7  NaN   8.0"
      ]
     },
     "execution_count": 68,
     "metadata": {},
     "output_type": "execute_result"
    }
   ],
   "source": [
    "dummy_var_df = pd.DataFrame({'col1': ['a', 'a', 'b', 'b', 'a', np.nan, 'b', np.nan],\n",
    "                             'col2': [1, np.nan, 3, np.nan, 5, 6, 7, 8] \n",
    "})\n",
    "                            \n",
    "dummy_var_df"
   ]
  },
  {
   "cell_type": "code",
   "execution_count": 69,
   "metadata": {},
   "outputs": [
    {
     "data": {
      "text/html": [
       "<div>\n",
       "<style scoped>\n",
       "    .dataframe tbody tr th:only-of-type {\n",
       "        vertical-align: middle;\n",
       "    }\n",
       "\n",
       "    .dataframe tbody tr th {\n",
       "        vertical-align: top;\n",
       "    }\n",
       "\n",
       "    .dataframe thead th {\n",
       "        text-align: right;\n",
       "    }\n",
       "</style>\n",
       "<table border=\"1\" class=\"dataframe\">\n",
       "  <thead>\n",
       "    <tr style=\"text-align: right;\">\n",
       "      <th></th>\n",
       "      <th>a</th>\n",
       "      <th>b</th>\n",
       "    </tr>\n",
       "  </thead>\n",
       "  <tbody>\n",
       "    <tr>\n",
       "      <th>0</th>\n",
       "      <td>1</td>\n",
       "      <td>0</td>\n",
       "    </tr>\n",
       "    <tr>\n",
       "      <th>1</th>\n",
       "      <td>1</td>\n",
       "      <td>0</td>\n",
       "    </tr>\n",
       "    <tr>\n",
       "      <th>2</th>\n",
       "      <td>0</td>\n",
       "      <td>1</td>\n",
       "    </tr>\n",
       "    <tr>\n",
       "      <th>3</th>\n",
       "      <td>0</td>\n",
       "      <td>1</td>\n",
       "    </tr>\n",
       "    <tr>\n",
       "      <th>4</th>\n",
       "      <td>1</td>\n",
       "      <td>0</td>\n",
       "    </tr>\n",
       "    <tr>\n",
       "      <th>5</th>\n",
       "      <td>0</td>\n",
       "      <td>0</td>\n",
       "    </tr>\n",
       "    <tr>\n",
       "      <th>6</th>\n",
       "      <td>0</td>\n",
       "      <td>1</td>\n",
       "    </tr>\n",
       "    <tr>\n",
       "      <th>7</th>\n",
       "      <td>0</td>\n",
       "      <td>0</td>\n",
       "    </tr>\n",
       "  </tbody>\n",
       "</table>\n",
       "</div>"
      ],
      "text/plain": [
       "   a  b\n",
       "0  1  0\n",
       "1  1  0\n",
       "2  0  1\n",
       "3  0  1\n",
       "4  1  0\n",
       "5  0  0\n",
       "6  0  1\n",
       "7  0  0"
      ]
     },
     "execution_count": 69,
     "metadata": {},
     "output_type": "execute_result"
    }
   ],
   "source": [
    "pd.get_dummies(dummy_var_df['col1'])"
   ]
  },
  {
   "cell_type": "code",
   "execution_count": 70,
   "metadata": {},
   "outputs": [],
   "source": [
    "a = 1\n",
    "b = 2\n",
    "c = 3\n",
    "d = 'col1'\n",
    "e = 'col2'\n",
    "f = 'the rows with NaNs are dropped by default'\n",
    "g = 'the NaNs are always encoded as 0'\n",
    "\n",
    "\n",
    "sol_3_dict = {'Which column should you create a dummy variable for?': d,\n",
    "              'When you use the default settings for creating dummy variables, how many are created?': b,\n",
    "              'What happens with the nan values?': g\n",
    "             }"
   ]
  },
  {
   "cell_type": "markdown",
   "metadata": {},
   "source": [
    "### Question 4\n",
    "\n",
    "**4.** Notice, you can also use **get_dummies** to encode **NaN** values as their own dummy coded column using the **dummy_na** argument.  Often these NaN values are also informative, but you are not capturing them by leaving them as 0 in every column of your model.\n",
    "\n",
    "Create a new encoding for **col1** of **dummy_var_df** that provides dummy columns not only for each level, but also for the missing values below. Store the 3 resulting dummy columns in **dummy_cols_df** and check your solution against ours."
   ]
  },
  {
   "cell_type": "code",
   "execution_count": 71,
   "metadata": {},
   "outputs": [
    {
     "data": {
      "text/html": [
       "<div>\n",
       "<style scoped>\n",
       "    .dataframe tbody tr th:only-of-type {\n",
       "        vertical-align: middle;\n",
       "    }\n",
       "\n",
       "    .dataframe tbody tr th {\n",
       "        vertical-align: top;\n",
       "    }\n",
       "\n",
       "    .dataframe thead th {\n",
       "        text-align: right;\n",
       "    }\n",
       "</style>\n",
       "<table border=\"1\" class=\"dataframe\">\n",
       "  <thead>\n",
       "    <tr style=\"text-align: right;\">\n",
       "      <th></th>\n",
       "      <th>a</th>\n",
       "      <th>b</th>\n",
       "      <th>nan</th>\n",
       "    </tr>\n",
       "  </thead>\n",
       "  <tbody>\n",
       "    <tr>\n",
       "      <th>0</th>\n",
       "      <td>1</td>\n",
       "      <td>0</td>\n",
       "      <td>0</td>\n",
       "    </tr>\n",
       "    <tr>\n",
       "      <th>1</th>\n",
       "      <td>1</td>\n",
       "      <td>0</td>\n",
       "      <td>0</td>\n",
       "    </tr>\n",
       "    <tr>\n",
       "      <th>2</th>\n",
       "      <td>0</td>\n",
       "      <td>1</td>\n",
       "      <td>0</td>\n",
       "    </tr>\n",
       "    <tr>\n",
       "      <th>3</th>\n",
       "      <td>0</td>\n",
       "      <td>1</td>\n",
       "      <td>0</td>\n",
       "    </tr>\n",
       "    <tr>\n",
       "      <th>4</th>\n",
       "      <td>1</td>\n",
       "      <td>0</td>\n",
       "      <td>0</td>\n",
       "    </tr>\n",
       "    <tr>\n",
       "      <th>5</th>\n",
       "      <td>0</td>\n",
       "      <td>0</td>\n",
       "      <td>1</td>\n",
       "    </tr>\n",
       "    <tr>\n",
       "      <th>6</th>\n",
       "      <td>0</td>\n",
       "      <td>1</td>\n",
       "      <td>0</td>\n",
       "    </tr>\n",
       "    <tr>\n",
       "      <th>7</th>\n",
       "      <td>0</td>\n",
       "      <td>0</td>\n",
       "      <td>1</td>\n",
       "    </tr>\n",
       "  </tbody>\n",
       "</table>\n",
       "</div>"
      ],
      "text/plain": [
       "   a  b  NaN\n",
       "0  1  0    0\n",
       "1  1  0    0\n",
       "2  0  1    0\n",
       "3  0  1    0\n",
       "4  1  0    0\n",
       "5  0  0    1\n",
       "6  0  1    0\n",
       "7  0  0    1"
      ]
     },
     "execution_count": 71,
     "metadata": {},
     "output_type": "execute_result"
    }
   ],
   "source": [
    "#Create the three dummy columns for dummy_var_df\n",
    "dummy_cols_df = pd.get_dummies(dummy_var_df['col1'], dummy_na=True)\n",
    "\n",
    "# Look at your result\n",
    "dummy_cols_df"
   ]
  },
  {
   "cell_type": "markdown",
   "metadata": {},
   "source": [
    "### Question 5\n",
    "\n",
    "**5.** We could use either of the above to begin creating an X matrix that would (potentially) allow us to predict better than just the numeric columns we have been using thus far.\n",
    "\n",
    "First, complete the **create_dummy_df**.  Follow the instructions in the document string to assist as necessary."
   ]
  },
  {
   "cell_type": "code",
   "execution_count": 72,
   "metadata": {},
   "outputs": [],
   "source": [
    "#Create a copy of the dataframe\n",
    "cat_df_copy = cat_df.copy()\n",
    "#Pull a list of the column names of the categorical variables\n",
    "cat_cols_lst = cat_df.columns\n",
    "\n",
    "def create_dummy_df(df, cat_cols, dummy_na):\n",
    "    '''\n",
    "    INPUT:\n",
    "    df - pandas dataframe with categorical variables you want to dummy\n",
    "    cat_cols - list of strings that are associated with names of the categorical columns\n",
    "    dummy_na - Bool holding whether you want to dummy NA vals of categorical columns or not\n",
    "    \n",
    "    OUTPUT:\n",
    "    df - a new dataframe that has the following characteristics:\n",
    "            1. contains all columns that were not specified as categorical\n",
    "            2. removes all the original columns in cat_cols\n",
    "            3. dummy columns for each of the categorical columns in cat_cols\n",
    "            4. if dummy_na is True - it also contains dummy columns for the NaN values\n",
    "            5. Use a prefix of the column name with an underscore (_) for separating \n",
    "    '''\n",
    "    for col in cat_cols:\n",
    "        # Why drop first please see this post\n",
    "        # https://datascience.stackexchange.com/questions/27957/why-do-we-need-to-discard-one-dummy-variable\n",
    "        try:\n",
    "            df = pd.concat([df.drop(col, axis=1),\n",
    "                            pd.get_dummies(df[col], prefix=col, prefix_sep='_', drop_first=True, dummy_na=dummy_na)],\n",
    "                            axis=1)\n",
    "        except:\n",
    "            continue\n",
    "    return df"
   ]
  },
  {
   "cell_type": "code",
   "execution_count": 73,
   "metadata": {},
   "outputs": [
    {
     "name": "stdout",
     "output_type": "stream",
     "text": [
      "(12891, 21110)\n"
     ]
    }
   ],
   "source": [
    "df = pd.read_csv('./data/survey-results-public.csv')\n",
    "df_drop = df.dropna(subset=['Salary'], axis=0)\n",
    "df_new = create_dummy_df(df_drop, cat_cols_lst, dummy_na=False) #Use your newly created function\n",
    "\n",
    "print(df_new.shape)"
   ]
  },
  {
   "cell_type": "markdown",
   "metadata": {},
   "source": [
    "### Question 6\n",
    "\n",
    "**6.** Use the document string below to complete the function.  Then test your function against the solution.  "
   ]
  },
  {
   "cell_type": "code",
   "execution_count": 74,
   "metadata": {},
   "outputs": [],
   "source": [
    "def clean_fit_linear_mod(df, response_col, cat_cols, dummy_na, test_size=.3, rand_state=42):\n",
    "    '''\n",
    "    INPUT:\n",
    "    df - a dataframe holding all the variables of interest\n",
    "    response_col - a string holding the name of the column \n",
    "    cat_cols - list of strings that are associated with names of the categorical columns\n",
    "    dummy_na - Bool holding whether you want to dummy NA vals of categorical columns or not\n",
    "    test_size - a float between [0,1] about what proportion of data should be in the test dataset\n",
    "    rand_state - an int that is provided as the random state for splitting the data into training and test \n",
    "    \n",
    "    OUTPUT:\n",
    "    test_score - float - r2 score on the test data\n",
    "    train_score - float - r2 score on the test data\n",
    "    lm_model - model object from sklearn\n",
    "    X_train, X_test, y_train, y_test - output from sklearn train test split used for optimal model\n",
    "    \n",
    "    Your function should:\n",
    "    1. Drop the rows with missing response values\n",
    "    2. Drop columns with NaN for all the values\n",
    "    3. Use create_dummy_df to dummy categorical columns\n",
    "    4. Fill the mean of the column for any missing values \n",
    "    5. Split your data into an X matrix and a response vector y\n",
    "    6. Create training and test sets of data\n",
    "    7. Instantiate a LinearRegression model with normalized data\n",
    "    8. Fit your model to the training data\n",
    "    9. Predict the response for the training data and the test data\n",
    "    10. Obtain an rsquared value for both the training and test data\n",
    "    '''\n",
    "    #Drop the rows with missing response values\n",
    "    df  = df.dropna(subset=[response_col], axis=0)\n",
    "\n",
    "    #Drop columns with all NaN values\n",
    "    df = df.dropna(how='all', axis=1)\n",
    "\n",
    "    #Dummy categorical variables\n",
    "    df = create_dummy_df(df, cat_cols, dummy_na)\n",
    "\n",
    "    # Mean function\n",
    "    fill_mean = lambda col: col.fillna(col.mean())\n",
    "    # Fill the mean\n",
    "    df = df.apply(fill_mean, axis=0)\n",
    "\n",
    "    #Split into explanatory and response variables\n",
    "    X = df.drop(response_col, axis=1)\n",
    "    y = df[response_col]\n",
    "\n",
    "    #Split into train and test\n",
    "    X_train, X_test, y_train, y_test = train_test_split(X, y, test_size=test_size, random_state=rand_state)\n",
    "\n",
    "    lm_model = LinearRegression(normalize=True) # Instantiate\n",
    "    lm_model.fit(X_train, y_train) #Fit\n",
    "\n",
    "    #Predict using your model\n",
    "    y_test_preds = lm_model.predict(X_test)\n",
    "    y_train_preds = lm_model.predict(X_train)\n",
    "\n",
    "    #Score using your model\n",
    "    test_score = r2_score(y_test, y_test_preds)\n",
    "    train_score = r2_score(y_train, y_train_preds)\n",
    "\n",
    "    return test_score, train_score, lm_model, X_train, X_test, y_train, y_test\n",
    "\n",
    "\n",
    "#Test your function with the above dataset\n",
    "test_score, train_score, lm_model, X_train, X_test, y_train, y_test = clean_fit_linear_mod(df, 'Salary', cat_cols_lst, dummy_na=False)"
   ]
  },
  {
   "cell_type": "code",
   "execution_count": 75,
   "metadata": {},
   "outputs": [
    {
     "name": "stdout",
     "output_type": "stream",
     "text": [
      "The rsquared on the training data was 1.0.  The rsquared on the test data was -0.5269374450330528.\n"
     ]
    }
   ],
   "source": [
    "#Print training and testing score\n",
    "print(f\"The rsquared on the training data was {train_score}.  The rsquared on the test data was {test_score}.\")"
   ]
  },
  {
   "cell_type": "markdown",
   "metadata": {},
   "source": [
    "Notice how much higher the rsquared value is on the training data than it is on the test data - why do you think that is?\n"
   ]
  },
  {
   "cell_type": "markdown",
   "metadata": {},
   "source": [
    "## Quiz 10 - Putting It All Together\n",
    "\n",
    "As you might have guessed from the last notebook, using all of the variables was allowing you to drastically overfit the training data.  This was great for looking good in terms of your Rsquared on these points.  However, this was not great in terms of how well you were able to predict on the test data."
   ]
  },
  {
   "cell_type": "markdown",
   "metadata": {},
   "source": [
    "### Question 1\n",
    "\n",
    "**1.** To begin fill in the format function below with the correct variable.  Notice each **{ }** holds a space where one of your variables will be added to the string.  This will give you something to do while the the function does all the steps you did throughout this lesson."
   ]
  },
  {
   "cell_type": "code",
   "execution_count": 76,
   "metadata": {},
   "outputs": [
    {
     "name": "stdout",
     "output_type": "stream",
     "text": [
      "In order to understand how well our linear model (lm_model) fit the dataset, \n",
      "            we first needed to split our data into train and test data sets.  \n",
      "            Then we were able to fit our linear model (lm_model) on the X_train and y_train.  \n",
      "            We could then predict using our linear model (lm_model)  by providing \n",
      "            the linear model the X_test for it to make predictions.  \n",
      "            These predictions were for y_test. \n",
      "\n",
      "            By looking at the train_score, it looked like we were doing awesome because \n",
      "            it was 1!  However, looking at the test_score suggested our model was not \n",
      "            extending well.  The purpose of this notebook will be to see how \n",
      "            well we can get our model to extend to new data.\n",
      "            \n",
      "            This problem where our data fits the training data well, but does\n",
      "            not perform well on test data is commonly known as \n",
      "            overfitting.\n"
     ]
    }
   ],
   "source": [
    "a = 'test_score'\n",
    "b = 'train_score'\n",
    "c = 'linear model (lm_model)'\n",
    "d = 'X_train and y_train'\n",
    "e = 'X_test'\n",
    "f = 'y_test'\n",
    "g = 'train and test data sets'\n",
    "h = 'overfitting'\n",
    "\n",
    "q1_piat = f'''In order to understand how well our {c} fit the dataset, \n",
    "            we first needed to split our data into {g}.  \n",
    "            Then we were able to fit our {c} on the {d}.  \n",
    "            We could then predict using our {c}  by providing \n",
    "            the linear model the {e} for it to make predictions.  \n",
    "            These predictions were for {f}. \n",
    "\n",
    "            By looking at the {b}, it looked like we were doing awesome because \n",
    "            it was 1!  However, looking at the {a} suggested our model was not \n",
    "            extending well.  The purpose of this notebook will be to see how \n",
    "            well we can get our model to extend to new data.\n",
    "            \n",
    "            This problem where our data fits the training data well, but does\n",
    "            not perform well on test data is commonly known as \n",
    "            {h}.''' #replace a with the correct variable\n",
    "\n",
    "print(q1_piat)"
   ]
  },
  {
   "cell_type": "markdown",
   "metadata": {},
   "source": [
    "### Question 2\n",
    "\n",
    "**2.** Now, we need to improve the model . Use the dictionary below to provide the true statements about improving **this model**.  **Also consider each statement as a stand alone**.  Though, it might be a good idea after other steps, which would you consider a useful **next step**?"
   ]
  },
  {
   "cell_type": "code",
   "execution_count": 77,
   "metadata": {},
   "outputs": [],
   "source": [
    "a = 'yes'\n",
    "b = 'no'\n",
    "\n",
    "q2_piat = {'add interactions, quadratics, cubics, and other higher order terms': b, \n",
    "           'fit the model many times with different rows, then average the responses': a,\n",
    "           'subset the features used for fitting the model each time': a,\n",
    "           'this model is hopeless, we should start over': b}"
   ]
  },
  {
   "cell_type": "markdown",
   "metadata": {},
   "source": [
    "### Question 3\n",
    "\n",
    "**3.** Before we get too far along, follow the steps in the function below to create the X (explanatory matrix) and y (response vector) to be used in the model.  If your solution is correct, you should see a plot similar to the one shown in the Screencast."
   ]
  },
  {
   "cell_type": "code",
   "execution_count": 78,
   "metadata": {},
   "outputs": [],
   "source": [
    "def clean_data(df):\n",
    "    '''\n",
    "    INPUT\n",
    "    df - pandas dataframe \n",
    "    \n",
    "    OUTPUT\n",
    "    X - A matrix holding all of the variables you want to consider when predicting the response\n",
    "    y - the corresponding response vector\n",
    "    \n",
    "    Perform to obtain the correct X and y objects\n",
    "    This function cleans df using the following steps to produce X and y:\n",
    "    1. Drop all the rows with no salaries\n",
    "    2. Create X as all the columns that are not the Salary column\n",
    "    3. Create y as the Salary column\n",
    "    4. Drop the Salary, Respondent, and the ExpectedSalary columns from X\n",
    "    5. For each numeric variable in X, fill the column with the mean value of the column.\n",
    "    6. Create dummy columns for all the categorical variables in X, drop the original columns\n",
    "    '''\n",
    "    # Drop all the rows with no salaries\n",
    "    df = df.dropna(subset=['Salary'], axis=0)\n",
    "    \n",
    "    # Create X as all the columns that are not the Salary column\n",
    "    X = df.drop(['Salary'], axis=1)\n",
    "    \n",
    "    # Create y as the Salary column\n",
    "    y = df.Salary\n",
    "    \n",
    "    # Drop the Salary, Respondent, and the ExpectedSalary columns from X\n",
    "    X = X.drop(['Respondent', 'ExpectedSalary'], axis=1)\n",
    "    \n",
    "    # For each numeric variable in X, fill the column with the mean value of the column\n",
    "    num_cols = X.select_dtypes(exclude=['object']).columns\n",
    "    for col in num_cols:\n",
    "        X[col].fillna(X[col].mean(), inplace=True)\n",
    "        \n",
    "    # Create dummy columns for all the categorical variables in X, drop the original columns\n",
    "    X = pd.get_dummies(X, drop_first=True)\n",
    "    X = X.select_dtypes(exclude=['object'])\n",
    "\n",
    "    return X, y\n",
    "    \n",
    "#Use the function to create X and y\n",
    "X, y = clean_data(df)"
   ]
  },
  {
   "cell_type": "markdown",
   "metadata": {},
   "source": [
    "### Run the Cell Below to Acheive the Results Needed for Question 4"
   ]
  },
  {
   "cell_type": "code",
   "execution_count": 79,
   "metadata": {},
   "outputs": [],
   "source": [
    "def find_optimal_lm_mod(X, y, cutoffs, test_size = .30, random_state=42, plot=True):\n",
    "    '''\n",
    "    INPUT\n",
    "    X - pandas dataframe, X matrix\n",
    "    y - pandas dataframe, response variable\n",
    "    cutoffs - list of ints, cutoff for number of non-zero values in dummy categorical vars\n",
    "    test_size - float between 0 and 1, default 0.3, determines the proportion of data as test data\n",
    "    random_state - int, default 42, controls random state for train_test_split\n",
    "    plot - boolean, True to plot result\n",
    "    \n",
    "    OUTPUT\n",
    "    r2_scores_test - list of floats of r2 scores on the test data\n",
    "    r2_scores_train - list of floats of r2 scores on the train data\n",
    "    lm_model - model object from sklearn\n",
    "    X_train, X_test, y_train, y_test - output from sklearn train test split used for optimal model\n",
    "    '''\n",
    "    r2_scores_test, r2_scores_train, num_feats, results = [], [], [], dict()\n",
    "    \n",
    "    for cutoff in cutoffs:\n",
    "        #reduce X matrix\n",
    "        reduce_X = X.iloc[:, np.where((X.sum() > cutoff) == True)[0]]\n",
    "        num_feats.append(reduce_X.shape[1])\n",
    "\n",
    "        #split the data into train and test\n",
    "        X_train, X_test, y_train, y_test = train_test_split(reduce_X, y, test_size = test_size, random_state=random_state)\n",
    "\n",
    "        #fit the model and obtain pred response\n",
    "        lm_model = LinearRegression(normalize=True)\n",
    "        lm_model.fit(X_train, y_train)\n",
    "        y_test_preds = lm_model.predict(X_test)\n",
    "        y_train_preds = lm_model.predict(X_train)\n",
    "\n",
    "        #append the r2 value from the test set\n",
    "        r2_scores_test.append(r2_score(y_test, y_test_preds))\n",
    "        r2_scores_train.append(r2_score(y_train, y_train_preds))\n",
    "        results[str(cutoff)] = r2_score(y_test, y_test_preds)\n",
    "\n",
    "    if plot:\n",
    "        plt.plot(num_feats, r2_scores_test, label=\"Test\", alpha=.5)\n",
    "        plt.plot(num_feats, r2_scores_train, label=\"Train\", alpha=.5)\n",
    "        plt.xlabel('Number of Features')\n",
    "        plt.ylabel('Rsquared')\n",
    "        plt.title('Rsquared by Number of Features')\n",
    "        plt.legend(loc=1)\n",
    "        plt.show()\n",
    "\n",
    "    best_cutoff = max(results, key=results.get)\n",
    "\n",
    "    #reduce X matrix\n",
    "    reduce_X = X.iloc[:, np.where((X.sum() > int(best_cutoff)) == True)[0]]\n",
    "    num_feats.append(reduce_X.shape[1])\n",
    "\n",
    "    #split the data into train and test\n",
    "    X_train, X_test, y_train, y_test = train_test_split(reduce_X, y, test_size = test_size, random_state=random_state)\n",
    "\n",
    "    #fit the model\n",
    "    lm_model = LinearRegression(normalize=True)\n",
    "    lm_model.fit(X_train, y_train)\n",
    "\n",
    "    return r2_scores_test, r2_scores_train, lm_model, X_train, X_test, y_train, y_test"
   ]
  },
  {
   "cell_type": "code",
   "execution_count": 85,
   "metadata": {},
   "outputs": [
    {
     "data": {
      "image/png": "[encoded data removed]",
      "text/plain": [
       "<Figure size 432x288 with 1 Axes>"
      ]
     },
     "metadata": {
      "needs_background": "light"
     },
     "output_type": "display_data"
    }
   ],
   "source": [
    "#cutoffs here pertains to the number of missing values allowed in the used columns.\n",
    "#Therefore, lower values for the cutoff provides more predictors in the model.\n",
    "cutoffs = [5000, 3500, 2500, 1000, 100, 50, 30, 25, 20, 0]\n",
    "\n",
    "#Run this cell to pass your X and y to the model for testing\n",
    "r2_scores_test, r2_scores_train, lm_model, X_train, X_test, y_train, y_test = find_optimal_lm_mod(X, y, cutoffs)"
   ]
  },
  {
   "cell_type": "markdown",
   "metadata": {},
   "source": [
    "> Too many features cause the test score to drop drastically while the train score approaching 1."
   ]
  },
  {
   "cell_type": "markdown",
   "metadata": {},
   "source": [
    "### Question 4\n",
    "\n",
    "**4.** Use the output and above plot to correctly fill in the keys of the **q4_piat** dictionary with the correct variable.  Notice that only the optimal model results are given back in the above - they are stored in **lm_model**, **X_train**, **X_test**, **y_train**, and **y_test**.  If more than one answer holds, provide a tuple holding all the correct variables in the order of first variable alphabetically to last variable alphabetically."
   ]
  },
  {
   "cell_type": "code",
   "execution_count": 86,
   "metadata": {},
   "outputs": [
    {
     "name": "stdout",
     "output_type": "stream",
     "text": [
      "1088\n",
      "1.0\n",
      "0.7316766986704022\n"
     ]
    }
   ],
   "source": [
    "# Cell for your computations to answer the next question\n",
    "print(X_train.shape[1]) #Number of columns\n",
    "print(max(r2_scores_train))\n",
    "print(max(r2_scores_test))"
   ]
  },
  {
   "cell_type": "code",
   "execution_count": 82,
   "metadata": {},
   "outputs": [],
   "source": [
    "h = 'we would likely have a better rsquared for the training data.'\n",
    "\n",
    "q4_piat = {'The optimal number of features based on the results is': 1088, \n",
    "               'The model we should implement in practice has a train rsquared of': 1, \n",
    "               'The model we should implement in practice has a test rsquared of': 0.73,\n",
    "               'If we were to allow the number of features to continue to increase': h\n",
    "}"
   ]
  },
  {
   "cell_type": "markdown",
   "metadata": {},
   "source": [
    "### Question 5\n",
    "\n",
    "**5.** The default penalty on coefficients using linear regression in sklearn is a ridge (also known as an L2) penalty.  Because of this penalty, and that all the variables were normalized, we can look at the size of the coefficients in the model as an indication of the impact of each variable on the salary.  The larger the coefficient, the larger the expected impact on salary.  \n",
    "\n",
    "Use the space below to take a look at the coefficients.  Then use the results to provide the **True** or **False** statements based on the data.\n",
    "\n",
    "#### Run the below to complete the following dictionary"
   ]
  },
  {
   "cell_type": "code",
   "execution_count": 83,
   "metadata": {},
   "outputs": [
    {
     "data": {
      "text/html": [
       "<div>\n",
       "<style scoped>\n",
       "    .dataframe tbody tr th:only-of-type {\n",
       "        vertical-align: middle;\n",
       "    }\n",
       "\n",
       "    .dataframe tbody tr th {\n",
       "        vertical-align: top;\n",
       "    }\n",
       "\n",
       "    .dataframe thead th {\n",
       "        text-align: right;\n",
       "    }\n",
       "</style>\n",
       "<table border=\"1\" class=\"dataframe\">\n",
       "  <thead>\n",
       "    <tr style=\"text-align: right;\">\n",
       "      <th></th>\n",
       "      <th>est_int</th>\n",
       "      <th>coefs</th>\n",
       "      <th>abs_coefs</th>\n",
       "    </tr>\n",
       "  </thead>\n",
       "  <tbody>\n",
       "    <tr>\n",
       "      <th>42</th>\n",
       "      <td>Country_United States</td>\n",
       "      <td>56731.283619</td>\n",
       "      <td>56731.283619</td>\n",
       "    </tr>\n",
       "    <tr>\n",
       "      <th>28</th>\n",
       "      <td>Country_Norway</td>\n",
       "      <td>40550.628110</td>\n",
       "      <td>40550.628110</td>\n",
       "    </tr>\n",
       "    <tr>\n",
       "      <th>8</th>\n",
       "      <td>Country_Australia</td>\n",
       "      <td>40111.916279</td>\n",
       "      <td>40111.916279</td>\n",
       "    </tr>\n",
       "    <tr>\n",
       "      <th>383</th>\n",
       "      <td>Currency_Swiss francs</td>\n",
       "      <td>36748.955151</td>\n",
       "      <td>36748.955151</td>\n",
       "    </tr>\n",
       "    <tr>\n",
       "      <th>15</th>\n",
       "      <td>Country_Denmark</td>\n",
       "      <td>30497.628811</td>\n",
       "      <td>30497.628811</td>\n",
       "    </tr>\n",
       "    <tr>\n",
       "      <th>123</th>\n",
       "      <td>YearsCodedJob_20 or more years</td>\n",
       "      <td>29980.868555</td>\n",
       "      <td>29980.868555</td>\n",
       "    </tr>\n",
       "    <tr>\n",
       "      <th>27</th>\n",
       "      <td>Country_New Zealand</td>\n",
       "      <td>29954.315738</td>\n",
       "      <td>29954.315738</td>\n",
       "    </tr>\n",
       "    <tr>\n",
       "      <th>23</th>\n",
       "      <td>Country_Israel</td>\n",
       "      <td>29510.172957</td>\n",
       "      <td>29510.172957</td>\n",
       "    </tr>\n",
       "    <tr>\n",
       "      <th>13</th>\n",
       "      <td>Country_Canada</td>\n",
       "      <td>29363.254074</td>\n",
       "      <td>29363.254074</td>\n",
       "    </tr>\n",
       "    <tr>\n",
       "      <th>22</th>\n",
       "      <td>Country_Ireland</td>\n",
       "      <td>28551.627756</td>\n",
       "      <td>28551.627756</td>\n",
       "    </tr>\n",
       "    <tr>\n",
       "      <th>38</th>\n",
       "      <td>Country_Switzerland</td>\n",
       "      <td>27502.879903</td>\n",
       "      <td>27502.879903</td>\n",
       "    </tr>\n",
       "    <tr>\n",
       "      <th>378</th>\n",
       "      <td>Currency_Mexican pesos (MXN$)</td>\n",
       "      <td>-27322.113610</td>\n",
       "      <td>27322.113610</td>\n",
       "    </tr>\n",
       "    <tr>\n",
       "      <th>114</th>\n",
       "      <td>YearsCodedJob_12 to 13 years</td>\n",
       "      <td>25279.750107</td>\n",
       "      <td>25279.750107</td>\n",
       "    </tr>\n",
       "    <tr>\n",
       "      <th>120</th>\n",
       "      <td>YearsCodedJob_18 to 19 years</td>\n",
       "      <td>25129.215217</td>\n",
       "      <td>25129.215217</td>\n",
       "    </tr>\n",
       "    <tr>\n",
       "      <th>121</th>\n",
       "      <td>YearsCodedJob_19 to 20 years</td>\n",
       "      <td>24938.668838</td>\n",
       "      <td>24938.668838</td>\n",
       "    </tr>\n",
       "    <tr>\n",
       "      <th>117</th>\n",
       "      <td>YearsCodedJob_15 to 16 years</td>\n",
       "      <td>23717.323445</td>\n",
       "      <td>23717.323445</td>\n",
       "    </tr>\n",
       "    <tr>\n",
       "      <th>119</th>\n",
       "      <td>YearsCodedJob_17 to 18 years</td>\n",
       "      <td>23538.676371</td>\n",
       "      <td>23538.676371</td>\n",
       "    </tr>\n",
       "    <tr>\n",
       "      <th>116</th>\n",
       "      <td>YearsCodedJob_14 to 15 years</td>\n",
       "      <td>21909.345308</td>\n",
       "      <td>21909.345308</td>\n",
       "    </tr>\n",
       "    <tr>\n",
       "      <th>118</th>\n",
       "      <td>YearsCodedJob_16 to 17 years</td>\n",
       "      <td>21157.006818</td>\n",
       "      <td>21157.006818</td>\n",
       "    </tr>\n",
       "    <tr>\n",
       "      <th>41</th>\n",
       "      <td>Country_United Kingdom</td>\n",
       "      <td>21080.097100</td>\n",
       "      <td>21080.097100</td>\n",
       "    </tr>\n",
       "  </tbody>\n",
       "</table>\n",
       "</div>"
      ],
      "text/plain": [
       "                            est_int         coefs     abs_coefs\n",
       "42            Country_United States  56731.283619  56731.283619\n",
       "28                   Country_Norway  40550.628110  40550.628110\n",
       "8                 Country_Australia  40111.916279  40111.916279\n",
       "383           Currency_Swiss francs  36748.955151  36748.955151\n",
       "15                  Country_Denmark  30497.628811  30497.628811\n",
       "123  YearsCodedJob_20 or more years  29980.868555  29980.868555\n",
       "27              Country_New Zealand  29954.315738  29954.315738\n",
       "23                   Country_Israel  29510.172957  29510.172957\n",
       "13                   Country_Canada  29363.254074  29363.254074\n",
       "22                  Country_Ireland  28551.627756  28551.627756\n",
       "38              Country_Switzerland  27502.879903  27502.879903\n",
       "378   Currency_Mexican pesos (MXN$) -27322.113610  27322.113610\n",
       "114    YearsCodedJob_12 to 13 years  25279.750107  25279.750107\n",
       "120    YearsCodedJob_18 to 19 years  25129.215217  25129.215217\n",
       "121    YearsCodedJob_19 to 20 years  24938.668838  24938.668838\n",
       "117    YearsCodedJob_15 to 16 years  23717.323445  23717.323445\n",
       "119    YearsCodedJob_17 to 18 years  23538.676371  23538.676371\n",
       "116    YearsCodedJob_14 to 15 years  21909.345308  21909.345308\n",
       "118    YearsCodedJob_16 to 17 years  21157.006818  21157.006818\n",
       "41           Country_United Kingdom  21080.097100  21080.097100"
      ]
     },
     "execution_count": 83,
     "metadata": {},
     "output_type": "execute_result"
    }
   ],
   "source": [
    "def coef_weights(coefficients, X_train):\n",
    "    '''\n",
    "    INPUT:\n",
    "    coefficients - the coefficients of the linear model \n",
    "    X_train - the training data, so the column names can be used\n",
    "    OUTPUT:\n",
    "    coefs_df - a dataframe holding the coefficient, estimate, and abs(estimate)\n",
    "    \n",
    "    Provides a dataframe that can be used to understand the most influential coefficients\n",
    "    in a linear model by providing the coefficient estimates along with the name of the \n",
    "    variable attached to the coefficient.\n",
    "    '''\n",
    "    coefs_df = pd.DataFrame()\n",
    "    coefs_df['est_int'] = X_train.columns\n",
    "    coefs_df['coefs'] = lm_model.coef_\n",
    "    coefs_df['abs_coefs'] = np.abs(lm_model.coef_)\n",
    "    coefs_df = coefs_df.sort_values('abs_coefs', ascending=False)\n",
    "    return coefs_df\n",
    "\n",
    "#Use the function\n",
    "coef_df = coef_weights(lm_model.coef_, X_train)\n",
    "\n",
    "#A quick look at the top results\n",
    "coef_df.head(20)"
   ]
  },
  {
   "cell_type": "code",
   "execution_count": 84,
   "metadata": {},
   "outputs": [],
   "source": [
    "a = True\n",
    "b = False\n",
    "\n",
    "#According to the data...\n",
    "q5_piat = {'Country appears to be one of the top indicators for salary': a,\n",
    "               'Gender appears to be one of the indicators for salary': b,\n",
    "               'How long an individual has been programming appears to be one of the top indicators for salary': a,\n",
    "               'The longer an individual has been programming the more they are likely to earn': b}"
   ]
  },
  {
   "cell_type": "markdown",
   "metadata": {},
   "source": [
    "#### Congrats of some kind\n",
    "\n",
    "Congrats!  Hopefully this was a great review, or an eye opening experience about how to put the steps together for an analysis.  List the steps.  In the next lesson, you will look at how take this and show it off to others so they can act on it."
   ]
  }
 ],
 "metadata": {
  "kernelspec": {
   "display_name": "Python 3",
   "language": "python",
   "name": "python3"
  },
  "language_info": {
   "codemirror_mode": {
    "name": "ipython",
    "version": 3
   },
   "file_extension": ".py",
   "mimetype": "text/x-python",
   "name": "python",
   "nbconvert_exporter": "python",
   "pygments_lexer": "ipython3",
   "version": "3.7.1"
  }
 },
 "nbformat": 4,
 "nbformat_minor": 2
}
