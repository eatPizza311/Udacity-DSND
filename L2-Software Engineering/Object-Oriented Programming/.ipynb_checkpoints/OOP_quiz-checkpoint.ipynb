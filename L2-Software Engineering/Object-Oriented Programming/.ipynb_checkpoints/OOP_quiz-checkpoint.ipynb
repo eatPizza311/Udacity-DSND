{
 "cells": [
  {
   "cell_type": "markdown",
   "metadata": {},
   "source": [
    "# Object-Oriented Programming Quiz\n",
    "## Quiz 1 - Use the Shirt Class\n",
    "### Your Task\n",
    "Fill out the TODOs in each section of the Jupyter notebook."
   ]
  },
  {
   "cell_type": "code",
   "execution_count": 1,
   "metadata": {},
   "outputs": [],
   "source": [
    "class Shirt:\n",
    "    def __init__(self, shirt_color, shirt_size, shirt_style, shirt_price):\n",
    "        self.color = shirt_color\n",
    "        self.size = shirt_size\n",
    "        self.style = shirt_style\n",
    "        self.price = shirt_price\n",
    "        \n",
    "    def change_price(self, new_price):\n",
    "        self.price = new_price\n",
    "    \n",
    "    def discount(self, discount):\n",
    "        return self.price * (1 - discount)"
   ]
  },
  {
   "cell_type": "code",
   "execution_count": 2,
   "metadata": {},
   "outputs": [],
   "source": [
    "### TODO:\n",
    "#    - insantiate a shirt object with the following characteristics:\n",
    "#        - color red, size S, style long-sleeve, and price 25\n",
    "#    - store the object in a variable called shirt_one\n",
    "###\n",
    "shirt_one = Shirt('red', 'S', 'long-sleeve', 25)"
   ]
  },
  {
   "cell_type": "code",
   "execution_count": 3,
   "metadata": {},
   "outputs": [
    {
     "name": "stdout",
     "output_type": "stream",
     "text": [
      "25\n",
      "10\n"
     ]
    },
    {
     "data": {
      "text/plain": [
       "8.8"
      ]
     },
     "execution_count": 3,
     "metadata": {},
     "output_type": "execute_result"
    }
   ],
   "source": [
    "### TODO:\n",
    "#     - print the price of the shirt using the price attribute\n",
    "#     - use the change_price method to change the price of the shirt to 10\n",
    "#     - print the price of the shirt using the price attribute\n",
    "#     - use the discount method to print the price of the shirt with a 12% discount\n",
    "###\n",
    "print(shirt_one.price)\n",
    "shirt_one.change_price(10)\n",
    "print(shirt_one.price)\n",
    "shirt_one.discount(0.12)"
   ]
  },
  {
   "cell_type": "code",
   "execution_count": 4,
   "metadata": {},
   "outputs": [],
   "source": [
    "### TODO:\n",
    "#\n",
    "#    - instantiate another object with the following characteristics:\n",
    "# .       - color orange, size L, style short-sleeve, and price 10\n",
    "#    - store the object in a variable called shirt_two\n",
    "###\n",
    "shirt_two = Shirt('orange', 'L', 'short-sleeve', 10)"
   ]
  },
  {
   "cell_type": "code",
   "execution_count": 5,
   "metadata": {},
   "outputs": [
    {
     "data": {
      "text/plain": [
       "20"
      ]
     },
     "execution_count": 5,
     "metadata": {},
     "output_type": "execute_result"
    }
   ],
   "source": [
    "### TODO:\n",
    "#    - calculate the total cost of shirt_one and shirt_two\n",
    "#    - store the results in a variable called total\n",
    "###\n",
    "total = shirt_one.price + shirt_two.price\n",
    "total"
   ]
  },
  {
   "cell_type": "code",
   "execution_count": 6,
   "metadata": {},
   "outputs": [
    {
     "data": {
      "text/plain": [
       "18.0"
      ]
     },
     "execution_count": 6,
     "metadata": {},
     "output_type": "execute_result"
    }
   ],
   "source": [
    "### TODO:\n",
    "#    - use the shirt discount method to calculate the total cost if\n",
    "#       shirt_one has a discount of 14% and shirt_two has a discount\n",
    "#       of 6%\n",
    "#    - store the results in a variable called total_discount\n",
    "###\n",
    "total_discount = shirt_one.discount(.14) + shirt_two.discount(.06)\n",
    "total_discount"
   ]
  },
  {
   "cell_type": "markdown",
   "metadata": {},
   "source": [
    "## Quiz 2 - OOP Syntax Exercise\n",
    "Now that you've had some practice instantiating objects, it's time to write your own class from scratch. This lesson has two parts. In the first part, you'll write a Pants class. This class is similar to the shirt class with a couple of changes. Then you'll practice instantiating Pants objects\n",
    "\n",
    "In the second part, you'll write another class called SalesPerson. You'll also instantiate objects for the SalesPerson."
   ]
  },
  {
   "cell_type": "markdown",
   "metadata": {},
   "source": [
    "### Pants class\n",
    "\n",
    "Write a Pants class with the following characteristics:\n",
    "* the class name should be Pants\n",
    "* the class attributes should include\n",
    " * color\n",
    " * waist_size\n",
    " * length\n",
    " * price\n",
    "* the class should have an init function that initializes all of the attributes\n",
    "* the class should have two methods\n",
    " * change_price() a method to change the price attribute\n",
    " * discount() to calculate a discount"
   ]
  },
  {
   "cell_type": "code",
   "execution_count": 7,
   "metadata": {},
   "outputs": [],
   "source": [
    "class Pants:\n",
    "    \"\"\"The Pants class represents an article of clothing sold in a store\"\"\"\n",
    "    \n",
    "    def __init__(self, color, waist_size, length, price):\n",
    "        \"\"\"Method for initializing a Pants object\n",
    "        \n",
    "        Args: \n",
    "            color (str)\n",
    "            waist_size (int)\n",
    "            length (int)\n",
    "            price (float)\n",
    "            \n",
    "        Attributes:\n",
    "            color (str): color of a pants object\n",
    "            waist_size (str): waist size of a pants object\n",
    "            length (str): length of a pants object\n",
    "            price (float): price of a pants object\n",
    "        \"\"\"\n",
    "        self.color = color\n",
    "        self.waist_size = waist_size\n",
    "        self.length = length\n",
    "        self.price = price\n",
    "    \n",
    "    def change_price(self, new_price):\n",
    "        \"\"\"The change_price method changes the price attribute of a pants object\n",
    "    \n",
    "        Args: \n",
    "            new_price (float): the new price of the pants object\n",
    "            \n",
    "        Returns: None\n",
    "        \n",
    "        \"\"\"\n",
    "        self.price = new_price\n",
    "    \n",
    "    def discount(self, discount):\n",
    "        \"\"\"The discount method outputs a discounted price of a pants object\n",
    "        Args:\n",
    "            percentage (float): a decimal representing the amount to discount\n",
    "        Returns:\n",
    "            float: the discounted price\n",
    "        \"\"\"\n",
    "        return self.price * (1 - discount)"
   ]
  },
  {
   "cell_type": "markdown",
   "metadata": {},
   "source": [
    "### SalesPerson class\n",
    "\n",
    "The Pants class and Shirt class are quite similar. Here is an exercise to give you more practice writing a class. **This exercise is trickier than the previous exercises.**\n",
    "\n",
    "Write a SalesPerson class with the following characteristics:\n",
    "* the class name should be SalesPerson\n",
    "* the class attributes should include\n",
    " * first_name \n",
    " * last_name\n",
    " * employee_id\n",
    " * salary\n",
    " * pants_sold\n",
    " * total_sales\n",
    "* the class should have an init function that initializes all of the attributes\n",
    "* the class should have four methods\n",
    " * sell_pants() a method to change the price attribute\n",
    " * calculate_sales() a method to calculate the sales\n",
    " * display_sales() a method to print out all the pants sold with nice formatting\n",
    " * calculate_commission() a method to calculate the salesperson commission based on total sales and a percentage"
   ]
  },
  {
   "cell_type": "code",
   "execution_count": 8,
   "metadata": {},
   "outputs": [],
   "source": [
    "class SalesPerson:\n",
    "    \"\"\"The SalesPerson class represents an employee in the store\"\"\"\n",
    "\n",
    "    def __init__(self, first_name, last_name, employee_id, salary):\n",
    "        \"\"\"Method for initializing a SalesPerson object\n",
    "        \n",
    "        Args: \n",
    "            first_name (str)\n",
    "            last_name (str)\n",
    "            employee_id (int)\n",
    "            salary (float)\n",
    "            \n",
    "        Attributes:\n",
    "            first_name (str): first name of the employee\n",
    "            last_name (str): last name of the employee\n",
    "            employee_id (int): identification number of the employee\n",
    "            salary (float): yearly salary of the employee\n",
    "            pants_sold (list): a list of pants objects sold by the employee\n",
    "            total_sales (float): sum of all sales made by the employee\n",
    "        \"\"\"\n",
    "        self.first_name = first_name\n",
    "        self.last_name = last_name\n",
    "        self.employee_id = employee_id\n",
    "        self.salary = salary\n",
    "        self.pants_sold = []\n",
    "        self.total_sales = 0\n",
    "        \n",
    "    def sell_pants(self, pants_object):\n",
    "        \"\"\"The sell_pants method appends a pants object to the pants_sold attribute\n",
    "        \n",
    "        Args: \n",
    "            pants_object (obj): a pants object that was sold\n",
    "        Returns: None\n",
    "        \"\"\"\n",
    "        self.pants_sold.append(pants_object)\n",
    "        \n",
    "    def display_sales(self):\n",
    "        \"\"\"The display_sales method prints out all pants that have been sold\n",
    "        \n",
    "        Args: None\n",
    "        Returns: None\n",
    "        \"\"\"\n",
    "        for pant in self.pants_sold:\n",
    "            print(f\"color: {pant.color}, waist_size: {pant.waist_size}, length: {pant.waist_size}, price: {pant.price}\")\n",
    "\n",
    "    def calculate_sales(self):\n",
    "        \"\"\"The calculate_sales method sum the total price of pants sold\n",
    "        \n",
    "        Args: None\n",
    "        Returns: \n",
    "            float: sum of the price for all pants sold \n",
    "        \"\"\"\n",
    "        total = 0\n",
    "        for pant in self.pants_sold:\n",
    "            total += pant.price\n",
    "        self.total_sales = total\n",
    "        return total\n",
    "    \n",
    "    def calculate_commission(self, percentage):\n",
    "        \"\"\"The calculate_commission method outputs the commission based on sales\n",
    "        Args:\n",
    "            percentage (float): the commission percentage as a decimal\n",
    "        Returns:\n",
    "            float: the commission due\n",
    "        \"\"\"\n",
    "        total_sales = self.calculate_sales()\n",
    "        return total_sales * percentage"
   ]
  },
  {
   "cell_type": "markdown",
   "metadata": {},
   "source": [
    "### Check display_sales() method\n",
    "\n",
    "If you run the code cell below, you should get output similar to this:\n",
    "\n",
    "```python\n",
    "color: red, waist_size: 35, length: 36, price: 15.12\n",
    "color: blue, waist_size: 40, length: 38, price: 24.12\n",
    "color: tan, waist_size: 28, length: 30, price: 8.12\n",
    "```"
   ]
  },
  {
   "cell_type": "code",
   "execution_count": 9,
   "metadata": {},
   "outputs": [
    {
     "name": "stdout",
     "output_type": "stream",
     "text": [
      "color: red, waist_size: 35, length: 35, price: 15.12\n",
      "color: blue, waist_size: 40, length: 40, price: 24.12\n",
      "color: tan, waist_size: 28, length: 28, price: 8.12\n"
     ]
    }
   ],
   "source": [
    "pants_one = Pants('red', 35, 36, 15.12)\n",
    "pants_two = Pants('blue', 40, 38, 24.12)\n",
    "pants_three = Pants('tan', 28, 30, 8.12)\n",
    "\n",
    "salesperson = SalesPerson('Amy', 'Gonzalez', 2581923, 40000)\n",
    "\n",
    "salesperson.sell_pants(pants_one)    \n",
    "salesperson.sell_pants(pants_two)\n",
    "salesperson.sell_pants(pants_three)\n",
    "\n",
    "salesperson.display_sales()"
   ]
  },
  {
   "cell_type": "markdown",
   "metadata": {},
   "source": [
    "## Quiz 3 - Gaussian Code Exercise\n",
    "\n",
    "Read through the code below and fill out the TODOs."
   ]
  },
  {
   "cell_type": "markdown",
   "metadata": {},
   "source": [
    "## Quiz 4 - Magic Methods\n",
    "\n",
    "Below you'll find the same code from the previous exercise except two more methods have been added: an __add__ method and a __repr__ method. Your task is to fill out the code and get all of the unit tests to pass."
   ]
  },
  {
   "cell_type": "code",
   "execution_count": 10,
   "metadata": {},
   "outputs": [],
   "source": [
    "import math\n",
    "import matplotlib.pyplot as plt\n",
    "\n",
    "class Gaussian():\n",
    "    \"\"\" Gaussian distribution class for calculating and \n",
    "    visualizing a Gaussian distribution.\n",
    "    \n",
    "    Attributes:\n",
    "        mean (float) representing the mean value of the distribution\n",
    "        stdev (float) representing the standard deviation of the distribution\n",
    "        data_list (list of floats) a list of floats extracted from the data file\n",
    "            \n",
    "    \"\"\"\n",
    "    def __init__(self, mu = 0, sigma = 1):\n",
    "        \n",
    "        self.mean = mu\n",
    "        self.stdev = sigma\n",
    "        self.data = []\n",
    "    \n",
    "    def calculate_mean(self):\n",
    "    \n",
    "        \"\"\"Method to calculate the mean of the data set.\n",
    "        \n",
    "        Args: \n",
    "            None\n",
    "        \n",
    "        Returns: \n",
    "            float: mean of the data set\n",
    "    \n",
    "        \"\"\"\n",
    "        \n",
    "        #TODO: Calculate the mean of the data set. Remember that the data set is stored in self.data\n",
    "        # Change the value of the mean attribute to be the mean of the data set\n",
    "        # Return the mean of the data set           \n",
    "        mean = sum(self.data)/len(self.data)\n",
    "        self.mean = mean\n",
    "        return mean\n",
    "    \n",
    "    def calculate_stdev(self, sample=True):\n",
    "\n",
    "        \"\"\"Method to calculate the standard deviation of the data set.\n",
    "        \n",
    "        Args: \n",
    "            sample (bool): whether the data represents a sample or population\n",
    "        \n",
    "        Returns: \n",
    "            float: standard deviation of the data set\n",
    "    \n",
    "        \"\"\"\n",
    "\n",
    "        # TODO:\n",
    "        #   Calculate the standard deviation of the data set\n",
    "        #   \n",
    "        #   The sample variable determines if the data set contains a sample or a population\n",
    "        #   If sample = True, this means the data is a sample. \n",
    "        #   Keep the value of sample in mind for calculating the standard deviation\n",
    "        #\n",
    "        #   Make sure to update self.stdev and return the standard deviation as well    \n",
    "        if sample:\n",
    "            n = len(self.data) - 1\n",
    "        else:\n",
    "            n = len(self.data)\n",
    "            \n",
    "        mean = self.mean\n",
    "        sigma = 0\n",
    "        for x in self.data:\n",
    "            sigma += (x - mean)**2\n",
    "        sigma = math.sqrt(sigma / n)\n",
    "        self.stdev = sigma\n",
    "        return sigma\n",
    "\n",
    "    def read_data_file(self, file_name, sample=True):\n",
    "    \n",
    "        \"\"\"Method to read in data from a txt file. The txt file should have\n",
    "        one number (float) per line. The numbers are stored in the data attribute. \n",
    "        After reading in the file, the mean and standard deviation are calculated\n",
    "                \n",
    "        Args:\n",
    "            file_name (string): name of a file to read from\n",
    "        \n",
    "        Returns:\n",
    "            None\n",
    "        \n",
    "        \"\"\"\n",
    "        \n",
    "        # This code opens a data file and appends the data to a list called data_list\n",
    "        with open(file_name) as file:\n",
    "            data_list = []\n",
    "            line = file.readline()\n",
    "            while line:\n",
    "                data_list.append(int(line))\n",
    "                line = file.readline()\n",
    "        file.close()\n",
    "    \n",
    "        # TODO: \n",
    "        #   Update the self.data attribute with the data_list\n",
    "        #   Update self.mean with the mean of the data_list. \n",
    "        #       You can use the calculate_mean() method with self.calculate_mean()\n",
    "        #   Update self.stdev with the standard deviation of the data_list. Use the \n",
    "        #       calculate_stdev() method.\n",
    "        self.data = data_list\n",
    "        self.mean = self.calculate_mean()\n",
    "        self.stdev = self.calculate_stdev(sample)\n",
    "                \n",
    "        \n",
    "    def plot_histogram(self):\n",
    "        \"\"\"Method to output a histogram of the instance variable data using \n",
    "        matplotlib pyplot library.\n",
    "        \n",
    "        Args:\n",
    "            None\n",
    "            \n",
    "        Returns:\n",
    "            None\n",
    "        \"\"\"\n",
    "        \n",
    "        # TODO: Plot a histogram of the data_list using the matplotlib package.\n",
    "        #       Be sure to label the x and y axes and also give the chart a title\n",
    "        plt.hist(self.data)\n",
    "        plt.title('Histogram of data')\n",
    "        plt.xlabel('data')\n",
    "        plt.ylabel('count')\n",
    "                \n",
    "        \n",
    "    def pdf(self, x):\n",
    "        \"\"\"Probability density function calculator for the gaussian distribution.\n",
    "        \n",
    "        Args:\n",
    "            x (float): point for calculating the probability density function\n",
    "            \n",
    "        \n",
    "        Returns:\n",
    "            float: probability density function output\n",
    "        \"\"\"\n",
    "        \n",
    "        # TODO: Calculate the probability density function of the Gaussian distribution\n",
    "        #       at the value x. You'll need to use self.stdev and self.mean to do the calculation\n",
    "        pdf = (1 / math.sqrt(2 * math.pi * self.stdev**2)) * math.exp(-(x - self.mean)**2 / (2 * self.stdev**2))\n",
    "        return pdf\n",
    "                \n",
    "\n",
    "    def plot_histogram_pdf(self, n_spaces = 50):\n",
    "\n",
    "        \"\"\"Method to plot the normalized histogram of the data and a plot of the \n",
    "        probability density function along the same range\n",
    "        \n",
    "        Args:\n",
    "            n_spaces (int): number of data points \n",
    "        \n",
    "        Returns:\n",
    "            list: x values for the pdf plot\n",
    "            list: y values for the pdf plot\n",
    "            \n",
    "        \"\"\"\n",
    "        \n",
    "        #TODO: Nothing to do for this method. Try it out and see how it works.\n",
    "        \n",
    "        mu = self.mean\n",
    "        sigma = self.stdev\n",
    "\n",
    "        min_range = min(self.data)\n",
    "        max_range = max(self.data)\n",
    "        \n",
    "         # calculates the interval between x values\n",
    "        interval = 1.0 * (max_range - min_range) / n_spaces\n",
    "\n",
    "        x = []\n",
    "        y = []\n",
    "        \n",
    "        # calculate the x values to visualize\n",
    "        for i in range(n_spaces):\n",
    "            tmp = min_range + interval*i\n",
    "            x.append(tmp)\n",
    "            y.append(self.pdf(tmp))\n",
    "\n",
    "        # make the plots\n",
    "        fig, axes = plt.subplots(2,sharex=True)\n",
    "        fig.subplots_adjust(hspace=.5)\n",
    "        axes[0].hist(self.data, density=True)\n",
    "        axes[0].set_title('Normed Histogram of Data')\n",
    "        axes[0].set_ylabel('Density')\n",
    "\n",
    "        axes[1].plot(x, y)\n",
    "        axes[1].set_title('Normal Distribution for \\n Sample Mean and Sample Standard Deviation')\n",
    "        axes[0].set_ylabel('Density')\n",
    "        plt.show()\n",
    "\n",
    "        return x, y\n",
    "    \n",
    "    def __add__(self, other):\n",
    "        \n",
    "        \"\"\"Magic method to add together two Gaussian distributions\n",
    "        \n",
    "        Args:\n",
    "            other (Gaussian): Gaussian instance\n",
    "            \n",
    "        Returns:\n",
    "            Gaussian: Gaussian distribution\n",
    "            \n",
    "        \"\"\"\n",
    "        \n",
    "        # TODO: Calculate the results of summing two Gaussian distributions\n",
    "        #   When summing two Gaussian distributions, the mean value is the sum\n",
    "        #       of the means of each Gaussian.\n",
    "        #\n",
    "        #   When summing two Gaussian distributions, the standard deviation is the\n",
    "        #       square root of the sum of square ie sqrt(stdev_one ^ 2 + stdev_two ^ 2)\n",
    "        \n",
    "        # create a new Gaussian object\n",
    "        result = Gaussian()\n",
    "        \n",
    "        # TODO: calculate the mean and standard deviation of the sum of two Gaussians\n",
    "        result.mean = self.mean + other.mean\n",
    "        result.stdev = math.sqrt(self.stdev**2 + other.stdev**2)\n",
    "        \n",
    "        return result\n",
    "\n",
    "    def __repr__(self):\n",
    "\n",
    "        \"\"\"Magic method to output the characteristics of the Gaussian instance\n",
    "        \n",
    "        Args:\n",
    "            None\n",
    "        \n",
    "        Returns:\n",
    "            string: characteristics of the Gaussian\n",
    "        \n",
    "        \"\"\"\n",
    "        \n",
    "        # TODO: Return a string in the following format - \n",
    "        # \"mean mean_value, standard deviation standard_deviation_value\"\n",
    "        # where mean_value is the mean of the Gaussian distribution\n",
    "        # and standard_deviation_value is the standard deviation of\n",
    "        # the Gaussian.\n",
    "        # For example \"mean 3.5, standard deviation 1.3\"\n",
    "        \n",
    "        return f\"mean {self.mean}, standard deviation {self.stdev}\""
   ]
  },
  {
   "cell_type": "code",
   "execution_count": 11,
   "metadata": {},
   "outputs": [
    {
     "name": "stderr",
     "output_type": "stream",
     "text": [
      "....\n",
      "----------------------------------------------------------------------\n",
      "Ran 4 tests in 0.004s\n",
      "\n",
      "OK\n"
     ]
    },
    {
     "data": {
      "text/plain": [
       "<unittest.runner.TextTestResult run=4 errors=0 failures=0>"
      ]
     },
     "execution_count": 11,
     "metadata": {},
     "output_type": "execute_result"
    }
   ],
   "source": [
    "# Unit tests to check your solution\n",
    "\n",
    "import unittest\n",
    "\n",
    "class TestGaussianClass(unittest.TestCase):\n",
    "    def setUp(self):\n",
    "        self.gaussian = Gaussian(25, 2)\n",
    "\n",
    "    def test_initialization(self): \n",
    "        self.assertEqual(self.gaussian.mean, 25, 'incorrect mean')\n",
    "        self.assertEqual(self.gaussian.stdev, 2, 'incorrect standard deviation')\n",
    "\n",
    "    def test_pdf(self):\n",
    "        self.assertEqual(round(self.gaussian.pdf(25), 5), 0.19947,\\\n",
    "         'pdf function does not give expected result') \n",
    "\n",
    "    def test_meancalculation(self):\n",
    "        self.gaussian.read_data_file('./data/numbers.txt', True)\n",
    "        self.assertEqual(self.gaussian.calculate_mean(),\\\n",
    "         sum(self.gaussian.data) / float(len(self.gaussian.data)), 'calculated mean not as expected')\n",
    "\n",
    "    def test_stdevcalculation(self):\n",
    "        self.gaussian.read_data_file('./data/numbers.txt', True)\n",
    "        self.assertEqual(round(self.gaussian.stdev, 2), 92.87, 'sample standard deviation incorrect')\n",
    "        self.gaussian.read_data_file('./data/numbers.txt', False)\n",
    "        self.assertEqual(round(self.gaussian.stdev, 2), 88.55, 'population standard deviation incorrect')\n",
    "                \n",
    "tests = TestGaussianClass()\n",
    "\n",
    "tests_loaded = unittest.TestLoader().loadTestsFromModule(tests)\n",
    "\n",
    "unittest.TextTestRunner().run(tests_loaded)"
   ]
  },
  {
   "cell_type": "code",
   "execution_count": 12,
   "metadata": {},
   "outputs": [
    {
     "name": "stdout",
     "output_type": "stream",
     "text": [
      "78.0909090909091\n",
      "92.87459776004906\n"
     ]
    }
   ],
   "source": [
    "gaussian = Gaussian()\n",
    "gaussian.read_data_file('./data/numbers.txt', True)\n",
    "print(gaussian.mean)\n",
    "print(gaussian.stdev)"
   ]
  },
  {
   "cell_type": "code",
   "execution_count": 13,
   "metadata": {},
   "outputs": [
    {
     "data": {
      "image/png": "[encoded data removed]",
      "text/plain": [
       "<Figure size 432x288 with 2 Axes>"
      ]
     },
     "metadata": {
      "needs_background": "light"
     },
     "output_type": "display_data"
    }
   ],
   "source": [
    "gaussian.plot_histogram_pdf();"
   ]
  },
  {
   "cell_type": "code",
   "execution_count": 14,
   "metadata": {},
   "outputs": [
    {
     "name": "stderr",
     "output_type": "stream",
     "text": [
      "..\n",
      "----------------------------------------------------------------------\n",
      "Ran 2 tests in 0.001s\n",
      "\n",
      "OK\n"
     ]
    },
    {
     "data": {
      "text/plain": [
       "<unittest.runner.TextTestResult run=2 errors=0 failures=0>"
      ]
     },
     "execution_count": 14,
     "metadata": {},
     "output_type": "execute_result"
    }
   ],
   "source": [
    "class TestMagic(unittest.TestCase):\n",
    "    def test_add(self):\n",
    "        gaussian_one = Gaussian(25, 3)\n",
    "        gaussian_two = Gaussian(30, 4)\n",
    "        gaussian_sum = gaussian_one + gaussian_two\n",
    "        \n",
    "        self.assertEqual(gaussian_sum.mean, 55)\n",
    "        self.assertEqual(gaussian_sum.stdev, 5)\n",
    "\n",
    "    def test_repr(self):\n",
    "        gaussian_one = Gaussian(25, 3)\n",
    "        \n",
    "        self.assertEqual(str(gaussian_one), \"mean 25, standard deviation 3\")\n",
    "        \n",
    "tests = TestMagic()\n",
    "\n",
    "tests_loaded = unittest.TestLoader().loadTestsFromModule(tests)\n",
    "\n",
    "unittest.TextTestRunner().run(tests_loaded)"
   ]
  },
  {
   "cell_type": "markdown",
   "metadata": {},
   "source": [
    "## Quiz 5 - Inheritance Exercise Clothing\n",
    "\n",
    "The following code contains a Clothing parent class and two children classes: Shirt and Pants.\n",
    "\n",
    "Your job is to code a class called Blouse. Read through the code and fill out the TODOs. Then check your work with the unit tests at the bottom of the code."
   ]
  },
  {
   "cell_type": "code",
   "execution_count": 15,
   "metadata": {},
   "outputs": [],
   "source": [
    "class Clothing:\n",
    "\n",
    "    def __init__(self, color, size, style, price):\n",
    "        self.color = color\n",
    "        self.size = size\n",
    "        self.style = style\n",
    "        self.price = price\n",
    "        \n",
    "    def change_price(self, price):\n",
    "        self.price = price\n",
    "        \n",
    "    def calculate_discount(self, discount):\n",
    "        return self.price * (1 - discount)\n",
    "    \n",
    "# TODO: Add a method to the clothing class called calculate_shipping.\n",
    "#   The method has two inputs: weight and rate. Weight is a float\n",
    "#   representing the weight of the article of clothing. Rate is a float\n",
    "#   representing the shipping weight. The method returns weight * rate\n",
    "    def calculate_shipping(self, weight, rate):\n",
    "        return weight * rate\n",
    "        \n",
    "class Shirt(Clothing):\n",
    "    \n",
    "    def __init__(self, color, size, style, price, long_or_short):\n",
    "        \n",
    "        Clothing.__init__(self, color, size, style, price)\n",
    "        self.long_or_short = long_or_short\n",
    "    \n",
    "    def double_price(self):\n",
    "        self.price = 2*self.price\n",
    "    \n",
    "class Pants(Clothing):\n",
    "\n",
    "    def __init__(self, color, size, style, price, waist):\n",
    "        \n",
    "        Clothing.__init__(self, color, size, style, price)\n",
    "        self.waist = waist\n",
    "        \n",
    "    def calculate_discount(self, discount):\n",
    "        return self.price * (1 - discount / 2)\n",
    "      \n",
    "# TODO: Write a class called Blouse, that inherits from the Clothing class\n",
    "# and has the the following attributes and methods:\n",
    "#   attributes: color, size, style, price, country_of_origin\n",
    "#     where country_of_origin is a string that holds the name of a \n",
    "#     country\n",
    "#\n",
    "#   methods: triple_price, which has no inputs and returns three times\n",
    "#     the price of the blouse\n",
    "\n",
    "class Blouse(Clothing):\n",
    "    def __init__(self, color, size, style, price, country_of_origin):\n",
    "        Clothing.__init__(self, color, size, style, price)\n",
    "        self.country_of_origin = country_of_origin\n",
    "    \n",
    "    def triple_price(self):\n",
    "        return 3 * self.price"
   ]
  },
  {
   "cell_type": "code",
   "execution_count": 16,
   "metadata": {},
   "outputs": [
    {
     "name": "stderr",
     "output_type": "stream",
     "text": [
      "..\n",
      "----------------------------------------------------------------------\n",
      "Ran 2 tests in 0.001s\n",
      "\n",
      "OK\n"
     ]
    },
    {
     "data": {
      "text/plain": [
       "<unittest.runner.TextTestResult run=2 errors=0 failures=0>"
      ]
     },
     "execution_count": 16,
     "metadata": {},
     "output_type": "execute_result"
    }
   ],
   "source": [
    "# Unit tests to check your solution\n",
    "\n",
    "import unittest\n",
    "\n",
    "class TestClothingClass(unittest.TestCase):\n",
    "    def setUp(self):\n",
    "        self.clothing = Clothing('orange', 'M', 'stripes', 35)\n",
    "        self.blouse = Blouse('blue', 'M', 'luxury', 40, 'Brazil')\n",
    "        self.pants = Pants('black', 32, 'baggy', 60, 30)\n",
    "        \n",
    "    def test_initialization(self): \n",
    "        self.assertEqual(self.clothing.color, 'orange', 'color should be orange')\n",
    "        self.assertEqual(self.clothing.price, 35, 'incorrect price')\n",
    "        \n",
    "        self.assertEqual(self.blouse.color, 'blue', 'color should be blue')\n",
    "        self.assertEqual(self.blouse.size, 'M', 'incorrect size')\n",
    "        self.assertEqual(self.blouse.style, 'luxury', 'incorrect style')\n",
    "        self.assertEqual(self.blouse.price, 40, 'incorrect price')\n",
    "        self.assertEqual(self.blouse.country_of_origin, 'Brazil', 'incorrect country of origin')\n",
    "\n",
    "    def test_calculateshipping(self):\n",
    "        self.assertEqual(self.clothing.calculate_shipping(.5, 3), .5 * 3,\\\n",
    "         'Clothing shipping calculation not as expected') \n",
    "\n",
    "        self.assertEqual(self.blouse.calculate_shipping(.5, 3), .5 * 3,\\\n",
    "         'Clothing shipping calculation not as expected') \n",
    "    \n",
    "tests = TestClothingClass()\n",
    "\n",
    "tests_loaded = unittest.TestLoader().loadTestsFromModule(tests)\n",
    "\n",
    "unittest.TextTestRunner().run(tests_loaded)"
   ]
  }
 ],
 "metadata": {
  "kernelspec": {
   "display_name": "Python 3",
   "language": "python",
   "name": "python3"
  },
  "language_info": {
   "codemirror_mode": {
    "name": "ipython",
    "version": 3
   },
   "file_extension": ".py",
   "mimetype": "text/x-python",
   "name": "python",
   "nbconvert_exporter": "python",
   "pygments_lexer": "ipython3",
   "version": "3.7.1"
  }
 },
 "nbformat": 4,
 "nbformat_minor": 2
}
