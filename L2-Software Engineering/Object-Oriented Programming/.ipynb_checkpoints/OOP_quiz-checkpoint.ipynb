{
 "cells": [
  {
   "cell_type": "markdown",
   "metadata": {},
   "source": [
    "# Object-Oriented Programming Quiz\n",
    "## Quiz 1 - Use the Shirt Class\n",
    "### Your Task\n",
    "Fill out the TODOs in each section of the Jupyter notebook."
   ]
  },
  {
   "cell_type": "code",
   "execution_count": 1,
   "metadata": {},
   "outputs": [],
   "source": [
    "class Shirt:\n",
    "    def __init__(self, shirt_color, shirt_size, shirt_style, shirt_price):\n",
    "        self.color = shirt_color\n",
    "        self.size = shirt_size\n",
    "        self.style = shirt_style\n",
    "        self.price = shirt_price\n",
    "        \n",
    "    def change_price(self, new_price):\n",
    "        self.price = new_price\n",
    "    \n",
    "    def discount(self, discount):\n",
    "        return self.price * (1 - discount)"
   ]
  },
  {
   "cell_type": "code",
   "execution_count": 2,
   "metadata": {},
   "outputs": [],
   "source": [
    "### TODO:\n",
    "#    - insantiate a shirt object with the following characteristics:\n",
    "#        - color red, size S, style long-sleeve, and price 25\n",
    "#    - store the object in a variable called shirt_one\n",
    "###\n",
    "shirt_one = Shirt('red', 'S', 'long-sleeve', 25)"
   ]
  },
  {
   "cell_type": "code",
   "execution_count": 3,
   "metadata": {},
   "outputs": [
    {
     "name": "stdout",
     "output_type": "stream",
     "text": [
      "25\n",
      "10\n"
     ]
    },
    {
     "data": {
      "text/plain": [
       "8.8"
      ]
     },
     "execution_count": 3,
     "metadata": {},
     "output_type": "execute_result"
    }
   ],
   "source": [
    "### TODO:\n",
    "#     - print the price of the shirt using the price attribute\n",
    "#     - use the change_price method to change the price of the shirt to 10\n",
    "#     - print the price of the shirt using the price attribute\n",
    "#     - use the discount method to print the price of the shirt with a 12% discount\n",
    "###\n",
    "print(shirt_one.price)\n",
    "shirt_one.change_price(10)\n",
    "print(shirt_one.price)\n",
    "shirt_one.discount(0.12)"
   ]
  },
  {
   "cell_type": "code",
   "execution_count": 4,
   "metadata": {},
   "outputs": [],
   "source": [
    "### TODO:\n",
    "#\n",
    "#    - instantiate another object with the following characteristics:\n",
    "# .       - color orange, size L, style short-sleeve, and price 10\n",
    "#    - store the object in a variable called shirt_two\n",
    "###\n",
    "shirt_two = Shirt('orange', 'L', 'short-sleeve', 10)"
   ]
  },
  {
   "cell_type": "code",
   "execution_count": 5,
   "metadata": {},
   "outputs": [
    {
     "data": {
      "text/plain": [
       "20"
      ]
     },
     "execution_count": 5,
     "metadata": {},
     "output_type": "execute_result"
    }
   ],
   "source": [
    "### TODO:\n",
    "#    - calculate the total cost of shirt_one and shirt_two\n",
    "#    - store the results in a variable called total\n",
    "###\n",
    "total = shirt_one.price + shirt_two.price\n",
    "total"
   ]
  },
  {
   "cell_type": "code",
   "execution_count": 6,
   "metadata": {},
   "outputs": [
    {
     "data": {
      "text/plain": [
       "18.0"
      ]
     },
     "execution_count": 6,
     "metadata": {},
     "output_type": "execute_result"
    }
   ],
   "source": [
    "### TODO:\n",
    "#    - use the shirt discount method to calculate the total cost if\n",
    "#       shirt_one has a discount of 14% and shirt_two has a discount\n",
    "#       of 6%\n",
    "#    - store the results in a variable called total_discount\n",
    "###\n",
    "total_discount = shirt_one.discount(.14) + shirt_two.discount(.06)\n",
    "total_discount"
   ]
  },
  {
   "cell_type": "markdown",
   "metadata": {},
   "source": [
    "## Quiz 2 - OOP Syntax Exercise\n",
    "Now that you've had some practice instantiating objects, it's time to write your own class from scratch. This lesson has two parts. In the first part, you'll write a Pants class. This class is similar to the shirt class with a couple of changes. Then you'll practice instantiating Pants objects\n",
    "\n",
    "In the second part, you'll write another class called SalesPerson. You'll also instantiate objects for the SalesPerson."
   ]
  },
  {
   "cell_type": "markdown",
   "metadata": {},
   "source": [
    "### Pants class\n",
    "\n",
    "Write a Pants class with the following characteristics:\n",
    "* the class name should be Pants\n",
    "* the class attributes should include\n",
    " * color\n",
    " * waist_size\n",
    " * length\n",
    " * price\n",
    "* the class should have an init function that initializes all of the attributes\n",
    "* the class should have two methods\n",
    " * change_price() a method to change the price attribute\n",
    " * discount() to calculate a discount"
   ]
  },
  {
   "cell_type": "code",
   "execution_count": 7,
   "metadata": {},
   "outputs": [],
   "source": [
    "class Pants:\n",
    "    \"\"\"The Pants class represents an article of clothing sold in a store\"\"\"\n",
    "    \n",
    "    def __init__(self, color, waist_size, length, price):\n",
    "        \"\"\"Method for initializing a Pants object\n",
    "        \n",
    "        Args: \n",
    "            color (str)\n",
    "            waist_size (int)\n",
    "            length (int)\n",
    "            price (float)\n",
    "            \n",
    "        Attributes:\n",
    "            color (str): color of a pants object\n",
    "            waist_size (str): waist size of a pants object\n",
    "            length (str): length of a pants object\n",
    "            price (float): price of a pants object\n",
    "        \"\"\"\n",
    "        self.color = color\n",
    "        self.waist_size = waist_size\n",
    "        self.length = length\n",
    "        self.price = price\n",
    "    \n",
    "    def change_price(self, new_price):\n",
    "        \"\"\"The change_price method changes the price attribute of a pants object\n",
    "    \n",
    "        Args: \n",
    "            new_price (float): the new price of the pants object\n",
    "            \n",
    "        Returns: None\n",
    "        \n",
    "        \"\"\"\n",
    "        self.price = new_price\n",
    "    \n",
    "    def discount(self, discount):\n",
    "        \"\"\"The discount method outputs a discounted price of a pants object\n",
    "        Args:\n",
    "            percentage (float): a decimal representing the amount to discount\n",
    "        Returns:\n",
    "            float: the discounted price\n",
    "        \"\"\"\n",
    "        return self.price * (1 - discount)"
   ]
  },
  {
   "cell_type": "markdown",
   "metadata": {},
   "source": [
    "### SalesPerson class\n",
    "\n",
    "The Pants class and Shirt class are quite similar. Here is an exercise to give you more practice writing a class. **This exercise is trickier than the previous exercises.**\n",
    "\n",
    "Write a SalesPerson class with the following characteristics:\n",
    "* the class name should be SalesPerson\n",
    "* the class attributes should include\n",
    " * first_name \n",
    " * last_name\n",
    " * employee_id\n",
    " * salary\n",
    " * pants_sold\n",
    " * total_sales\n",
    "* the class should have an init function that initializes all of the attributes\n",
    "* the class should have four methods\n",
    " * sell_pants() a method to change the price attribute\n",
    " * calculate_sales() a method to calculate the sales\n",
    " * display_sales() a method to print out all the pants sold with nice formatting\n",
    " * calculate_commission() a method to calculate the salesperson commission based on total sales and a percentage"
   ]
  },
  {
   "cell_type": "code",
   "execution_count": 8,
   "metadata": {},
   "outputs": [],
   "source": [
    "class SalesPerson:\n",
    "    \"\"\"The SalesPerson class represents an employee in the store\"\"\"\n",
    "\n",
    "    def __init__(self, first_name, last_name, employee_id, salary):\n",
    "        \"\"\"Method for initializing a SalesPerson object\n",
    "        \n",
    "        Args: \n",
    "            first_name (str)\n",
    "            last_name (str)\n",
    "            employee_id (int)\n",
    "            salary (float)\n",
    "            \n",
    "        Attributes:\n",
    "            first_name (str): first name of the employee\n",
    "            last_name (str): last name of the employee\n",
    "            employee_id (int): identification number of the employee\n",
    "            salary (float): yearly salary of the employee\n",
    "            pants_sold (list): a list of pants objects sold by the employee\n",
    "            total_sales (float): sum of all sales made by the employee\n",
    "        \"\"\"\n",
    "        self.first_name = first_name\n",
    "        self.last_name = last_name\n",
    "        self.employee_id = employee_id\n",
    "        self.salary = salary\n",
    "        self.pants_sold = []\n",
    "        self.total_sales = 0\n",
    "        \n",
    "    def sell_pants(self, pants_object):\n",
    "        \"\"\"The sell_pants method appends a pants object to the pants_sold attribute\n",
    "        \n",
    "        Args: \n",
    "            pants_object (obj): a pants object that was sold\n",
    "        Returns: None\n",
    "        \"\"\"\n",
    "        self.pants_sold.append(pants_object)\n",
    "        \n",
    "    def display_sales(self):\n",
    "        \"\"\"The display_sales method prints out all pants that have been sold\n",
    "        \n",
    "        Args: None\n",
    "        Returns: None\n",
    "        \"\"\"\n",
    "        for pant in self.pants_sold:\n",
    "            print(f\"color: {pant.color}, waist_size: {pant.waist_size}, length: {pant.waist_size}, price: {pant.price}\")\n",
    "\n",
    "    def calculate_sales(self):\n",
    "        \"\"\"The calculate_sales method sum the total price of pants sold\n",
    "        \n",
    "        Args: None\n",
    "        Returns: \n",
    "            float: sum of the price for all pants sold \n",
    "        \"\"\"\n",
    "        total = 0\n",
    "        for pant in self.pants_sold:\n",
    "            total += pant.price\n",
    "        self.total_sales = total\n",
    "        return total\n",
    "    \n",
    "    def calculate_commission(self, percentage):\n",
    "        \"\"\"The calculate_commission method outputs the commission based on sales\n",
    "        Args:\n",
    "            percentage (float): the commission percentage as a decimal\n",
    "        Returns:\n",
    "            float: the commission due\n",
    "        \"\"\"\n",
    "        total_sales = self.calculate_sales()\n",
    "        return total_sales * percentage"
   ]
  },
  {
   "cell_type": "markdown",
   "metadata": {},
   "source": [
    "### Check display_sales() method\n",
    "\n",
    "If you run the code cell below, you should get output similar to this:\n",
    "\n",
    "```python\n",
    "color: red, waist_size: 35, length: 36, price: 15.12\n",
    "color: blue, waist_size: 40, length: 38, price: 24.12\n",
    "color: tan, waist_size: 28, length: 30, price: 8.12\n",
    "```"
   ]
  },
  {
   "cell_type": "code",
   "execution_count": 9,
   "metadata": {},
   "outputs": [
    {
     "name": "stdout",
     "output_type": "stream",
     "text": [
      "color: red, waist_size: 35, length: 35, price: 15.12\n",
      "color: blue, waist_size: 40, length: 40, price: 24.12\n",
      "color: tan, waist_size: 28, length: 28, price: 8.12\n"
     ]
    }
   ],
   "source": [
    "pants_one = Pants('red', 35, 36, 15.12)\n",
    "pants_two = Pants('blue', 40, 38, 24.12)\n",
    "pants_three = Pants('tan', 28, 30, 8.12)\n",
    "\n",
    "salesperson = SalesPerson('Amy', 'Gonzalez', 2581923, 40000)\n",
    "\n",
    "salesperson.sell_pants(pants_one)    \n",
    "salesperson.sell_pants(pants_two)\n",
    "salesperson.sell_pants(pants_three)\n",
    "\n",
    "salesperson.display_sales()"
   ]
  }
 ],
 "metadata": {
  "kernelspec": {
   "display_name": "Python 3",
   "language": "python",
   "name": "python3"
  },
  "language_info": {
   "codemirror_mode": {
    "name": "ipython",
    "version": 3
   },
   "file_extension": ".py",
   "mimetype": "text/x-python",
   "name": "python",
   "nbconvert_exporter": "python",
   "pygments_lexer": "ipython3",
   "version": "3.7.1"
  }
 },
 "nbformat": 4,
 "nbformat_minor": 2
}
