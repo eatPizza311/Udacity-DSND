{
 "cells": [
  {
   "cell_type": "markdown",
   "metadata": {},
   "source": [
    "# Recommendations with MovieTweetings: Collaborative Filtering\n",
    "\n",
    "最受歡迎的推薦方法之一為 **collaborative filtering**，我們會使用 user-item 的合作關係來做出新的推薦，主要有兩種做法:\n",
    "\n",
    "1. **Neighborhood-Based Collaborative Filtering**，基本想法為關聯相似的物件或是使用者來做出推薦。\n",
    "\n",
    "2. **Model Based Collaborative Filtering**，基本想法為使用機器學習或其他數學模型來理解物件與使用者的關係並預測評分來做出推薦。\n",
    "\n",
    "這裡我們會使用 **neighborhood-based collaborative filtering** 方法，而它又可以細分為\n",
    "\n",
    "1. **User-based collaborative filtering:** 利用和想要推薦的那個使用者相關的其他使用者來做推薦。\n",
    "\n",
    "2. **Item-based collaborative filtering:** 這方法首先要找出與每個物件相關的物件們(based on similar ratings)，然後再利用使用者對這些相似物件的評分來判斷使用者是否會喜歡新的物件。\n",
    "\n",
    "這裡主要使用 **user-based collaborative filtering** 還有以下三個步驟來推薦電影作為例子\n",
    "1. 移除使用者已經看過的電影\n",
    "2. 找到鄰居評分高的電影\n",
    "3. 推薦符合前兩項標準的電影給使用者\n",
    "\n",
    "_注意這裡僅示範作用在一對使用者，而非疊代到所有使用者以節省時間。_"
   ]
  },
  {
   "cell_type": "code",
   "execution_count": 1,
   "metadata": {},
   "outputs": [
    {
     "name": "stdout",
     "output_type": "stream",
     "text": [
      "   user_id  movie_id  rating   timestamp                 date\n",
      "0        1    111161      10  1373234211  2013-07-07 21:56:51\n",
      "1        1    117060       7  1373415231  2013-07-10 00:13:51\n",
      "2        1    120755       6  1373424360  2013-07-10 02:46:00\n",
      "3        1    317919       6  1373495763  2013-07-10 22:36:03\n",
      "4        1    454876      10  1373621125  2013-07-12 09:25:25\n"
     ]
    }
   ],
   "source": [
    "import numpy as np\n",
    "import pandas as pd\n",
    "import matplotlib.pyplot as plt\n",
    "from scipy.sparse import csr_matrix\n",
    "from IPython.display import HTML\n",
    "%matplotlib inline\n",
    "\n",
    "# Read in the datasets\n",
    "movies = pd.read_csv('./data/movies_clean.csv')\n",
    "reviews = pd.read_csv('./data/reviews_clean.csv')\n",
    "\n",
    "del movies['Unnamed: 0']\n",
    "del reviews['Unnamed: 0']\n",
    "\n",
    "print(reviews.head())"
   ]
  },
  {
   "cell_type": "code",
   "execution_count": 2,
   "metadata": {
    "scrolled": true
   },
   "outputs": [],
   "source": [
    "# remove duplicate\n",
    "movies.drop(7897, inplace=True)"
   ]
  },
  {
   "cell_type": "markdown",
   "metadata": {},
   "source": [
    "## Measures of Similarity\n",
    "\n",
    "使用 **neighborhood** based collaborative filtering 最重要的就是知道如何計算物件間或使用者間的相似度或距離，這裡主要使用兩個指標\n",
    "\n",
    "- **Pearson's correlation coefficient**\n",
    "\n",
    "其計算方法為\n",
    "$$CORR(x, y) = \\frac{\\text{COV}(x, y)}{\\text{STDEV}(x)\\text{ }\\text{STDEV}(y)}$$\n",
    "其中\n",
    "$$\\text{STDEV}(x) = \\sqrt{\\frac{1}{n-1}\\sum_{i=1}^{n}(x_i - \\bar{x})^2}$$\n",
    "\n",
    "$$\\text{COV}(x, y) = \\frac{1}{n-1}\\sum_{i=1}^{n}(x_i - \\bar{x})(y_i - \\bar{y})$$\n",
    "\n",
    "其中 n 為向量的長度，x 和 y 要一樣。$\\bar{x}$ 則是向量中所有元素的平均值。\n",
    "\n",
    "我們可以使用 correlation coefficient 來代表兩個向量有多相似，越靠近 1 就代表越相似，以下我們會看到有時候這個方法不太好。\n",
    "\n",
    "- **Euclidean distance**\n",
    "\n",
    "計算兩個向量間的直線距離，所以值越大代表兩向量差別越遠，其計算方法為\n",
    "$$ \\text{EUCL}(x, y) = \\sqrt{\\sum_{i=1}^{n}(x_i - y_i)^2}$$\n",
    "和 correlation coefficient 不同，沒有分母來改變尺度，所以在使用這個指標時要確保資料在同一個尺度上。\n",
    "\n",
    "------------\n",
    "\n",
    "### User-Item Matrix\n",
    "\n",
    "把數值放進矩陣內會比較方便計算，每一列是一個使用者，每一行是一種物件。\n",
    "![alt text](https://view3f484599.udacity-student-workspaces.com/files/images/userxitem.png \"User Item Matrix\")\n",
    "\n",
    "上圖可以看到 **User 1** 和 **User 2** 都有 **Item 1**，而 **User 2**, **User 3** 和 **User 4** 都有 **Item 2**.  然而裡面還是有大量的遺失值代表該使用者沒有的物件。\n",
    "\n",
    "以下我們首先由 **reviews** dataset 創造出上面的矩陣，其中元素是評分，所以我們只需要 **reviews** dataframe 的前三欄就好。"
   ]
  },
  {
   "cell_type": "code",
   "execution_count": 3,
   "metadata": {},
   "outputs": [
    {
     "data": {
      "text/html": [
       "<div>\n",
       "<style scoped>\n",
       "    .dataframe tbody tr th:only-of-type {\n",
       "        vertical-align: middle;\n",
       "    }\n",
       "\n",
       "    .dataframe tbody tr th {\n",
       "        vertical-align: top;\n",
       "    }\n",
       "\n",
       "    .dataframe thead th {\n",
       "        text-align: right;\n",
       "    }\n",
       "</style>\n",
       "<table border=\"1\" class=\"dataframe\">\n",
       "  <thead>\n",
       "    <tr style=\"text-align: right;\">\n",
       "      <th></th>\n",
       "      <th>user_id</th>\n",
       "      <th>movie_id</th>\n",
       "      <th>rating</th>\n",
       "    </tr>\n",
       "  </thead>\n",
       "  <tbody>\n",
       "    <tr>\n",
       "      <th>0</th>\n",
       "      <td>1</td>\n",
       "      <td>111161</td>\n",
       "      <td>10</td>\n",
       "    </tr>\n",
       "    <tr>\n",
       "      <th>1</th>\n",
       "      <td>1</td>\n",
       "      <td>117060</td>\n",
       "      <td>7</td>\n",
       "    </tr>\n",
       "    <tr>\n",
       "      <th>2</th>\n",
       "      <td>1</td>\n",
       "      <td>120755</td>\n",
       "      <td>6</td>\n",
       "    </tr>\n",
       "    <tr>\n",
       "      <th>3</th>\n",
       "      <td>1</td>\n",
       "      <td>317919</td>\n",
       "      <td>6</td>\n",
       "    </tr>\n",
       "    <tr>\n",
       "      <th>4</th>\n",
       "      <td>1</td>\n",
       "      <td>454876</td>\n",
       "      <td>10</td>\n",
       "    </tr>\n",
       "  </tbody>\n",
       "</table>\n",
       "</div>"
      ],
      "text/plain": [
       "   user_id  movie_id  rating\n",
       "0        1    111161      10\n",
       "1        1    117060       7\n",
       "2        1    120755       6\n",
       "3        1    317919       6\n",
       "4        1    454876      10"
      ]
     },
     "execution_count": 3,
     "metadata": {},
     "output_type": "execute_result"
    }
   ],
   "source": [
    "user_items = reviews[['user_id', 'movie_id', 'rating']]\n",
    "user_items.head()"
   ]
  },
  {
   "cell_type": "markdown",
   "metadata": {},
   "source": [
    "### Creating the User-Item Matrix\n",
    "\n",
    "為了創造 user-items matrix 我們首先使用 [pivot table](https://pandas.pydata.org/pandas-docs/stable/generated/pandas.pivot_table.html)。\n",
    "\n",
    "然而這個方法很有可能遇到 memory error，[this link here](https://stackoverflow.com/questions/39648991/pandas-dataframe-pivot-memory-error) 可能會有所幫助。\n",
    "_____\n",
    "\n",
    "`1.` 創造一個使用者為列，電影為欄，元素為評分的矩陣，如果該使用者沒有評分就讓值為 NaN"
   ]
  },
  {
   "cell_type": "code",
   "execution_count": 4,
   "metadata": {},
   "outputs": [],
   "source": [
    "# Create user-by-item matrix\n",
    "user_by_movie = user_items.groupby(['user_id', 'movie_id'])['rating'].max().unstack()"
   ]
  },
  {
   "cell_type": "code",
   "execution_count": 5,
   "metadata": {},
   "outputs": [
    {
     "name": "stdout",
     "output_type": "stream",
     "text": [
      "Looks like you are all set! Proceed!\n"
     ]
    },
    {
     "data": {
      "text/html": [
       "<img src=\"https://view3f484599.udacity-student-workspaces.com/files/images/greatjob.webp\">"
      ],
      "text/plain": [
       "<IPython.core.display.HTML object>"
      ]
     },
     "execution_count": 5,
     "metadata": {},
     "output_type": "execute_result"
    }
   ],
   "source": [
    "assert movies.shape[0] == user_by_movie.shape[1], \"Oh no! Your matrix should have {} columns, and yours has {}!\".format(movies.shape[0], user_by_movie.shape[1])\n",
    "assert reviews.user_id.nunique() == user_by_movie.shape[0], \"Oh no! Your matrix should have {} rows, and yours has {}!\".format(reviews.user_id.nunique(), user_by_movie.shape[0])\n",
    "print(\"Looks like you are all set! Proceed!\")\n",
    "HTML('<img src=\"https://view3f484599.udacity-student-workspaces.com/files/images/greatjob.webp\">')"
   ]
  },
  {
   "cell_type": "markdown",
   "metadata": {},
   "source": [
    "`2.` 現在有了矩陣 users by movies，使用這個矩陣創造一個 key 為使用者，value 為該使用者評過分電影的 dictionary。"
   ]
  },
  {
   "cell_type": "code",
   "execution_count": 6,
   "metadata": {},
   "outputs": [],
   "source": [
    "# Create a dictionary with users and corresponding movies seen\n",
    "\n",
    "def movies_watched(user_id):\n",
    "    '''\n",
    "    INPUT:\n",
    "    user_id - the user_id of an individual as int\n",
    "    OUTPUT:\n",
    "    movies - an array of movies the user has watched\n",
    "    '''\n",
    "    movies = user_by_movie.loc[user_id][user_by_movie.loc[user_id].notnull()].index.values\n",
    "    return movies\n",
    "\n",
    "\n",
    "def create_user_movie_dict():\n",
    "    '''\n",
    "    INPUT: None\n",
    "    OUTPUT: movies_seen - a dictionary where each key is a user_id and the value is an array of movie_ids\n",
    "    \n",
    "    Creates the movies_seen dictionary\n",
    "    '''\n",
    "    movies_seen = dict()\n",
    "    \n",
    "    for user_id in user_by_movie.index.values:\n",
    "        movies_seen[user_id] = movies_watched(user_id)\n",
    "        \n",
    "    return movies_seen\n",
    "\n",
    "\n",
    "# Use your function to return dictionary\n",
    "movies_seen = create_user_movie_dict()"
   ]
  },
  {
   "cell_type": "markdown",
   "metadata": {},
   "source": [
    "`3.` 如果使用者沒有評超過兩部電影，我們將它視為太新，創造一個只包含夠資格的使用者的新 dictionary"
   ]
  },
  {
   "cell_type": "code",
   "execution_count": 7,
   "metadata": {},
   "outputs": [],
   "source": [
    "# Remove individuals who have watched 2 or fewer movies - don't have enough data to make recs\n",
    "\n",
    "def create_movies_to_analyze(movies_seen, lower_bound=2):\n",
    "    '''\n",
    "    INPUT:  \n",
    "    movies_seen - a dictionary where each key is a user_id and the value is an array of movie_ids\n",
    "    lower_bound - (an int) a user must have more movies seen than the lower bound to be added to the movies_to_analyze dictionary\n",
    "\n",
    "    OUTPUT: \n",
    "    movies_to_analyze - a dictionary where each key is a user_id and the value is an array of movie_ids\n",
    "    \n",
    "    The movies_seen and movies_to_analyze dictionaries should be the same except that the output dictionary has removed \n",
    "    \n",
    "    '''\n",
    "    movies_to_analyze = dict()\n",
    "    # Do things to create updated dictionary\n",
    "    for key, value in movies_seen.items():\n",
    "        if len(value) > lower_bound:\n",
    "            movies_to_analyze[key] = value\n",
    "    return movies_to_analyze\n",
    "\n",
    "\n",
    "# Use your function to return your updated dictionary\n",
    "movies_to_analyze = create_movies_to_analyze(movies_seen)"
   ]
  },
  {
   "cell_type": "markdown",
   "metadata": {},
   "source": [
    "### Calculating User Similarities\n",
    "\n",
    "現在我們有了 **movies_to_analyze** dictionary，可以開始看看使用者間的相似度了，以下是怎麼決定相似度的 pseudocode:\n",
    "```\n",
    "for user1 in movies_to_analyze\n",
    "    for user2 in movies_to_analyze\n",
    "        see how many movies match between the two users\n",
    "        if more than two movies in common\n",
    "            pull the overlapping movies\n",
    "            compute the distance/similarity metric between ratings on the same movies for the two users\n",
    "            store the users and the distance metric\n",
    "```\n",
    "\n",
    "但這會花很長的時間執行，但是其他方法又會超過記憶體大小，因此我們不會計算所有可能的配對，而是只看幾個特定的例子。\n",
    "\n",
    "我們要計算使用者間的 [correlation](https://pandas.pydata.org/pandas-docs/stable/generated/pandas.DataFrame.corr.html)。\n",
    "\n",
    "`4.` 使用 **movies_to_analyze** dictionary 和 **user_by_movie** dataframe 創造一個可以計算兩個使用者間的相似電影的評分的correlation"
   ]
  },
  {
   "cell_type": "code",
   "execution_count": 8,
   "metadata": {},
   "outputs": [],
   "source": [
    "def compute_correlation(user1, user2):\n",
    "    '''\n",
    "    INPUT\n",
    "    user1 - int user_id\n",
    "    user2 - int user_id\n",
    "    OUTPUT\n",
    "    the correlation between the matching ratings between the two users\n",
    "    '''\n",
    "    # Pull movies for each user\n",
    "    movies1 = movies_to_analyze[user1]\n",
    "    movies2 = movies_to_analyze[user2]\n",
    "    \n",
    "    # Find Similar Movies\n",
    "    sim_movs = np.intersect1d(movies1, movies2, assume_unique=True)\n",
    "    \n",
    "    # Calculate correlation between the users\n",
    "    df = user_by_movie.loc[(user1, user2), sim_movs]\n",
    "    corr = df.transpose().corr().iloc[0,1]\n",
    "    return corr #return the correlation"
   ]
  },
  {
   "cell_type": "markdown",
   "metadata": {},
   "source": [
    "### Why the NaN's?\n",
    "`5.` 為什麼我們會得到 **NaN** values? 就算是 users 2 和 104 有 **NaN** correlation，為什麼 NaNs 會存在呢? 這些 NaN's 使得 correlation coefficient 變得比較不適合做為衡量相似度的標準。"
   ]
  },
  {
   "cell_type": "code",
   "execution_count": 9,
   "metadata": {},
   "outputs": [
    {
     "data": {
      "text/html": [
       "<div>\n",
       "<style scoped>\n",
       "    .dataframe tbody tr th:only-of-type {\n",
       "        vertical-align: middle;\n",
       "    }\n",
       "\n",
       "    .dataframe tbody tr th {\n",
       "        vertical-align: top;\n",
       "    }\n",
       "\n",
       "    .dataframe thead th {\n",
       "        text-align: right;\n",
       "    }\n",
       "</style>\n",
       "<table border=\"1\" class=\"dataframe\">\n",
       "  <thead>\n",
       "    <tr style=\"text-align: right;\">\n",
       "      <th>user_id</th>\n",
       "      <th>2</th>\n",
       "      <th>104</th>\n",
       "    </tr>\n",
       "    <tr>\n",
       "      <th>user_id</th>\n",
       "      <th></th>\n",
       "      <th></th>\n",
       "    </tr>\n",
       "  </thead>\n",
       "  <tbody>\n",
       "    <tr>\n",
       "      <th>2</th>\n",
       "      <td>NaN</td>\n",
       "      <td>NaN</td>\n",
       "    </tr>\n",
       "    <tr>\n",
       "      <th>104</th>\n",
       "      <td>NaN</td>\n",
       "      <td>NaN</td>\n",
       "    </tr>\n",
       "  </tbody>\n",
       "</table>\n",
       "</div>"
      ],
      "text/plain": [
       "user_id  2    104\n",
       "user_id          \n",
       "2        NaN  NaN\n",
       "104      NaN  NaN"
      ]
     },
     "execution_count": 9,
     "metadata": {},
     "output_type": "execute_result"
    }
   ],
   "source": [
    "# Which movies did both user 2 and user 104 see?\n",
    "movies1 = movies_to_analyze[2]\n",
    "movies2 = movies_to_analyze[104]\n",
    "sim_movs = np.intersect1d(movies1, movies2, assume_unique=True)\n",
    "df = user_by_movie.loc[(2, 104), sim_movs]\n",
    "df.transpose().corr()"
   ]
  },
  {
   "cell_type": "markdown",
   "metadata": {},
   "source": [
    "> It's because there's no variance/ standard deviation in the second column and thus in the correlation coefficient calculation when you divide by std or var (however it's implemented) you're in turn dividing zero by zero which yield nan."
   ]
  },
  {
   "cell_type": "markdown",
   "metadata": {},
   "source": [
    "`6.` 因為 correlation coefficient 比較不適合，所以我們改用 euclidean distance between the ratings.　[this post](https://stackoverflow.com/questions/1401712/how-can-the-euclidean-distance-be-calculated-with-numpy) 對完成這個問題特別好用。"
   ]
  },
  {
   "cell_type": "code",
   "execution_count": 10,
   "metadata": {},
   "outputs": [],
   "source": [
    "def compute_euclidean_dist(user1, user2):\n",
    "    '''\n",
    "    INPUT\n",
    "    user1 - int user_id\n",
    "    user2 - int user_id\n",
    "    OUTPUT\n",
    "    the euclidean distance between user1 and user2\n",
    "    '''\n",
    "    # Pull movies for each user\n",
    "    movies1 = movies_to_analyze[user1]\n",
    "    movies2 = movies_to_analyze[user2]\n",
    "    \n",
    "    # Find Similar Movies\n",
    "    sim_movs = np.intersect1d(movies1, movies2, assume_unique=True)\n",
    "    \n",
    "    # Calculate euclidean distance between the users\n",
    "    df = user_by_movie.loc[(user1, user2), sim_movs]\n",
    "    dist = np.linalg.norm(df.loc[user1] - df.loc[user2])\n",
    "    \n",
    "    return dist #return the euclidean distance"
   ]
  },
  {
   "cell_type": "markdown",
   "metadata": {},
   "source": [
    "### Using the Nearest Neighbors to Make Recommendations\n",
    "\n",
    "`7.` Complete the functions below, which allow you to find the recommendations for any user.  There are five functions which you will need:\n",
    "\n",
    "* **find_closest_neighbors** - this returns a list of user_ids from closest neighbor to farthest neighbor using euclidean distance\n",
    "\n",
    "\n",
    "* **movies_liked** - returns an array of movie_ids\n",
    "\n",
    "\n",
    "* **movie_names** - takes the output of movies_liked and returns a list of movie names associated with the movie_ids\n",
    "\n",
    "\n",
    "* **make_recommendations** - takes a user id and goes through closest neighbors to return a list of movie names as recommendations\n",
    "\n",
    "\n",
    "* **all_recommendations** = loops through every user and returns a dictionary of with the key as a user_id and the value as a list of movie recommendations\n",
    "\n",
    "其中　df_dists　是包含所有可能距離的 dataframe"
   ]
  },
  {
   "cell_type": "code",
   "execution_count": 11,
   "metadata": {},
   "outputs": [],
   "source": [
    "def find_closest_neighbors(user):\n",
    "    '''\n",
    "    INPUT:\n",
    "        user - (int) the user_id of the individual you want to find the closest users\n",
    "    OUTPUT:\n",
    "        closest_neighbors - an array of the id's of the users sorted from closest to farthest away\n",
    "    '''\n",
    "    # I treated ties as arbitrary and just kept whichever was easiest to keep using the head method\n",
    "    # You might choose to do something less hand wavy - order the neighbors\n",
    "    closest_users = df_dists[df_dists['user1']==user].sort_values(by='eucl_dist').iloc[1:]['user2']\n",
    "    closest_neighbors = np.array(closest_users)\n",
    "    \n",
    "    return closest_neighbors\n",
    "    \n",
    "    \n",
    "    \n",
    "def movies_liked(user_id, min_rating=7):\n",
    "    '''\n",
    "    INPUT:\n",
    "    user_id - the user_id of an individual as int\n",
    "    min_rating - the minimum rating considered while still a movie is still a \"like\" and not a \"dislike\"\n",
    "    OUTPUT:\n",
    "    movies_liked - an array of movies the user has watched and liked\n",
    "    '''\n",
    "    movies_liked = np.array(user_items.query('user_id == @user_id and rating > (@min_rating -1)')['movie_id'])\n",
    "    return movies_liked\n",
    "\n",
    "\n",
    "def movie_names(movie_ids):\n",
    "    '''\n",
    "    INPUT\n",
    "    movie_ids - a list of movie_ids\n",
    "    OUTPUT\n",
    "    movies - a list of movie names associated with the movie_ids\n",
    "    \n",
    "    '''\n",
    "    movie_lst = list(movies[movies.movie_id.isin(movie_ids)].movie)\n",
    "\n",
    "    return movie_lst\n",
    "    \n",
    "    \n",
    "def make_recommendations(user, num_recs=10):\n",
    "    '''\n",
    "    INPUT:\n",
    "        user - (int) a user_id of the individual you want to make recommendations for\n",
    "        num_recs - (int) number of movies to return\n",
    "    OUTPUT:\n",
    "        recommendations - a list of movies - if there are \"num_recs\" recommendations return this many\n",
    "                          otherwise return the total number of recommendations available for the \"user\"\n",
    "                          which may just be an empty list\n",
    "    '''\n",
    "    # I wanted to make recommendations by pulling different movies than the user has already seen\n",
    "    # Go in order from closest to farthest to find movies you would recommend\n",
    "    # I also only considered movies where the closest user rated the movie as a 9 or 10\n",
    "    \n",
    "    # movies_seen by user (we don't want to recommend these)\n",
    "    movies_seen = movies_watched(user)\n",
    "    closest_neighbors = find_closest_neighbors(user)\n",
    "    \n",
    "    # Keep the recommended movies here\n",
    "    recs = np.array([])\n",
    "    \n",
    "    # Go through the neighbors and identify movies they like the user hasn't seen\n",
    "    for neighbor in closest_neighbors:\n",
    "        neighbs_likes = movies_liked(neighbor)\n",
    "        \n",
    "        #Obtain recommendations for each neighbor\n",
    "        new_recs = np.setdiff1d(neighbs_likes, movies_seen, assume_unique=True)\n",
    "        \n",
    "        # Update recs with new recs\n",
    "        recs = np.unique(np.concatenate([new_recs, recs], axis=0))\n",
    "        \n",
    "        # If we have enough recommendations exit the loop\n",
    "        if len(recs) > num_recs-1:\n",
    "            break\n",
    "    \n",
    "    # Pull movie titles using movie ids\n",
    "    recommendations = movie_names(recs)\n",
    "    \n",
    "    return recommendations\n",
    "\n",
    "def all_recommendations(num_recs=10):\n",
    "    '''\n",
    "    INPUT \n",
    "        num_recs (int) the (max) number of recommendations for each user\n",
    "    OUTPUT\n",
    "        all_recs - a dictionary where each key is a user_id and the value is an array of recommended movie titles\n",
    "    '''\n",
    "    # All the users we need to make recommendations for\n",
    "    users = np.unique(df_dists['user1'])\n",
    "    n_users = len(users)\n",
    "    \n",
    "    #Store all recommendations in this dictionary\n",
    "    all_recs = dict()\n",
    "    \n",
    "    # Make the recommendations for each user\n",
    "    for user in users:\n",
    "        all_recs[user] = make_recommendations(user, num_recs)\n",
    "    \n",
    "    return all_recs"
   ]
  }
 ],
 "metadata": {
  "kernelspec": {
   "display_name": "Python 3",
   "language": "python",
   "name": "python3"
  },
  "language_info": {
   "codemirror_mode": {
    "name": "ipython",
    "version": 3
   },
   "file_extension": ".py",
   "mimetype": "text/x-python",
   "name": "python",
   "nbconvert_exporter": "python",
   "pygments_lexer": "ipython3",
   "version": "3.7.1"
  }
 },
 "nbformat": 4,
 "nbformat_minor": 2
}
